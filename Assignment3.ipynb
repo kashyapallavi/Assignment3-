{
 "cells": [
  {
   "cell_type": "code",
   "execution_count": 270,
   "metadata": {},
   "outputs": [],
   "source": [
    "##importing required libraries\n",
    "import urllib\n",
    "import oauth2 as oauth\n",
    "import numpy as np\n",
    "#from twitter import twitter Api\n",
    "import json\n",
    "import tweepy\n",
    "import pandas as pd\n",
    "from datetime import datetime, date, time\n",
    "##sqlalchemy writes records to sqldatabase from pandas dataframe\n",
    "from sqlalchemy import create_engine\n",
    "engine = create_engine('sqlite://', echo=False)\n",
    "\n",
    "import sqlite3\n",
    "conn = sqlite3.connect(':memory:')\n",
    "c = conn.cursor()"
   ]
  },
  {
   "cell_type": "code",
   "execution_count": 271,
   "metadata": {},
   "outputs": [],
   "source": [
    "##Tweepy authentication keys\n",
    "consumer_key = 'iWITOrHfpfv68LsvlQizVKFxy'\n",
    "consumer_secret = 'oMbcTwv5SwwFboe52jYlMMJg2mveWYSNx0n81C3RFv8z8Yn1sY'\n",
    "access_token = '1094684633244094465-UVMHQ652DNqBsr5TNOLfRKlMZJxV7y'\n",
    "access_token_secret = 'YI6yaKszS8FXPTZ1tlg79NHNsrm8vZP5y8HqGXjLAlOmK'\n",
    "\n",
    "auth = tweepy.OAuthHandler(consumer_key, consumer_secret)\n",
    "auth.set_access_token(access_token, access_token_secret,)\n",
    "\n",
    "api = tweepy.API(auth)"
   ]
  },
  {
   "cell_type": "code",
   "execution_count": 272,
   "metadata": {},
   "outputs": [],
   "source": [
    "#Retriving data from user timelines\n",
    "results = api.user_timeline(screen_name= 'elonmusk', count=60)\n",
    "results1 = api.user_timeline(screen_name= 'tesla', count=20)\n",
    "results2 = api.user_timeline(screen_name= 'SpaceX', count=20)\n",
    "results3 = api.user_timeline(screen_name= 'boringcompany', count=20)\n",
    "results4 = api.user_timeline(screen_name= 'PayPal', count=20)\n",
    "# entity= pd.DataFrame(my_demo_list, columns = ['TweetId']) "
   ]
  },
  {
   "cell_type": "code",
   "execution_count": 273,
   "metadata": {},
   "outputs": [],
   "source": [
    "def json_file(screen_name,count):\n",
    "    result = api.user_timeline(screen_name, count)\n",
    "my_list_of_dicts = []\n",
    "for each_json_tweet in results:\n",
    "    my_list_of_dicts.append(each_json_tweet._json)\n",
    "    \n",
    "    \n",
    " \n",
    "\n",
    "    \n",
    " \n",
    "  "
   ]
  },
  {
   "cell_type": "code",
   "execution_count": 274,
   "metadata": {},
   "outputs": [],
   "source": [
    "#-----------------------------------------------------------------------\n",
    "# Retrieving User's timeline\n",
    "# \n",
    "#-----------------------------------------------------------------------\n",
    "#Calling a function\n",
    "json_file('elonmusk', 60)\n",
    "    \n",
    "with open('tweet_json.txt', 'w') as file:\n",
    "        file.write(json.dumps(my_list_of_dicts, indent=4))\n",
    "my_demo_list= []\n",
    "with open('tweet_json.txt', encoding='utf-8') as json_file:  \n",
    "    all_data = json.load(json_file)\n",
    "    \n",
    "        \n",
    "        \n",
    "    for each_dictionary in all_data:\n",
    "        UserTweetId = each_dictionary['id']\n",
    "        Favourites_count = each_dictionary['user']['favourites_count']\n",
    "        Tweets = each_dictionary['text']\n",
    "        Favourites_tweets = each_dictionary['favorite_count']\n",
    "        Followers_count = each_dictionary['user']['followers_count']\n",
    "        Retweet_count = each_dictionary['retweet_count']\n",
    "        TweetTime = each_dictionary['created_at']\n",
    "        UserId = each_dictionary['user']['id']\n",
    "        Name =each_dictionary['user']['name'].split(' ', 1)\n",
    "        FirstName = Name[0]\n",
    "        LastName=Name[1]\n",
    "        \n",
    "        #Hashtags = each_dictionary['entities']['hashtags']       \n",
    "        my_demo_list.append({'UserTweetId': str(UserTweetId),\n",
    "                             'Tweets': str(Tweets),\n",
    "                             'Favourites_count': int(Favourites_count),\n",
    "                             'Favourites_tweets': int(Favourites_tweets),\n",
    "                             'Retweet_count': int(Retweet_count),\n",
    "                             'UserId': int(UserId),\n",
    "                             #'Hashtags' : str(Hashtags),\n",
    "                             'Followers_count' : int(Followers_count),\n",
    "                             'FirstName' : str(FirstName),\n",
    "                             'LastName' : str(LastName),\n",
    "                             'TweetTime': datetime.strptime(TweetTime,'%a %b %d %H:%M:%S +0000 %Y')\n",
    "                            })\n",
    "        \n",
    "        producer = pd.DataFrame(my_demo_list, columns = ['UserTweetId','Tweets', 'TweetTime' , 'Retweet_count','UserId', 'FirstName', 'LastName','Followers_count',\n",
    "                                                   'Favourites_tweets', 'Favourites_count'\n",
    "                                                   #'Hashtags'\n",
    "                                                    \n",
    "                                                    ]) "
   ]
  },
  {
   "cell_type": "code",
   "execution_count": 275,
   "metadata": {},
   "outputs": [],
   "source": [
    " producer = pd.DataFrame(my_demo_list, columns = ['UserTweetId','Tweets', 'TweetTime' , 'Retweet_count','UserId', 'FirstName', 'LastName','Followers_count',\n",
    "                                                   'Favourites_tweets', 'Favourites_count'\n",
    "                                                   #'Hashtags'\n",
    "                                                    \n",
    "                                                    ]) \n",
    "\n",
    "#Checking the first Normal Form\n",
    "#No Repeating groups = Done\n",
    "#Data Values are atomic = Done\n",
    "#Each field has different name = Done\n",
    "#It has a primary key = Done\n"
   ]
  },
  {
   "cell_type": "code",
   "execution_count": 276,
   "metadata": {},
   "outputs": [],
   "source": [
    "#-------------------------------------------------\n",
    "#    Checking the second normal form (2NF)\n",
    "#\n",
    "#-------------------------------------------------\n",
    "producer = pd.DataFrame(my_demo_list, columns = ['UserTweetId','Tweets', 'TweetTime' , 'Retweet_count','UserId', 'FirstName', 'LastName','Followers_count',\n",
    "                                                   'Favourites_tweets', 'Favourites_count'\n",
    "                                                 ]) \n",
    "\n",
    "#Converting producer into second normal form\n",
    "Tweets = pd.DataFrame(my_demo_list, columns = ['UserTweetId', 'Tweets', 'TweetTime' , 'Favourites_tweets', 'Retweet_count', 'UserId'  ])\n",
    "\n",
    "\n",
    "\n",
    "User = pd.DataFrame(my_demo_list, columns = ['UserId', 'FirstName', 'LastName', 'Followers_count', 'Favourites_count' ]) \n",
    "\n",
    "\n",
    "#It is in the First Normal Form =Done\n",
    "#All non key attributes are dependent on ALL parts of primary key =Done\n",
    "#Each Field has a unique name =Done\n",
    "#It has a primary key  =Done"
   ]
  },
  {
   "cell_type": "code",
   "execution_count": 277,
   "metadata": {},
   "outputs": [],
   "source": [
    "#---------------------------------------\n",
    "#   Checking third normal form\n",
    "#---------------------------------------\n",
    "\n",
    "Tweets = pd.DataFrame(my_demo_list, columns = ['UserTweetId', 'Tweets', 'TweetTime' , 'Favourites_tweets', 'Retweet_count'  ])\n",
    "\n",
    "#Converting Tweets into third normal form\n",
    "User_tweet_info = pd.DataFrame(my_demo_list, columns = [ 'UserTweetId' ,'Favourites_tweets', 'Retweet_count' ])\n",
    "Tweets = pd.DataFrame(my_demo_list, columns = ['UserTweetId', 'Tweets', 'TweetTime' , 'UserId'])\n",
    "\n",
    "#It should be in second normal form = Done\n",
    "#All non-key attribute are not dependent on other non key attribute = Done\n",
    "#Each field has a unique name = Done\n",
    "#Each field has a primary key = Done"
   ]
  },
  {
   "cell_type": "code",
   "execution_count": 280,
   "metadata": {},
   "outputs": [],
   "source": [
    "#-------------------------------------\n",
    "# TABLE ON USER\n",
    "#-------------------------------------\n",
    "import sqlite3\n",
    "conn = sqlite3.connect(':memory:')\n",
    "c = conn.cursor()\n",
    "User.to_sql('User', con=conn, if_exists='replace')\n",
    "User_tweet_info.to_sql('User_tweet_info', con=conn, if_exists='replace')\n",
    "Tweets.to_sql('Tweets', con=conn, if_exists='replace')"
   ]
  },
  {
   "cell_type": "code",
   "execution_count": 281,
   "metadata": {},
   "outputs": [
    {
     "data": {
      "text/html": [
       "<div>\n",
       "<style scoped>\n",
       "    .dataframe tbody tr th:only-of-type {\n",
       "        vertical-align: middle;\n",
       "    }\n",
       "\n",
       "    .dataframe tbody tr th {\n",
       "        vertical-align: top;\n",
       "    }\n",
       "\n",
       "    .dataframe thead th {\n",
       "        text-align: right;\n",
       "    }\n",
       "</style>\n",
       "<table border=\"1\" class=\"dataframe\">\n",
       "  <thead>\n",
       "    <tr style=\"text-align: right;\">\n",
       "      <th></th>\n",
       "      <th>Tweets</th>\n",
       "      <th>Favourites_tweets</th>\n",
       "      <th>TweetTime</th>\n",
       "    </tr>\n",
       "  </thead>\n",
       "  <tbody>\n",
       "    <tr>\n",
       "      <th>0</th>\n",
       "      <td>RT @Teslarati: First look at a Tesla Model 3 d...</td>\n",
       "      <td>0</td>\n",
       "      <td>2019-03-23 16:19:24</td>\n",
       "    </tr>\n",
       "    <tr>\n",
       "      <th>1</th>\n",
       "      <td>RT @InsideEVs: Tesla Model 3 Easily Outsold Al...</td>\n",
       "      <td>0</td>\n",
       "      <td>2019-03-22 13:43:41</td>\n",
       "    </tr>\n",
       "    <tr>\n",
       "      <th>2</th>\n",
       "      <td>@gadgetkc @ideasforEM @Tesla About to be upgra...</td>\n",
       "      <td>1822</td>\n",
       "      <td>2019-03-22 12:58:44</td>\n",
       "    </tr>\n",
       "  </tbody>\n",
       "</table>\n",
       "</div>"
      ],
      "text/plain": [
       "                                              Tweets  Favourites_tweets  \\\n",
       "0  RT @Teslarati: First look at a Tesla Model 3 d...                  0   \n",
       "1  RT @InsideEVs: Tesla Model 3 Easily Outsold Al...                  0   \n",
       "2  @gadgetkc @ideasforEM @Tesla About to be upgra...               1822   \n",
       "\n",
       "             TweetTime  \n",
       "0  2019-03-23 16:19:24  \n",
       "1  2019-03-22 13:43:41  \n",
       "2  2019-03-22 12:58:44  "
      ]
     },
     "execution_count": 281,
     "metadata": {},
     "output_type": "execute_result"
    }
   ],
   "source": [
    "#-----------------------------\n",
    "# VIEW ON USER\n",
    "#-----------------------------\n",
    "\n",
    "c.execute(\"CREATE VIEW IF NOT EXISTS Elon_View AS SELECT tp.Tweets, up.Favourites_tweets, tp.TweetTime FROM User_tweet_info up JOIN Tweets tp  ON up.UserTweetId = tp.UserTweetId\")\n",
    "pd.read_sql_query(\"SELECT  Tweets, Favourites_tweets, TweetTime  FROM Elon_View limit 3\", con=conn)"
   ]
  },
  {
   "cell_type": "code",
   "execution_count": 282,
   "metadata": {},
   "outputs": [
    {
     "data": {
      "text/plain": [
       "<sqlite3.Cursor at 0x167ff4c73b0>"
      ]
     },
     "execution_count": 282,
     "metadata": {},
     "output_type": "execute_result"
    }
   ],
   "source": [
    "#-----------------------------\n",
    "# Index ON USER\n",
    "#-----------------------------\n",
    "\n",
    "c.execute(\"CREATE INDEX IF NOT EXISTS IX_Elon_index_UserTweetId  ON User_tweet_info (UserTweetId ASC)\")\n",
    "\n"
   ]
  },
  {
   "cell_type": "code",
   "execution_count": 283,
   "metadata": {},
   "outputs": [],
   "source": [
    "#-----------------------------\n",
    "# Function ON USER\n",
    "#-----------------------------\n",
    "\n",
    "\n",
    "#c.execute(\"CREATE function Elon_Funct (i_TweetId number) RETURN varchar2 AS v_Tweets varchar2(50); BEGIN SELECT Tweets INTO v_Tweets FROM Tweets WHERE UserTweetId = i_UserTweetId; RETURN v_Tweets; END;\")"
   ]
  },
  {
   "cell_type": "code",
   "execution_count": 284,
   "metadata": {},
   "outputs": [],
   "source": [
    "#-----------------------------\n",
    "# Procedure ON USER\n",
    "#-----------------------------\n",
    "\n",
    "\n",
    "# c.execute(\"CREATE PROCEDURE IF NOT EXISTS sp_TWEET_COUNT CURSOR c_tweet_count IS SELECT count(tp.Tweets), up.Favourites_tweets, tp.TweetTime FROM User_tweet_info up JOIN Tweets tp  ON up.UserTweetId = tp.UserTweetId begin FOR r_c_tweet_count IN c_tweet_count LOOP UPDATE Tweets SET Tweets = ' ' ); END LOOP; END;\" ) \n"
   ]
  },
  {
   "cell_type": "code",
   "execution_count": 285,
   "metadata": {},
   "outputs": [],
   "source": [
    "#-----------------------------------------------------------------------\n",
    "# Retrieving user's friends\n",
    "#-----------------------------------------------------------------------\n",
    "\n",
    "username = \"elonmusk\"\n",
    "\n",
    "\n",
    "query = api.friends(screen_name = username, count = 50)\n",
    "my_list_of_friends = []\n",
    "for each_friends in query:\n",
    "    my_list_of_friends.append(each_friends._json)\n",
    "    with open('friends_json.txt', 'w') as file:\n",
    "        file.write(json.dumps(my_list_of_friends, indent=4))\n",
    "        my_friends_list = []\n",
    "with open('friends_json.txt', encoding='utf-8') as friends_file:  \n",
    "    friends_data = json.load(friends_file)\n",
    "   \n",
    "    \n",
    "    for each_friend in friends_data:\n",
    "     \n",
    "        User_FriendId = each_friend['id']\n",
    "        User_FriendsName =each_friend['name']\n",
    "        Location = each_friend['location'].split('&', 1)\n",
    "        Location1 = Location[0]\n",
    "        Location2 = Location1.split(',',1)\n",
    "        Location3 = Location2[0]\n",
    "        #Location4 = Location2[1]\n",
    "        Description = each_friend['description']\n",
    "        Favourites = each_friend['favourites_count']\n",
    "        Followers=each_friend['followers_count']\n",
    "        Friends=each_friend['friends_count']\n",
    "        CreatedTime = each_friend['created_at']\n",
    "        StatusId = each_friend['status']['id']\n",
    "        Status = each_friend['status']['text']\n",
    "        Status_createdTime = each_friend['status']['created_at']\n",
    "#         UserId = each_dictionary['user_mentions']['id']\n",
    "#         Name = each_dictionary['entities']['user_mentions']['name']\n",
    "        \n",
    "        \n",
    "        my_friends_list.append({'User_FriendId': str(User_FriendId),\n",
    "                             'User_FriendsName': str(User_FriendsName),\n",
    "                             'Location':    str(Location3),\n",
    "                             #'Location4' : str(Location4),\n",
    "                             'Description': str(Description),\n",
    "                             'Followers': int(Followers),\n",
    "                             'Favourites': int(Favourites),\n",
    "                             'Friends': int(Friends),                             \n",
    "                             'CreatedTime': datetime.strptime(CreatedTime,'%a %b %d %H:%M:%S +0000 %Y'),\n",
    "                             'StatusId' : int(StatusId),\n",
    "                             'Status' : str(Status),\n",
    "                             'Status_createdTime': datetime.strptime(Status_createdTime,'%a %b %d %H:%M:%S +0000 %Y')\n",
    "                            })\n",
    "        \n",
    "        Consumer1 = pd.DataFrame(my_friends_list, columns = \n",
    "                                  [ 'User_FriendId','User_FriendsName','Location','Followers', 'Favourites', 'Friends' ,\n",
    "                                   'Description' ,'CreatedTime', 'StatusId','Status' , 'Status_createdTime'  \n",
    "                                   \n",
    "                                  ])"
   ]
  },
  {
   "cell_type": "code",
   "execution_count": 286,
   "metadata": {},
   "outputs": [],
   "source": [
    "#Checking the first Normal Form\n",
    "\n",
    "Consumer1 = pd.DataFrame(my_friends_list, columns = \n",
    "                                  [ 'User_FriendId','User_FriendsName','Location','Followers', 'Favourites', 'Friends' ,\n",
    "                                   'Description' ,'CreatedTime', 'StatusId','Status' , 'Status_createdTime'  \n",
    "                                   \n",
    "                                  ])\n",
    "\n",
    "#No Repeating groups = Done\n",
    "#Data Values are atomic = Done\n",
    "#Each field has different name = Done\n",
    "#It has a primary key = Done"
   ]
  },
  {
   "cell_type": "code",
   "execution_count": 287,
   "metadata": {},
   "outputs": [],
   "source": [
    "#Checking the second normal form (2NF)\n",
    "\n",
    "\n",
    "Consumer1 = pd.DataFrame(my_friends_list, columns = \n",
    "                                  [ 'User_FriendId','User_FriendsName','Location', 'Description','Followers', 'Favourites', 'Friends' \n",
    "                                    ,'CreatedTime', 'StatusId','Status' , 'Status_createdTime'  \n",
    "                                   \n",
    "                                  ])\n",
    "\n",
    "#Converting Consumer1 into second form\n",
    "\n",
    "Friends_db = pd.DataFrame(my_friends_list, columns = \n",
    "                                  [ 'User_FriendId','User_FriendsName','Location', 'Description','Followers', 'Favourites', 'Friends' , 'CreatedTime'\n",
    "                                   ])\n",
    "Friends_Status = pd.DataFrame(my_friends_list, columns = ['StatusId','Status' , 'Status_createdTime', 'User_FriendId'])\n",
    "\n",
    "\n",
    "\n",
    "#It is in the First Normal Form =Done\n",
    "#All non key attributes are dependent on ALL parts of primary key =Done\n",
    "#Each Field has a unique name = done\n",
    "#It has a primary key = done\n"
   ]
  },
  {
   "cell_type": "code",
   "execution_count": 288,
   "metadata": {},
   "outputs": [],
   "source": [
    "#--------------------------------\n",
    "#Checking third normal form\n",
    "#--------------------------------\n",
    "Friends_db = pd.DataFrame(my_friends_list, columns = \n",
    "                                  [ 'User_FriendId','User_FriendsName','Location', 'Description','Followers', 'Favourites', 'Friends', 'CreatedTime' \n",
    "                                   ])\n",
    "#Converting Friends_db into third normal form\n",
    "\n",
    "Friends_profile = pd.DataFrame(my_friends_list, columns = \n",
    "                                  [ 'User_FriendId','User_FriendsName','Location', 'Description' , 'CreatedTime'\n",
    "                                   ])\n",
    "Friends_info = pd.DataFrame(my_friends_list, columns = \n",
    "                                  [ 'User_FriendId','Followers', 'Favourites', 'Friends'])\n",
    "\n",
    "#It should be in second normal form = Done\n",
    "#All non-key attribute are not dependent on other non key attribute =Done\n",
    "#Each field has a unique name= done\n",
    "#Each field has a primary key = done"
   ]
  },
  {
   "cell_type": "code",
   "execution_count": 291,
   "metadata": {},
   "outputs": [],
   "source": [
    "#-------------------------------------\n",
    "# TABLE ON Friends\n",
    "#-------------------------------------\n",
    "import sqlite3\n",
    "conn = sqlite3.connect(':memory:')\n",
    "c = conn.cursor()\n",
    "Friends_profile.to_sql('Friends_profile', con=conn, if_exists='replace')\n",
    "Friends_info.to_sql('Friends_info', con=conn, if_exists='replace')\n",
    "Friends_Status.to_sql('Friends_Status', con=conn, if_exists='replace')\n"
   ]
  },
  {
   "cell_type": "code",
   "execution_count": 292,
   "metadata": {},
   "outputs": [
    {
     "data": {
      "text/html": [
       "<div>\n",
       "<style scoped>\n",
       "    .dataframe tbody tr th:only-of-type {\n",
       "        vertical-align: middle;\n",
       "    }\n",
       "\n",
       "    .dataframe tbody tr th {\n",
       "        vertical-align: top;\n",
       "    }\n",
       "\n",
       "    .dataframe thead th {\n",
       "        text-align: right;\n",
       "    }\n",
       "</style>\n",
       "<table border=\"1\" class=\"dataframe\">\n",
       "  <thead>\n",
       "    <tr style=\"text-align: right;\">\n",
       "      <th></th>\n",
       "      <th>User_FriendsName</th>\n",
       "      <th>Location</th>\n",
       "      <th>Followers</th>\n",
       "      <th>Friends</th>\n",
       "    </tr>\n",
       "  </thead>\n",
       "  <tbody>\n",
       "    <tr>\n",
       "      <th>0</th>\n",
       "      <td>Mars</td>\n",
       "      <td>The Milkyway Galaxy</td>\n",
       "      <td>19448</td>\n",
       "      <td>52</td>\n",
       "    </tr>\n",
       "    <tr>\n",
       "      <th>1</th>\n",
       "      <td>The Onion</td>\n",
       "      <td></td>\n",
       "      <td>11079759</td>\n",
       "      <td>14</td>\n",
       "    </tr>\n",
       "    <tr>\n",
       "      <th>2</th>\n",
       "      <td>BBC Science News</td>\n",
       "      <td>London</td>\n",
       "      <td>1377740</td>\n",
       "      <td>79</td>\n",
       "    </tr>\n",
       "  </tbody>\n",
       "</table>\n",
       "</div>"
      ],
      "text/plain": [
       "   User_FriendsName             Location  Followers  Friends\n",
       "0              Mars  The Milkyway Galaxy      19448       52\n",
       "1         The Onion                        11079759       14\n",
       "2  BBC Science News               London    1377740       79"
      ]
     },
     "execution_count": 292,
     "metadata": {},
     "output_type": "execute_result"
    }
   ],
   "source": [
    "#-----------------------------\n",
    "# VIEW ON Friends\n",
    "#-----------------------------\n",
    "\n",
    "\n",
    "c.execute(\"CREATE VIEW IF NOT EXISTS Elon_Friends AS SELECT fp.User_FriendsName, fp.Location, fp.CreatedTime,  fin.Followers, fin.Friends FROM Friends_profile fp JOIN Friends_info fin ON fp.User_FriendId = fin.User_FriendId\")\n",
    "pd.read_sql_query(\"SELECT  User_FriendsName, Location, Followers , Friends  FROM Elon_Friends limit 3\", con=conn)"
   ]
  },
  {
   "cell_type": "code",
   "execution_count": 293,
   "metadata": {},
   "outputs": [
    {
     "data": {
      "text/plain": [
       "<sqlite3.Cursor at 0x167ffaf9730>"
      ]
     },
     "execution_count": 293,
     "metadata": {},
     "output_type": "execute_result"
    }
   ],
   "source": [
    "#-----------------------------\n",
    "# Index ON Friends\n",
    "#-----------------------------\n",
    "\n",
    "c.execute(\"CREATE INDEX IF NOT EXISTS IX_Elon_Friends_Followers  ON Friends_info  (Followers ASC)\")\n",
    "\n"
   ]
  },
  {
   "cell_type": "code",
   "execution_count": 294,
   "metadata": {},
   "outputs": [],
   "source": [
    "#-----------------------------\n",
    "# Function ON Friends\n",
    "#-----------------------------\n",
    "\n",
    "\n",
    "#c.execute(\"CREATE function Elon_Friend_funct (i_User_FriendId number) RETURN varchar2 AS v_Location varchar2(50); BEGIN SELECT Location INTO v_Location FROM Friends_profile WHERE User_FriendId = i_User_FriendId; RETURN v_Location; END;\")"
   ]
  },
  {
   "cell_type": "code",
   "execution_count": 295,
   "metadata": {},
   "outputs": [],
   "source": [
    "#-----------------------------\n",
    "# Procedure ON Friends\n",
    "#-----------------------------\n",
    "\n",
    "\n",
    "# c.execute(\"CREATE PROCEDURE IF NOT EXISTS sp_Followers_COUNT CURSOR c_follower_count IS SELECT fp.User_FriendsName, fp.Location, fp.CreatedTime,  count(fin.Followers), fin.Friends FROM Friends_profile fp JOIN Friends_info fin ON fp.User_FriendId = fin.User_FriendId begin FOR r_c_follower_count IN c_follower_count LOOP UPDATE Friends_profile SET User_FriendsName = ' ' ); END LOOP; END;\" ) \n"
   ]
  },
  {
   "cell_type": "code",
   "execution_count": 296,
   "metadata": {},
   "outputs": [
    {
     "name": "stdout",
     "output_type": "stream",
     "text": [
      "[{'id': 3456810561, 'id_str': '3456810561', 'name': 'King K', 'screen_name': 'KMokgaotsane', 'location': 'outchea on the streets', 'description': 'I keep it Ben Franklin(💯) all day errday.           \\n\\n\\n\\n\\nInsta:- kgotla_makaveli', 'url': None, 'entities': {'description': {'urls': []}}, 'protected': False, 'followers_count': 303, 'friends_count': 485, 'listed_count': 0, 'created_at': 'Thu Aug 27 10:45:47 +0000 2015', 'favourites_count': 814, 'utc_offset': None, 'time_zone': None, 'geo_enabled': False, 'verified': False, 'statuses_count': 626, 'lang': 'en', 'status': {'created_at': 'Sat Mar 23 22:38:36 +0000 2019', 'id': 1109585262567395328, 'id_str': '1109585262567395328', 'text': 'Next week will be with my niggas, Di nako nyana tse go tla a bo e le gone go ikgogelwang malapeng 😂😂😂', 'truncated': False, 'entities': {'hashtags': [], 'symbols': [], 'user_mentions': [], 'urls': []}, 'source': '<a href=\"http://twitter.com/download/android\" rel=\"nofollow\">Twitter for Android</a>', 'in_reply_to_status_id': None, 'in_reply_to_status_id_str': None, 'in_reply_to_user_id': None, 'in_reply_to_user_id_str': None, 'in_reply_to_screen_name': None, 'geo': None, 'coordinates': None, 'place': None, 'contributors': None, 'is_quote_status': False, 'retweet_count': 0, 'favorite_count': 0, 'favorited': False, 'retweeted': False, 'lang': 'tl'}, 'contributors_enabled': False, 'is_translator': False, 'is_translation_enabled': False, 'profile_background_color': 'C0DEED', 'profile_background_image_url': 'http://abs.twimg.com/images/themes/theme1/bg.png', 'profile_background_image_url_https': 'https://abs.twimg.com/images/themes/theme1/bg.png', 'profile_background_tile': False, 'profile_image_url': 'http://pbs.twimg.com/profile_images/1080466281239928832/jQiBn0-Z_normal.jpg', 'profile_image_url_https': 'https://pbs.twimg.com/profile_images/1080466281239928832/jQiBn0-Z_normal.jpg', 'profile_link_color': '1DA1F2', 'profile_sidebar_border_color': 'C0DEED', 'profile_sidebar_fill_color': 'DDEEF6', 'profile_text_color': '333333', 'profile_use_background_image': True, 'has_extended_profile': True, 'default_profile': True, 'default_profile_image': False, 'following': False, 'live_following': False, 'follow_request_sent': False, 'notifications': False, 'muting': False, 'blocking': False, 'blocked_by': False, 'translator_type': 'none'}, {'id': 1049010527643611136, 'id_str': '1049010527643611136', 'name': 'Laura T', 'screen_name': 'LauraTheAura10', 'location': '', 'description': '', 'url': None, 'entities': {'description': {'urls': []}}, 'protected': False, 'followers_count': 0, 'friends_count': 80, 'listed_count': 0, 'created_at': 'Sun Oct 07 18:56:14 +0000 2018', 'favourites_count': 0, 'utc_offset': None, 'time_zone': None, 'geo_enabled': False, 'verified': False, 'statuses_count': 1, 'lang': 'en', 'status': {'created_at': 'Sat Mar 23 23:26:34 +0000 2019', 'id': 1109597332457312258, 'id_str': '1109597332457312258', 'text': '@georgiaEtennant @theresa_may What happened, G? You used to be cool', 'truncated': False, 'entities': {'hashtags': [], 'symbols': [], 'user_mentions': [{'screen_name': 'georgiaEtennant', 'name': 'Georgia Tennant', 'id': 884649543777886209, 'id_str': '884649543777886209', 'indices': [0, 16]}, {'screen_name': 'theresa_may', 'name': 'Theresa May', 'id': 747807250819981312, 'id_str': '747807250819981312', 'indices': [17, 29]}], 'urls': []}, 'source': '<a href=\"http://twitter.com\" rel=\"nofollow\">Twitter Web Client</a>', 'in_reply_to_status_id': 1109507619671195654, 'in_reply_to_status_id_str': '1109507619671195654', 'in_reply_to_user_id': 884649543777886209, 'in_reply_to_user_id_str': '884649543777886209', 'in_reply_to_screen_name': 'georgiaEtennant', 'geo': None, 'coordinates': None, 'place': None, 'contributors': None, 'is_quote_status': False, 'retweet_count': 0, 'favorite_count': 0, 'favorited': False, 'retweeted': False, 'lang': 'en'}, 'contributors_enabled': False, 'is_translator': False, 'is_translation_enabled': False, 'profile_background_color': 'F5F8FA', 'profile_background_image_url': None, 'profile_background_image_url_https': None, 'profile_background_tile': False, 'profile_image_url': 'http://pbs.twimg.com/profile_images/1109597131944407042/ZN2CEaZu_normal.png', 'profile_image_url_https': 'https://pbs.twimg.com/profile_images/1109597131944407042/ZN2CEaZu_normal.png', 'profile_link_color': '1DA1F2', 'profile_sidebar_border_color': 'C0DEED', 'profile_sidebar_fill_color': 'DDEEF6', 'profile_text_color': '333333', 'profile_use_background_image': True, 'has_extended_profile': False, 'default_profile': True, 'default_profile_image': False, 'following': False, 'live_following': False, 'follow_request_sent': False, 'notifications': False, 'muting': False, 'blocking': False, 'blocked_by': False, 'translator_type': 'none'}, {'id': 1109596681547513856, 'id_str': '1109596681547513856', 'name': 'Ahmed \\u200c\\u200c🇪\\u200c🇱\\u200c🇭\\u200c🇦\\u200c🇩\\u200c🇮', 'screen_name': 'Ahmed60052048', 'location': '', 'description': 'آبًوٌآنِسِ', 'url': None, 'entities': {'description': {'urls': []}}, 'protected': False, 'followers_count': 0, 'friends_count': 54, 'listed_count': 0, 'created_at': 'Sat Mar 23 23:23:58 +0000 2019', 'favourites_count': 0, 'utc_offset': None, 'time_zone': None, 'geo_enabled': False, 'verified': False, 'statuses_count': 0, 'lang': 'en', 'contributors_enabled': False, 'is_translator': False, 'is_translation_enabled': False, 'profile_background_color': 'F5F8FA', 'profile_background_image_url': None, 'profile_background_image_url_https': None, 'profile_background_tile': False, 'profile_image_url': 'http://pbs.twimg.com/profile_images/1109597782225100800/nevbfdBt_normal.jpg', 'profile_image_url_https': 'https://pbs.twimg.com/profile_images/1109597782225100800/nevbfdBt_normal.jpg', 'profile_link_color': '1DA1F2', 'profile_sidebar_border_color': 'C0DEED', 'profile_sidebar_fill_color': 'DDEEF6', 'profile_text_color': '333333', 'profile_use_background_image': True, 'has_extended_profile': False, 'default_profile': True, 'default_profile_image': False, 'following': False, 'live_following': False, 'follow_request_sent': False, 'notifications': False, 'muting': False, 'blocking': False, 'blocked_by': False, 'translator_type': 'none'}, {'id': 1109598326977150976, 'id_str': '1109598326977150976', 'name': 'Sheyla Escobar', 'screen_name': 'SheylaEscobar4', 'location': '', 'description': 'HeLLO🌞', 'url': None, 'entities': {'description': {'urls': []}}, 'protected': False, 'followers_count': 0, 'friends_count': 20, 'listed_count': 0, 'created_at': 'Sat Mar 23 23:30:31 +0000 2019', 'favourites_count': 0, 'utc_offset': None, 'time_zone': None, 'geo_enabled': False, 'verified': False, 'statuses_count': 0, 'lang': 'en', 'contributors_enabled': False, 'is_translator': False, 'is_translation_enabled': False, 'profile_background_color': 'F5F8FA', 'profile_background_image_url': None, 'profile_background_image_url_https': None, 'profile_background_tile': False, 'profile_image_url': 'http://abs.twimg.com/sticky/default_profile_images/default_profile_normal.png', 'profile_image_url_https': 'https://abs.twimg.com/sticky/default_profile_images/default_profile_normal.png', 'profile_link_color': '1DA1F2', 'profile_sidebar_border_color': 'C0DEED', 'profile_sidebar_fill_color': 'DDEEF6', 'profile_text_color': '333333', 'profile_use_background_image': True, 'has_extended_profile': False, 'default_profile': True, 'default_profile_image': True, 'following': False, 'live_following': False, 'follow_request_sent': False, 'notifications': False, 'muting': False, 'blocking': False, 'blocked_by': False, 'translator_type': 'none'}, {'id': 1109597884981354497, 'id_str': '1109597884981354497', 'name': 'HopeNelson', 'screen_name': 'HopeNel64340165', 'location': '', 'description': '', 'url': None, 'entities': {'description': {'urls': []}}, 'protected': False, 'followers_count': 0, 'friends_count': 19, 'listed_count': 0, 'created_at': 'Sat Mar 23 23:28:45 +0000 2019', 'favourites_count': 0, 'utc_offset': None, 'time_zone': None, 'geo_enabled': False, 'verified': False, 'statuses_count': 0, 'lang': 'en', 'contributors_enabled': False, 'is_translator': False, 'is_translation_enabled': False, 'profile_background_color': 'F5F8FA', 'profile_background_image_url': None, 'profile_background_image_url_https': None, 'profile_background_tile': False, 'profile_image_url': 'http://pbs.twimg.com/profile_images/1109598117488480257/fNo9iSpo_normal.jpg', 'profile_image_url_https': 'https://pbs.twimg.com/profile_images/1109598117488480257/fNo9iSpo_normal.jpg', 'profile_link_color': '1DA1F2', 'profile_sidebar_border_color': 'C0DEED', 'profile_sidebar_fill_color': 'DDEEF6', 'profile_text_color': '333333', 'profile_use_background_image': True, 'has_extended_profile': False, 'default_profile': True, 'default_profile_image': False, 'following': False, 'live_following': False, 'follow_request_sent': False, 'notifications': False, 'muting': False, 'blocking': False, 'blocked_by': False, 'translator_type': 'none'}, {'id': 750167786, 'id_str': '750167786', 'name': '無月', 'screen_name': 'elisekurosaki', 'location': 'lille', 'description': 'éclectisme musical et beaucoup de houblon // everything will be daijoubu in the end // 日本語の大学生', 'url': 'https://t.co/rGj1ABe9eO', 'entities': {'url': {'urls': [{'url': 'https://t.co/rGj1ABe9eO', 'expanded_url': 'https://soundcloud.com/elisekurosaki', 'display_url': 'soundcloud.com/elisekurosaki', 'indices': [0, 23]}]}, 'description': {'urls': []}}, 'protected': True, 'followers_count': 129, 'friends_count': 207, 'listed_count': 31, 'created_at': 'Fri Aug 10 22:27:44 +0000 2012', 'favourites_count': 24119, 'utc_offset': None, 'time_zone': None, 'geo_enabled': True, 'verified': False, 'statuses_count': 54353, 'lang': 'fr', 'contributors_enabled': False, 'is_translator': False, 'is_translation_enabled': False, 'profile_background_color': 'C0DEED', 'profile_background_image_url': 'http://abs.twimg.com/images/themes/theme1/bg.png', 'profile_background_image_url_https': 'https://abs.twimg.com/images/themes/theme1/bg.png', 'profile_background_tile': True, 'profile_image_url': 'http://pbs.twimg.com/profile_images/1106245623316131841/1hy_bTJi_normal.jpg', 'profile_image_url_https': 'https://pbs.twimg.com/profile_images/1106245623316131841/1hy_bTJi_normal.jpg', 'profile_banner_url': 'https://pbs.twimg.com/profile_banners/750167786/1552774042', 'profile_link_color': '298899', 'profile_sidebar_border_color': '000000', 'profile_sidebar_fill_color': 'DDEEF6', 'profile_text_color': '333333', 'profile_use_background_image': True, 'has_extended_profile': True, 'default_profile': False, 'default_profile_image': False, 'following': False, 'live_following': False, 'follow_request_sent': False, 'notifications': False, 'muting': False, 'blocking': False, 'blocked_by': False, 'translator_type': 'regular'}, {'id': 1109598416722489344, 'id_str': '1109598416722489344', 'name': 'Itsmedurni', 'screen_name': 'itsmedurni', 'location': '', 'description': 'Fragile heart ❣', 'url': None, 'entities': {'description': {'urls': []}}, 'protected': False, 'followers_count': 0, 'friends_count': 72, 'listed_count': 0, 'created_at': 'Sat Mar 23 23:30:52 +0000 2019', 'favourites_count': 0, 'utc_offset': None, 'time_zone': None, 'geo_enabled': False, 'verified': False, 'statuses_count': 0, 'lang': 'en', 'contributors_enabled': False, 'is_translator': False, 'is_translation_enabled': False, 'profile_background_color': 'F5F8FA', 'profile_background_image_url': None, 'profile_background_image_url_https': None, 'profile_background_tile': False, 'profile_image_url': 'http://abs.twimg.com/sticky/default_profile_images/default_profile_normal.png', 'profile_image_url_https': 'https://abs.twimg.com/sticky/default_profile_images/default_profile_normal.png', 'profile_link_color': '1DA1F2', 'profile_sidebar_border_color': 'C0DEED', 'profile_sidebar_fill_color': 'DDEEF6', 'profile_text_color': '333333', 'profile_use_background_image': True, 'has_extended_profile': False, 'default_profile': True, 'default_profile_image': True, 'following': False, 'live_following': False, 'follow_request_sent': False, 'notifications': False, 'muting': False, 'blocking': False, 'blocked_by': False, 'translator_type': 'none'}, {'id': 963568002397597696, 'id_str': '963568002397597696', 'name': 'Daniela Gjorgievska', 'screen_name': 'DanielaGjorgie2', 'location': '', 'description': '', 'url': None, 'entities': {'description': {'urls': []}}, 'protected': False, 'followers_count': 3, 'friends_count': 49, 'listed_count': 0, 'created_at': 'Wed Feb 14 00:18:08 +0000 2018', 'favourites_count': 0, 'utc_offset': None, 'time_zone': None, 'geo_enabled': False, 'verified': False, 'statuses_count': 0, 'lang': 'en', 'contributors_enabled': False, 'is_translator': False, 'is_translation_enabled': False, 'profile_background_color': 'F5F8FA', 'profile_background_image_url': None, 'profile_background_image_url_https': None, 'profile_background_tile': False, 'profile_image_url': 'http://pbs.twimg.com/profile_images/963570864049524736/NRI5mcZ-_normal.jpg', 'profile_image_url_https': 'https://pbs.twimg.com/profile_images/963570864049524736/NRI5mcZ-_normal.jpg', 'profile_banner_url': 'https://pbs.twimg.com/profile_banners/963568002397597696/1518568169', 'profile_link_color': '1DA1F2', 'profile_sidebar_border_color': 'C0DEED', 'profile_sidebar_fill_color': 'DDEEF6', 'profile_text_color': '333333', 'profile_use_background_image': True, 'has_extended_profile': True, 'default_profile': True, 'default_profile_image': False, 'following': False, 'live_following': False, 'follow_request_sent': False, 'notifications': False, 'muting': False, 'blocking': False, 'blocked_by': False, 'translator_type': 'none'}, {'id': 877626139652616192, 'id_str': '877626139652616192', 'name': 'Maddie Cercone', 'screen_name': 'MaddieCercone', 'location': 'Ohio, USA', 'description': 'I feel god in this chili’s tonight.', 'url': None, 'entities': {'description': {'urls': []}}, 'protected': False, 'followers_count': 158, 'friends_count': 224, 'listed_count': 0, 'created_at': 'Wed Jun 21 20:35:52 +0000 2017', 'favourites_count': 557, 'utc_offset': None, 'time_zone': None, 'geo_enabled': False, 'verified': False, 'statuses_count': 438, 'lang': 'en', 'status': {'created_at': 'Sat Mar 23 15:12:07 +0000 2019', 'id': 1109472900090945536, 'id_str': '1109472900090945536', 'text': 'RT @cloutboyjojoo: “what you got in your mouth?”\\n\\nmy dog: https://t.co/OZ04WBYMcz', 'truncated': False, 'entities': {'hashtags': [], 'symbols': [], 'user_mentions': [{'screen_name': 'cloutboyjojoo', 'name': 'j ø j ø 愛', 'id': 907674259857735681, 'id_str': '907674259857735681', 'indices': [3, 17]}], 'urls': [{'url': 'https://t.co/OZ04WBYMcz', 'expanded_url': 'https://twitter.com/chinotypebeat/status/1109142419050643458', 'display_url': 'twitter.com/chinotypebeat/…', 'indices': [58, 81]}]}, 'source': '<a href=\"http://twitter.com/download/iphone\" rel=\"nofollow\">Twitter for iPhone</a>', 'in_reply_to_status_id': None, 'in_reply_to_status_id_str': None, 'in_reply_to_user_id': None, 'in_reply_to_user_id_str': None, 'in_reply_to_screen_name': None, 'geo': None, 'coordinates': None, 'place': None, 'contributors': None, 'retweeted_status': {'created_at': 'Fri Mar 22 22:39:33 +0000 2019', 'id': 1109223114926260224, 'id_str': '1109223114926260224', 'text': '“what you got in your mouth?”\\n\\nmy dog: https://t.co/OZ04WBYMcz', 'truncated': False, 'entities': {'hashtags': [], 'symbols': [], 'user_mentions': [], 'urls': [{'url': 'https://t.co/OZ04WBYMcz', 'expanded_url': 'https://twitter.com/chinotypebeat/status/1109142419050643458', 'display_url': 'twitter.com/chinotypebeat/…', 'indices': [39, 62]}]}, 'source': '<a href=\"http://twitter.com/download/iphone\" rel=\"nofollow\">Twitter for iPhone</a>', 'in_reply_to_status_id': None, 'in_reply_to_status_id_str': None, 'in_reply_to_user_id': None, 'in_reply_to_user_id_str': None, 'in_reply_to_screen_name': None, 'geo': None, 'coordinates': None, 'place': None, 'contributors': None, 'is_quote_status': True, 'quoted_status_id': 1109142419050643458, 'quoted_status_id_str': '1109142419050643458', 'retweet_count': 53117, 'favorite_count': 188001, 'favorited': False, 'retweeted': False, 'possibly_sensitive': True, 'lang': 'en'}, 'is_quote_status': True, 'quoted_status_id': 1109142419050643458, 'quoted_status_id_str': '1109142419050643458', 'retweet_count': 53117, 'favorite_count': 0, 'favorited': False, 'retweeted': False, 'possibly_sensitive': False, 'lang': 'en'}, 'contributors_enabled': False, 'is_translator': False, 'is_translation_enabled': False, 'profile_background_color': 'F5F8FA', 'profile_background_image_url': None, 'profile_background_image_url_https': None, 'profile_background_tile': False, 'profile_image_url': 'http://pbs.twimg.com/profile_images/1057824653744500736/t2OPTZF2_normal.jpg', 'profile_image_url_https': 'https://pbs.twimg.com/profile_images/1057824653744500736/t2OPTZF2_normal.jpg', 'profile_banner_url': 'https://pbs.twimg.com/profile_banners/877626139652616192/1553265934', 'profile_link_color': '1DA1F2', 'profile_sidebar_border_color': 'C0DEED', 'profile_sidebar_fill_color': 'DDEEF6', 'profile_text_color': '333333', 'profile_use_background_image': True, 'has_extended_profile': True, 'default_profile': True, 'default_profile_image': False, 'following': False, 'live_following': False, 'follow_request_sent': False, 'notifications': False, 'muting': False, 'blocking': False, 'blocked_by': False, 'translator_type': 'none'}, {'id': 2740847448, 'id_str': '2740847448', 'name': 'Johannes Gruber', 'screen_name': 'Diddibanane', 'location': '', 'description': '', 'url': None, 'entities': {'description': {'urls': []}}, 'protected': False, 'followers_count': 1, 'friends_count': 3, 'listed_count': 0, 'created_at': 'Mon Aug 18 00:45:14 +0000 2014', 'favourites_count': 1, 'utc_offset': None, 'time_zone': None, 'geo_enabled': False, 'verified': False, 'statuses_count': 0, 'lang': 'de', 'contributors_enabled': False, 'is_translator': False, 'is_translation_enabled': False, 'profile_background_color': 'C0DEED', 'profile_background_image_url': 'http://abs.twimg.com/images/themes/theme1/bg.png', 'profile_background_image_url_https': 'https://abs.twimg.com/images/themes/theme1/bg.png', 'profile_background_tile': False, 'profile_image_url': 'http://abs.twimg.com/sticky/default_profile_images/default_profile_normal.png', 'profile_image_url_https': 'https://abs.twimg.com/sticky/default_profile_images/default_profile_normal.png', 'profile_link_color': '1DA1F2', 'profile_sidebar_border_color': 'C0DEED', 'profile_sidebar_fill_color': 'DDEEF6', 'profile_text_color': '333333', 'profile_use_background_image': True, 'has_extended_profile': False, 'default_profile': True, 'default_profile_image': True, 'following': False, 'live_following': False, 'follow_request_sent': False, 'notifications': False, 'muting': False, 'blocking': False, 'blocked_by': False, 'translator_type': 'none'}, {'id': 1109597364824821760, 'id_str': '1109597364824821760', 'name': 'Odiete Eugene', 'screen_name': 'EugeneOdiete', 'location': '', 'description': '', 'url': None, 'entities': {'description': {'urls': []}}, 'protected': False, 'followers_count': 0, 'friends_count': 24, 'listed_count': 0, 'created_at': 'Sat Mar 23 23:26:41 +0000 2019', 'favourites_count': 0, 'utc_offset': None, 'time_zone': None, 'geo_enabled': False, 'verified': False, 'statuses_count': 0, 'lang': 'en', 'contributors_enabled': False, 'is_translator': False, 'is_translation_enabled': False, 'profile_background_color': 'F5F8FA', 'profile_background_image_url': None, 'profile_background_image_url_https': None, 'profile_background_tile': False, 'profile_image_url': 'http://abs.twimg.com/sticky/default_profile_images/default_profile_normal.png', 'profile_image_url_https': 'https://abs.twimg.com/sticky/default_profile_images/default_profile_normal.png', 'profile_link_color': '1DA1F2', 'profile_sidebar_border_color': 'C0DEED', 'profile_sidebar_fill_color': 'DDEEF6', 'profile_text_color': '333333', 'profile_use_background_image': True, 'has_extended_profile': False, 'default_profile': True, 'default_profile_image': True, 'following': False, 'live_following': False, 'follow_request_sent': False, 'notifications': False, 'muting': False, 'blocking': False, 'blocked_by': False, 'translator_type': 'none'}, {'id': 1109466104911425536, 'id_str': '1109466104911425536', 'name': 'etbsdets', 'screen_name': 'etbsdets', 'location': '', 'description': '', 'url': None, 'entities': {'description': {'urls': []}}, 'protected': False, 'followers_count': 0, 'friends_count': 6, 'listed_count': 0, 'created_at': 'Sat Mar 23 14:45:07 +0000 2019', 'favourites_count': 0, 'utc_offset': None, 'time_zone': None, 'geo_enabled': False, 'verified': False, 'statuses_count': 0, 'lang': 'en', 'contributors_enabled': False, 'is_translator': False, 'is_translation_enabled': False, 'profile_background_color': 'F5F8FA', 'profile_background_image_url': None, 'profile_background_image_url_https': None, 'profile_background_tile': False, 'profile_image_url': 'http://abs.twimg.com/sticky/default_profile_images/default_profile_normal.png', 'profile_image_url_https': 'https://abs.twimg.com/sticky/default_profile_images/default_profile_normal.png', 'profile_link_color': '1DA1F2', 'profile_sidebar_border_color': 'C0DEED', 'profile_sidebar_fill_color': 'DDEEF6', 'profile_text_color': '333333', 'profile_use_background_image': True, 'has_extended_profile': False, 'default_profile': True, 'default_profile_image': True, 'following': False, 'live_following': False, 'follow_request_sent': False, 'notifications': False, 'muting': False, 'blocking': False, 'blocked_by': False, 'translator_type': 'none'}, {'id': 1109597386949775361, 'id_str': '1109597386949775361', 'name': 'Baby yisus', 'screen_name': 'Babyyisus1', 'location': '', 'description': 'Streamings y cotorreo, no me acusen con sus tías.', 'url': None, 'entities': {'description': {'urls': []}}, 'protected': False, 'followers_count': 0, 'friends_count': 4, 'listed_count': 0, 'created_at': 'Sat Mar 23 23:26:47 +0000 2019', 'favourites_count': 0, 'utc_offset': None, 'time_zone': None, 'geo_enabled': False, 'verified': False, 'statuses_count': 0, 'lang': 'en', 'contributors_enabled': False, 'is_translator': False, 'is_translation_enabled': False, 'profile_background_color': 'F5F8FA', 'profile_background_image_url': None, 'profile_background_image_url_https': None, 'profile_background_tile': False, 'profile_image_url': 'http://pbs.twimg.com/profile_images/1109598498398396418/ic8hJEph_normal.jpg', 'profile_image_url_https': 'https://pbs.twimg.com/profile_images/1109598498398396418/ic8hJEph_normal.jpg', 'profile_link_color': '1DA1F2', 'profile_sidebar_border_color': 'C0DEED', 'profile_sidebar_fill_color': 'DDEEF6', 'profile_text_color': '333333', 'profile_use_background_image': True, 'has_extended_profile': True, 'default_profile': True, 'default_profile_image': False, 'following': False, 'live_following': False, 'follow_request_sent': False, 'notifications': False, 'muting': False, 'blocking': False, 'blocked_by': False, 'translator_type': 'none'}, {'id': 1074112046399193094, 'id_str': '1074112046399193094', 'name': 'AshAceisADHD@', 'screen_name': 'AshAceisADHD', 'location': 'FarFromParadise', 'description': '', 'url': None, 'entities': {'description': {'urls': []}}, 'protected': False, 'followers_count': 1, 'friends_count': 95, 'listed_count': 0, 'created_at': 'Sun Dec 16 01:20:42 +0000 2018', 'favourites_count': 6, 'utc_offset': None, 'time_zone': None, 'geo_enabled': False, 'verified': False, 'statuses_count': 12, 'lang': 'en', 'status': {'created_at': 'Sat Mar 23 23:31:53 +0000 2019', 'id': 1109598673778982913, 'id_str': '1109598673778982913', 'text': 'RT @robokillerapp: RoboKiller is the new app that not only blocks unwanted calls from telemarketers &amp; scammers, but also puts Answer Bots t…', 'truncated': False, 'entities': {'hashtags': [], 'symbols': [], 'user_mentions': [{'screen_name': 'robokillerapp', 'name': 'RoboKiller', 'id': 845678070501720064, 'id_str': '845678070501720064', 'indices': [3, 17]}], 'urls': []}, 'source': '<a href=\"http://twitter.com/download/iphone\" rel=\"nofollow\">Twitter for iPhone</a>', 'in_reply_to_status_id': None, 'in_reply_to_status_id_str': None, 'in_reply_to_user_id': None, 'in_reply_to_user_id_str': None, 'in_reply_to_screen_name': None, 'geo': None, 'coordinates': None, 'place': None, 'contributors': None, 'retweeted_status': {'created_at': 'Mon Dec 03 18:29:11 +0000 2018', 'id': 1069659828186832896, 'id_str': '1069659828186832896', 'text': 'RoboKiller is the new app that not only blocks unwanted calls from telemarketers &amp; scammers, but also puts Answer B… https://t.co/gXKjRxyQuJ', 'truncated': True, 'entities': {'hashtags': [], 'symbols': [], 'user_mentions': [], 'urls': [{'url': 'https://t.co/gXKjRxyQuJ', 'expanded_url': 'https://twitter.com/i/web/status/1069659828186832896', 'display_url': 'twitter.com/i/web/status/1…', 'indices': [121, 144]}]}, 'source': '<a href=\"https://ads-api.twitter.com\" rel=\"nofollow\">Twitter Ads Composer</a>', 'in_reply_to_status_id': None, 'in_reply_to_status_id_str': None, 'in_reply_to_user_id': None, 'in_reply_to_user_id_str': None, 'in_reply_to_screen_name': None, 'geo': None, 'coordinates': None, 'place': None, 'contributors': None, 'is_quote_status': False, 'retweet_count': 4505, 'favorite_count': 20677, 'favorited': False, 'retweeted': False, 'scopes': {'followers': False}, 'lang': 'en'}, 'is_quote_status': False, 'retweet_count': 4505, 'favorite_count': 0, 'favorited': False, 'retweeted': False, 'lang': 'en'}, 'contributors_enabled': False, 'is_translator': False, 'is_translation_enabled': False, 'profile_background_color': 'F5F8FA', 'profile_background_image_url': None, 'profile_background_image_url_https': None, 'profile_background_tile': False, 'profile_image_url': 'http://pbs.twimg.com/profile_images/1089215474750144513/Kyw4lkxP_normal.jpg', 'profile_image_url_https': 'https://pbs.twimg.com/profile_images/1089215474750144513/Kyw4lkxP_normal.jpg', 'profile_link_color': '1DA1F2', 'profile_sidebar_border_color': 'C0DEED', 'profile_sidebar_fill_color': 'DDEEF6', 'profile_text_color': '333333', 'profile_use_background_image': True, 'has_extended_profile': False, 'default_profile': True, 'default_profile_image': False, 'following': False, 'live_following': False, 'follow_request_sent': False, 'notifications': False, 'muting': False, 'blocking': False, 'blocked_by': False, 'translator_type': 'none'}, {'id': 1100188896783028224, 'id_str': '1100188896783028224', 'name': 'Moussa Mikhail', 'screen_name': 'MoussaMMikhail', 'location': 'Ewa Beach, HI', 'description': '', 'url': None, 'entities': {'description': {'urls': []}}, 'protected': False, 'followers_count': 12, 'friends_count': 30, 'listed_count': 0, 'created_at': 'Tue Feb 26 00:20:48 +0000 2019', 'favourites_count': 0, 'utc_offset': None, 'time_zone': None, 'geo_enabled': False, 'verified': False, 'statuses_count': 0, 'lang': 'en', 'contributors_enabled': False, 'is_translator': False, 'is_translation_enabled': False, 'profile_background_color': 'F5F8FA', 'profile_background_image_url': None, 'profile_background_image_url_https': None, 'profile_background_tile': False, 'profile_image_url': 'http://pbs.twimg.com/profile_images/1108607458577211392/4rdb0Zmv_normal.jpg', 'profile_image_url_https': 'https://pbs.twimg.com/profile_images/1108607458577211392/4rdb0Zmv_normal.jpg', 'profile_link_color': '1DA1F2', 'profile_sidebar_border_color': 'C0DEED', 'profile_sidebar_fill_color': 'DDEEF6', 'profile_text_color': '333333', 'profile_use_background_image': True, 'has_extended_profile': False, 'default_profile': True, 'default_profile_image': False, 'following': False, 'live_following': False, 'follow_request_sent': False, 'notifications': False, 'muting': False, 'blocking': False, 'blocked_by': False, 'translator_type': 'none'}, {'id': 818293039961669632, 'id_str': '818293039961669632', 'name': 'Monsterkilla785', 'screen_name': 'Monsterkilla784', 'location': '', 'description': 'Mexican gamer', 'url': None, 'entities': {'description': {'urls': []}}, 'protected': False, 'followers_count': 7, 'friends_count': 189, 'listed_count': 0, 'created_at': 'Mon Jan 09 03:07:18 +0000 2017', 'favourites_count': 1839, 'utc_offset': None, 'time_zone': None, 'geo_enabled': False, 'verified': False, 'statuses_count': 56, 'lang': 'en', 'status': {'created_at': 'Sun Feb 24 03:06:01 +0000 2019', 'id': 1099505700999446528, 'id_str': '1099505700999446528', 'text': '@Rainbow6Game Outbreak 2?', 'truncated': False, 'entities': {'hashtags': [], 'symbols': [], 'user_mentions': [{'screen_name': 'Rainbow6Game', 'name': 'Rainbow Six Siege', 'id': 399404516, 'id_str': '399404516', 'indices': [0, 13]}], 'urls': []}, 'source': '<a href=\"http://twitter.com\" rel=\"nofollow\">Twitter Web Client</a>', 'in_reply_to_status_id': 1098577838775644162, 'in_reply_to_status_id_str': '1098577838775644162', 'in_reply_to_user_id': 399404516, 'in_reply_to_user_id_str': '399404516', 'in_reply_to_screen_name': 'Rainbow6Game', 'geo': None, 'coordinates': None, 'place': None, 'contributors': None, 'is_quote_status': False, 'retweet_count': 0, 'favorite_count': 0, 'favorited': False, 'retweeted': False, 'lang': 'en'}, 'contributors_enabled': False, 'is_translator': False, 'is_translation_enabled': False, 'profile_background_color': '000000', 'profile_background_image_url': 'http://abs.twimg.com/images/themes/theme1/bg.png', 'profile_background_image_url_https': 'https://abs.twimg.com/images/themes/theme1/bg.png', 'profile_background_tile': False, 'profile_image_url': 'http://pbs.twimg.com/profile_images/823617859427254272/j1XQpq2S_normal.jpg', 'profile_image_url_https': 'https://pbs.twimg.com/profile_images/823617859427254272/j1XQpq2S_normal.jpg', 'profile_banner_url': 'https://pbs.twimg.com/profile_banners/818293039961669632/1485200845', 'profile_link_color': '1B95E0', 'profile_sidebar_border_color': '000000', 'profile_sidebar_fill_color': '000000', 'profile_text_color': '000000', 'profile_use_background_image': False, 'has_extended_profile': True, 'default_profile': False, 'default_profile_image': False, 'following': False, 'live_following': False, 'follow_request_sent': False, 'notifications': False, 'muting': False, 'blocking': False, 'blocked_by': False, 'translator_type': 'none'}, {'id': 1676716496, 'id_str': '1676716496', 'name': 'Kylie😈🤞🏽', 'screen_name': 'Kylie_422', 'location': '', 'description': 'vibes. Snapchat @/Kylie422', 'url': None, 'entities': {'description': {'urls': []}}, 'protected': False, 'followers_count': 693, 'friends_count': 792, 'listed_count': 0, 'created_at': 'Fri Aug 16 21:53:08 +0000 2013', 'favourites_count': 28613, 'utc_offset': None, 'time_zone': None, 'geo_enabled': True, 'verified': False, 'statuses_count': 2358, 'lang': 'en', 'status': {'created_at': 'Sat Mar 23 23:00:44 +0000 2019', 'id': 1109590832468750337, 'id_str': '1109590832468750337', 'text': 'RT @sienaaj: Don’t hesitate to double text me, send imsg games, memes, pictures of you, music you think I may like, links to interesting sh…', 'truncated': False, 'entities': {'hashtags': [], 'symbols': [], 'user_mentions': [{'screen_name': 'sienaaj', 'name': 'lover', 'id': 1064207795619282944, 'id_str': '1064207795619282944', 'indices': [3, 11]}], 'urls': []}, 'source': '<a href=\"http://twitter.com/download/iphone\" rel=\"nofollow\">Twitter for iPhone</a>', 'in_reply_to_status_id': None, 'in_reply_to_status_id_str': None, 'in_reply_to_user_id': None, 'in_reply_to_user_id_str': None, 'in_reply_to_screen_name': None, 'geo': None, 'coordinates': None, 'place': None, 'contributors': None, 'retweeted_status': {'created_at': 'Fri Mar 22 23:23:29 +0000 2019', 'id': 1109234168989433859, 'id_str': '1109234168989433859', 'text': 'Don’t hesitate to double text me, send imsg games, memes, pictures of you, music you think I may like, links to int… https://t.co/RxZnY8Up77', 'truncated': True, 'entities': {'hashtags': [], 'symbols': [], 'user_mentions': [], 'urls': [{'url': 'https://t.co/RxZnY8Up77', 'expanded_url': 'https://twitter.com/i/web/status/1109234168989433859', 'display_url': 'twitter.com/i/web/status/1…', 'indices': [117, 140]}]}, 'source': '<a href=\"http://twitter.com/download/iphone\" rel=\"nofollow\">Twitter for iPhone</a>', 'in_reply_to_status_id': None, 'in_reply_to_status_id_str': None, 'in_reply_to_user_id': None, 'in_reply_to_user_id_str': None, 'in_reply_to_screen_name': None, 'geo': None, 'coordinates': None, 'place': None, 'contributors': None, 'is_quote_status': True, 'quoted_status_id': 1108423291197374464, 'quoted_status_id_str': '1108423291197374464', 'retweet_count': 14200, 'favorite_count': 23210, 'favorited': False, 'retweeted': False, 'possibly_sensitive': False, 'lang': 'en'}, 'is_quote_status': True, 'quoted_status_id': 1108423291197374464, 'quoted_status_id_str': '1108423291197374464', 'retweet_count': 14200, 'favorite_count': 0, 'favorited': False, 'retweeted': False, 'lang': 'en'}, 'contributors_enabled': False, 'is_translator': False, 'is_translation_enabled': False, 'profile_background_color': 'C0DEED', 'profile_background_image_url': 'http://abs.twimg.com/images/themes/theme1/bg.png', 'profile_background_image_url_https': 'https://abs.twimg.com/images/themes/theme1/bg.png', 'profile_background_tile': False, 'profile_image_url': 'http://pbs.twimg.com/profile_images/1106978145117196288/FM-gyHGj_normal.jpg', 'profile_image_url_https': 'https://pbs.twimg.com/profile_images/1106978145117196288/FM-gyHGj_normal.jpg', 'profile_banner_url': 'https://pbs.twimg.com/profile_banners/1676716496/1529715609', 'profile_link_color': '1DA1F2', 'profile_sidebar_border_color': 'C0DEED', 'profile_sidebar_fill_color': 'DDEEF6', 'profile_text_color': '333333', 'profile_use_background_image': True, 'has_extended_profile': True, 'default_profile': True, 'default_profile_image': False, 'following': False, 'live_following': False, 'follow_request_sent': False, 'notifications': False, 'muting': False, 'blocking': False, 'blocked_by': False, 'translator_type': 'none'}, {'id': 1102145813944459264, 'id_str': '1102145813944459264', 'name': 'Eric C', 'screen_name': 'Eric6972', 'location': '', 'description': '', 'url': None, 'entities': {'description': {'urls': []}}, 'protected': False, 'followers_count': 1, 'friends_count': 38, 'listed_count': 0, 'created_at': 'Sun Mar 03 09:56:53 +0000 2019', 'favourites_count': 26, 'utc_offset': None, 'time_zone': None, 'geo_enabled': False, 'verified': False, 'statuses_count': 4, 'lang': 'en', 'status': {'created_at': 'Sat Mar 16 09:50:19 +0000 2019', 'id': 1106855202638974977, 'id_str': '1106855202638974977', 'text': '@OL https://t.co/BoHSa0wqKb', 'truncated': False, 'entities': {'hashtags': [], 'symbols': [], 'user_mentions': [{'screen_name': 'OL', 'name': 'Olympique Lyonnais', 'id': 33893706, 'id_str': '33893706', 'indices': [0, 3]}], 'urls': [], 'media': [{'id': 1106855027635875840, 'id_str': '1106855027635875840', 'indices': [4, 27], 'media_url': 'http://pbs.twimg.com/ext_tw_video_thumb/1106855027635875840/pu/img/qRQvV8_QV-Vhr6q2.jpg', 'media_url_https': 'https://pbs.twimg.com/ext_tw_video_thumb/1106855027635875840/pu/img/qRQvV8_QV-Vhr6q2.jpg', 'url': 'https://t.co/BoHSa0wqKb', 'display_url': 'pic.twitter.com/BoHSa0wqKb', 'expanded_url': 'https://twitter.com/Eric6972/status/1106855202638974977/video/1', 'type': 'photo', 'sizes': {'thumb': {'w': 150, 'h': 150, 'resize': 'crop'}, 'medium': {'w': 1200, 'h': 675, 'resize': 'fit'}, 'small': {'w': 680, 'h': 383, 'resize': 'fit'}, 'large': {'w': 1280, 'h': 720, 'resize': 'fit'}}}]}, 'extended_entities': {'media': [{'id': 1106855027635875840, 'id_str': '1106855027635875840', 'indices': [4, 27], 'media_url': 'http://pbs.twimg.com/ext_tw_video_thumb/1106855027635875840/pu/img/qRQvV8_QV-Vhr6q2.jpg', 'media_url_https': 'https://pbs.twimg.com/ext_tw_video_thumb/1106855027635875840/pu/img/qRQvV8_QV-Vhr6q2.jpg', 'url': 'https://t.co/BoHSa0wqKb', 'display_url': 'pic.twitter.com/BoHSa0wqKb', 'expanded_url': 'https://twitter.com/Eric6972/status/1106855202638974977/video/1', 'type': 'video', 'sizes': {'thumb': {'w': 150, 'h': 150, 'resize': 'crop'}, 'medium': {'w': 1200, 'h': 675, 'resize': 'fit'}, 'small': {'w': 680, 'h': 383, 'resize': 'fit'}, 'large': {'w': 1280, 'h': 720, 'resize': 'fit'}}, 'video_info': {'aspect_ratio': [16, 9], 'duration_millis': 19900, 'variants': [{'bitrate': 832000, 'content_type': 'video/mp4', 'url': 'https://video.twimg.com/ext_tw_video/1106855027635875840/pu/vid/640x360/2GtRA7lxg96gp8p1.mp4?tag=8'}, {'bitrate': 2176000, 'content_type': 'video/mp4', 'url': 'https://video.twimg.com/ext_tw_video/1106855027635875840/pu/vid/1280x720/5yeeCEajKEQu0GY_.mp4?tag=8'}, {'content_type': 'application/x-mpegURL', 'url': 'https://video.twimg.com/ext_tw_video/1106855027635875840/pu/pl/iUYrVTloq8iGxv5-.m3u8?tag=8'}, {'bitrate': 256000, 'content_type': 'video/mp4', 'url': 'https://video.twimg.com/ext_tw_video/1106855027635875840/pu/vid/320x180/oJI2WECSBI6xGFPP.mp4?tag=8'}]}, 'additional_media_info': {'monetizable': False}}]}, 'source': '<a href=\"http://twitter.com/#!/download/ipad\" rel=\"nofollow\">Twitter for iPad</a>', 'in_reply_to_status_id': None, 'in_reply_to_status_id_str': None, 'in_reply_to_user_id': 33893706, 'in_reply_to_user_id_str': '33893706', 'in_reply_to_screen_name': 'OL', 'geo': None, 'coordinates': None, 'place': None, 'contributors': None, 'is_quote_status': False, 'retweet_count': 0, 'favorite_count': 0, 'favorited': False, 'retweeted': False, 'possibly_sensitive': False, 'lang': 'und'}, 'contributors_enabled': False, 'is_translator': False, 'is_translation_enabled': False, 'profile_background_color': 'F5F8FA', 'profile_background_image_url': None, 'profile_background_image_url_https': None, 'profile_background_tile': False, 'profile_image_url': 'http://abs.twimg.com/sticky/default_profile_images/default_profile_normal.png', 'profile_image_url_https': 'https://abs.twimg.com/sticky/default_profile_images/default_profile_normal.png', 'profile_link_color': '1DA1F2', 'profile_sidebar_border_color': 'C0DEED', 'profile_sidebar_fill_color': 'DDEEF6', 'profile_text_color': '333333', 'profile_use_background_image': True, 'has_extended_profile': False, 'default_profile': True, 'default_profile_image': True, 'following': False, 'live_following': False, 'follow_request_sent': False, 'notifications': False, 'muting': False, 'blocking': False, 'blocked_by': False, 'translator_type': 'none'}, {'id': 771690691793739776, 'id_str': '771690691793739776', 'name': 'Tomé Valentim', 'screen_name': '_lordvalentim_', 'location': 'Konoha, Hogsmeade, North, Tatooine', 'description': '\"Eu não vou fugir, eu nunca volto atrás na minha palavra. Este é o meu jeito ninja\"', 'url': None, 'entities': {'description': {'urls': []}}, 'protected': False, 'followers_count': 181, 'friends_count': 569, 'listed_count': 0, 'created_at': 'Fri Sep 02 12:46:13 +0000 2016', 'favourites_count': 18274, 'utc_offset': None, 'time_zone': None, 'geo_enabled': False, 'verified': False, 'statuses_count': 3667, 'lang': 'pt', 'status': {'created_at': 'Sat Mar 23 23:29:05 +0000 2019', 'id': 1109597967810551808, 'id_str': '1109597967810551808', 'text': 'RT @ForTheMen: \"I\\'m not ready for kids\" 😂😂\\n https://t.co/26mhEsBwBN', 'truncated': False, 'entities': {'hashtags': [], 'symbols': [], 'user_mentions': [{'screen_name': 'ForTheMen', 'name': 'For The Men', 'id': 1357107872, 'id_str': '1357107872', 'indices': [3, 13]}], 'urls': [], 'media': [{'id': 880479047343640576, 'id_str': '880479047343640576', 'indices': [44, 67], 'media_url': 'http://pbs.twimg.com/ext_tw_video_thumb/880479047343640576/pu/img/bO01hgaUxhwemJtQ.jpg', 'media_url_https': 'https://pbs.twimg.com/ext_tw_video_thumb/880479047343640576/pu/img/bO01hgaUxhwemJtQ.jpg', 'url': 'https://t.co/26mhEsBwBN', 'display_url': 'pic.twitter.com/26mhEsBwBN', 'expanded_url': 'https://twitter.com/SamuelGrubbs1/status/880479132584300544/video/1', 'type': 'photo', 'sizes': {'small': {'w': 480, 'h': 480, 'resize': 'fit'}, 'thumb': {'w': 150, 'h': 150, 'resize': 'crop'}, 'medium': {'w': 480, 'h': 480, 'resize': 'fit'}, 'large': {'w': 480, 'h': 480, 'resize': 'fit'}}, 'source_status_id': 880479132584300544, 'source_status_id_str': '880479132584300544', 'source_user_id': 2881636578, 'source_user_id_str': '2881636578'}]}, 'extended_entities': {'media': [{'id': 880479047343640576, 'id_str': '880479047343640576', 'indices': [44, 67], 'media_url': 'http://pbs.twimg.com/ext_tw_video_thumb/880479047343640576/pu/img/bO01hgaUxhwemJtQ.jpg', 'media_url_https': 'https://pbs.twimg.com/ext_tw_video_thumb/880479047343640576/pu/img/bO01hgaUxhwemJtQ.jpg', 'url': 'https://t.co/26mhEsBwBN', 'display_url': 'pic.twitter.com/26mhEsBwBN', 'expanded_url': 'https://twitter.com/SamuelGrubbs1/status/880479132584300544/video/1', 'type': 'video', 'sizes': {'small': {'w': 480, 'h': 480, 'resize': 'fit'}, 'thumb': {'w': 150, 'h': 150, 'resize': 'crop'}, 'medium': {'w': 480, 'h': 480, 'resize': 'fit'}, 'large': {'w': 480, 'h': 480, 'resize': 'fit'}}, 'source_status_id': 880479132584300544, 'source_status_id_str': '880479132584300544', 'source_user_id': 2881636578, 'source_user_id_str': '2881636578', 'video_info': {'aspect_ratio': [1, 1], 'duration_millis': 36537, 'variants': [{'bitrate': 832000, 'content_type': 'video/mp4', 'url': 'https://video.twimg.com/ext_tw_video/880479047343640576/pu/vid/480x480/kpaN3yBUKTMgRMZs.mp4'}, {'bitrate': 256000, 'content_type': 'video/mp4', 'url': 'https://video.twimg.com/ext_tw_video/880479047343640576/pu/vid/240x240/kbyojp8TmwPO7ct-.mp4'}, {'content_type': 'application/x-mpegURL', 'url': 'https://video.twimg.com/ext_tw_video/880479047343640576/pu/pl/1-uEUY0b-VYFE1vR.m3u8'}]}, 'additional_media_info': {'monetizable': False}}]}, 'source': '<a href=\"http://twitter.com/download/android\" rel=\"nofollow\">Twitter for Android</a>', 'in_reply_to_status_id': None, 'in_reply_to_status_id_str': None, 'in_reply_to_user_id': None, 'in_reply_to_user_id_str': None, 'in_reply_to_screen_name': None, 'geo': None, 'coordinates': None, 'place': None, 'contributors': None, 'retweeted_status': {'created_at': 'Mon Mar 18 02:31:54 +0000 2019', 'id': 1107469646775664641, 'id_str': '1107469646775664641', 'text': '\"I\\'m not ready for kids\" 😂😂\\n https://t.co/26mhEsBwBN', 'truncated': False, 'entities': {'hashtags': [], 'symbols': [], 'user_mentions': [], 'urls': [], 'media': [{'id': 880479047343640576, 'id_str': '880479047343640576', 'indices': [29, 52], 'media_url': 'http://pbs.twimg.com/ext_tw_video_thumb/880479047343640576/pu/img/bO01hgaUxhwemJtQ.jpg', 'media_url_https': 'https://pbs.twimg.com/ext_tw_video_thumb/880479047343640576/pu/img/bO01hgaUxhwemJtQ.jpg', 'url': 'https://t.co/26mhEsBwBN', 'display_url': 'pic.twitter.com/26mhEsBwBN', 'expanded_url': 'https://twitter.com/SamuelGrubbs1/status/880479132584300544/video/1', 'type': 'photo', 'sizes': {'small': {'w': 480, 'h': 480, 'resize': 'fit'}, 'thumb': {'w': 150, 'h': 150, 'resize': 'crop'}, 'medium': {'w': 480, 'h': 480, 'resize': 'fit'}, 'large': {'w': 480, 'h': 480, 'resize': 'fit'}}, 'source_status_id': 880479132584300544, 'source_status_id_str': '880479132584300544', 'source_user_id': 2881636578, 'source_user_id_str': '2881636578'}]}, 'extended_entities': {'media': [{'id': 880479047343640576, 'id_str': '880479047343640576', 'indices': [29, 52], 'media_url': 'http://pbs.twimg.com/ext_tw_video_thumb/880479047343640576/pu/img/bO01hgaUxhwemJtQ.jpg', 'media_url_https': 'https://pbs.twimg.com/ext_tw_video_thumb/880479047343640576/pu/img/bO01hgaUxhwemJtQ.jpg', 'url': 'https://t.co/26mhEsBwBN', 'display_url': 'pic.twitter.com/26mhEsBwBN', 'expanded_url': 'https://twitter.com/SamuelGrubbs1/status/880479132584300544/video/1', 'type': 'video', 'sizes': {'small': {'w': 480, 'h': 480, 'resize': 'fit'}, 'thumb': {'w': 150, 'h': 150, 'resize': 'crop'}, 'medium': {'w': 480, 'h': 480, 'resize': 'fit'}, 'large': {'w': 480, 'h': 480, 'resize': 'fit'}}, 'source_status_id': 880479132584300544, 'source_status_id_str': '880479132584300544', 'source_user_id': 2881636578, 'source_user_id_str': '2881636578', 'video_info': {'aspect_ratio': [1, 1], 'duration_millis': 36537, 'variants': [{'bitrate': 832000, 'content_type': 'video/mp4', 'url': 'https://video.twimg.com/ext_tw_video/880479047343640576/pu/vid/480x480/kpaN3yBUKTMgRMZs.mp4'}, {'bitrate': 256000, 'content_type': 'video/mp4', 'url': 'https://video.twimg.com/ext_tw_video/880479047343640576/pu/vid/240x240/kbyojp8TmwPO7ct-.mp4'}, {'content_type': 'application/x-mpegURL', 'url': 'https://video.twimg.com/ext_tw_video/880479047343640576/pu/pl/1-uEUY0b-VYFE1vR.m3u8'}]}, 'additional_media_info': {'monetizable': False}}]}, 'source': '<a href=\"http://twitter.com/download/iphone\" rel=\"nofollow\">Twitter for iPhone</a>', 'in_reply_to_status_id': None, 'in_reply_to_status_id_str': None, 'in_reply_to_user_id': None, 'in_reply_to_user_id_str': None, 'in_reply_to_screen_name': None, 'geo': None, 'coordinates': None, 'place': None, 'contributors': None, 'is_quote_status': False, 'retweet_count': 10072, 'favorite_count': 18183, 'favorited': False, 'retweeted': False, 'possibly_sensitive': False, 'lang': 'en'}, 'is_quote_status': False, 'retweet_count': 10072, 'favorite_count': 0, 'favorited': False, 'retweeted': False, 'possibly_sensitive': False, 'lang': 'en'}, 'contributors_enabled': False, 'is_translator': False, 'is_translation_enabled': False, 'profile_background_color': '000000', 'profile_background_image_url': 'http://abs.twimg.com/images/themes/theme1/bg.png', 'profile_background_image_url_https': 'https://abs.twimg.com/images/themes/theme1/bg.png', 'profile_background_tile': False, 'profile_image_url': 'http://pbs.twimg.com/profile_images/974783806258515968/DCFAlzm2_normal.jpg', 'profile_image_url_https': 'https://pbs.twimg.com/profile_images/974783806258515968/DCFAlzm2_normal.jpg', 'profile_banner_url': 'https://pbs.twimg.com/profile_banners/771690691793739776/1479151559', 'profile_link_color': '1B95E0', 'profile_sidebar_border_color': '000000', 'profile_sidebar_fill_color': '000000', 'profile_text_color': '000000', 'profile_use_background_image': False, 'has_extended_profile': False, 'default_profile': False, 'default_profile_image': False, 'following': False, 'live_following': False, 'follow_request_sent': False, 'notifications': False, 'muting': False, 'blocking': False, 'blocked_by': False, 'translator_type': 'none'}, {'id': 1108055837229137921, 'id_str': '1108055837229137921', 'name': 'Sid Banerjee', 'screen_name': 'Sid_552', 'location': 'Pennsylvania, USA', 'description': '', 'url': None, 'entities': {'description': {'urls': []}}, 'protected': False, 'followers_count': 0, 'friends_count': 9, 'listed_count': 0, 'created_at': 'Tue Mar 19 17:21:13 +0000 2019', 'favourites_count': 37, 'utc_offset': None, 'time_zone': None, 'geo_enabled': False, 'verified': False, 'statuses_count': 3, 'lang': 'en', 'status': {'created_at': 'Sat Mar 23 15:02:53 +0000 2019', 'id': 1109470578518433793, 'id_str': '1109470578518433793', 'text': 'Shifter and Pedals included', 'truncated': False, 'entities': {'hashtags': [], 'symbols': [], 'user_mentions': [], 'urls': []}, 'source': '<a href=\"http://twitter.com/download/iphone\" rel=\"nofollow\">Twitter for iPhone</a>', 'in_reply_to_status_id': 1109470495307714560, 'in_reply_to_status_id_str': '1109470495307714560', 'in_reply_to_user_id': 1108055837229137921, 'in_reply_to_user_id_str': '1108055837229137921', 'in_reply_to_screen_name': 'Sid_552', 'geo': None, 'coordinates': None, 'place': None, 'contributors': None, 'is_quote_status': False, 'retweet_count': 0, 'favorite_count': 0, 'favorited': False, 'retweeted': False, 'lang': 'en'}, 'contributors_enabled': False, 'is_translator': False, 'is_translation_enabled': False, 'profile_background_color': 'F5F8FA', 'profile_background_image_url': None, 'profile_background_image_url_https': None, 'profile_background_tile': False, 'profile_image_url': 'http://pbs.twimg.com/profile_images/1108109015131787265/EaGiZ3w7_normal.jpg', 'profile_image_url_https': 'https://pbs.twimg.com/profile_images/1108109015131787265/EaGiZ3w7_normal.jpg', 'profile_link_color': '1DA1F2', 'profile_sidebar_border_color': 'C0DEED', 'profile_sidebar_fill_color': 'DDEEF6', 'profile_text_color': '333333', 'profile_use_background_image': True, 'has_extended_profile': False, 'default_profile': True, 'default_profile_image': False, 'following': False, 'live_following': False, 'follow_request_sent': False, 'notifications': False, 'muting': False, 'blocking': False, 'blocked_by': False, 'translator_type': 'none'}, {'id': 3986559069, 'id_str': '3986559069', 'name': 'NC', 'screen_name': 'GD1983_C', 'location': '', 'description': '', 'url': None, 'entities': {'description': {'urls': []}}, 'protected': False, 'followers_count': 2, 'friends_count': 31, 'listed_count': 0, 'created_at': 'Sun Oct 18 11:26:19 +0000 2015', 'favourites_count': 0, 'utc_offset': None, 'time_zone': None, 'geo_enabled': False, 'verified': False, 'statuses_count': 0, 'lang': 'en-gb', 'contributors_enabled': False, 'is_translator': False, 'is_translation_enabled': False, 'profile_background_color': 'C0DEED', 'profile_background_image_url': 'http://abs.twimg.com/images/themes/theme1/bg.png', 'profile_background_image_url_https': 'https://abs.twimg.com/images/themes/theme1/bg.png', 'profile_background_tile': False, 'profile_image_url': 'http://abs.twimg.com/sticky/default_profile_images/default_profile_normal.png', 'profile_image_url_https': 'https://abs.twimg.com/sticky/default_profile_images/default_profile_normal.png', 'profile_link_color': '1DA1F2', 'profile_sidebar_border_color': 'C0DEED', 'profile_sidebar_fill_color': 'DDEEF6', 'profile_text_color': '333333', 'profile_use_background_image': True, 'has_extended_profile': False, 'default_profile': True, 'default_profile_image': True, 'following': False, 'live_following': False, 'follow_request_sent': False, 'notifications': False, 'muting': False, 'blocking': False, 'blocked_by': False, 'translator_type': 'none'}, {'id': 362716951, 'id_str': '362716951', 'name': 'pankaj sangekar', 'screen_name': 'pankajsangekar', 'location': '', 'description': '', 'url': None, 'entities': {'description': {'urls': []}}, 'protected': False, 'followers_count': 16, 'friends_count': 6, 'listed_count': 0, 'created_at': 'Fri Aug 26 21:34:46 +0000 2011', 'favourites_count': 0, 'utc_offset': None, 'time_zone': None, 'geo_enabled': False, 'verified': False, 'statuses_count': 2, 'lang': 'en', 'status': {'created_at': 'Fri Mar 22 04:36:40 +0000 2019', 'id': 1108950598567649281, 'id_str': '1108950598567649281', 'text': '@udemysupport At least provide an option to expand screen in vertical space or option to hide completion bar and bottom part', 'truncated': False, 'entities': {'hashtags': [], 'symbols': [], 'user_mentions': [{'screen_name': 'udemysupport', 'name': 'Udemy Support', 'id': 2376214854, 'id_str': '2376214854', 'indices': [0, 13]}], 'urls': []}, 'source': '<a href=\"http://twitter.com\" rel=\"nofollow\">Twitter Web Client</a>', 'in_reply_to_status_id': None, 'in_reply_to_status_id_str': None, 'in_reply_to_user_id': 2376214854, 'in_reply_to_user_id_str': '2376214854', 'in_reply_to_screen_name': 'udemysupport', 'geo': None, 'coordinates': None, 'place': None, 'contributors': None, 'is_quote_status': False, 'retweet_count': 0, 'favorite_count': 0, 'favorited': False, 'retweeted': False, 'lang': 'en'}, 'contributors_enabled': False, 'is_translator': False, 'is_translation_enabled': False, 'profile_background_color': 'C0DEED', 'profile_background_image_url': 'http://abs.twimg.com/images/themes/theme1/bg.png', 'profile_background_image_url_https': 'https://abs.twimg.com/images/themes/theme1/bg.png', 'profile_background_tile': False, 'profile_image_url': 'http://abs.twimg.com/sticky/default_profile_images/default_profile_normal.png', 'profile_image_url_https': 'https://abs.twimg.com/sticky/default_profile_images/default_profile_normal.png', 'profile_link_color': '1DA1F2', 'profile_sidebar_border_color': 'C0DEED', 'profile_sidebar_fill_color': 'DDEEF6', 'profile_text_color': '333333', 'profile_use_background_image': True, 'has_extended_profile': False, 'default_profile': True, 'default_profile_image': True, 'following': False, 'live_following': False, 'follow_request_sent': False, 'notifications': False, 'muting': False, 'blocking': False, 'blocked_by': False, 'translator_type': 'none'}, {'id': 1109597327243862022, 'id_str': '1109597327243862022', 'name': 'جمايكا', 'screen_name': 'AJPR02PJrwb14dz', 'location': '', 'description': '', 'url': None, 'entities': {'description': {'urls': []}}, 'protected': False, 'followers_count': 0, 'friends_count': 97, 'listed_count': 0, 'created_at': 'Sat Mar 23 23:26:32 +0000 2019', 'favourites_count': 0, 'utc_offset': None, 'time_zone': None, 'geo_enabled': False, 'verified': False, 'statuses_count': 0, 'lang': 'en', 'contributors_enabled': False, 'is_translator': False, 'is_translation_enabled': False, 'profile_background_color': 'F5F8FA', 'profile_background_image_url': None, 'profile_background_image_url_https': None, 'profile_background_tile': False, 'profile_image_url': 'http://pbs.twimg.com/profile_images/1109597775484907522/hVIAEoOn_normal.jpg', 'profile_image_url_https': 'https://pbs.twimg.com/profile_images/1109597775484907522/hVIAEoOn_normal.jpg', 'profile_link_color': '1DA1F2', 'profile_sidebar_border_color': 'C0DEED', 'profile_sidebar_fill_color': 'DDEEF6', 'profile_text_color': '333333', 'profile_use_background_image': True, 'has_extended_profile': False, 'default_profile': True, 'default_profile_image': False, 'following': False, 'live_following': False, 'follow_request_sent': False, 'notifications': False, 'muting': False, 'blocking': False, 'blocked_by': False, 'translator_type': 'none'}, {'id': 1100969572331487233, 'id_str': '1100969572331487233', 'name': 'Qundt', 'screen_name': 'Qundt2', 'location': '', 'description': '', 'url': None, 'entities': {'description': {'urls': []}}, 'protected': False, 'followers_count': 0, 'friends_count': 36, 'listed_count': 0, 'created_at': 'Thu Feb 28 04:02:55 +0000 2019', 'favourites_count': 8, 'utc_offset': None, 'time_zone': None, 'geo_enabled': False, 'verified': False, 'statuses_count': 2, 'lang': 'en', 'status': {'created_at': 'Thu Mar 07 15:16:45 +0000 2019', 'id': 1103675864124817408, 'id_str': '1103675864124817408', 'text': '@D_DeGea @ManUtd You’re the greatest wall 🔴🎉🎉', 'truncated': False, 'entities': {'hashtags': [], 'symbols': [], 'user_mentions': [{'screen_name': 'D_DeGea', 'name': 'David de Gea', 'id': 265982289, 'id_str': '265982289', 'indices': [0, 8]}, {'screen_name': 'ManUtd', 'name': 'Manchester United', 'id': 558797310, 'id_str': '558797310', 'indices': [9, 16]}], 'urls': []}, 'source': '<a href=\"http://twitter.com/download/iphone\" rel=\"nofollow\">Twitter for iPhone</a>', 'in_reply_to_status_id': 1103442915479699456, 'in_reply_to_status_id_str': '1103442915479699456', 'in_reply_to_user_id': 265982289, 'in_reply_to_user_id_str': '265982289', 'in_reply_to_screen_name': 'D_DeGea', 'geo': None, 'coordinates': None, 'place': None, 'contributors': None, 'is_quote_status': False, 'retweet_count': 0, 'favorite_count': 0, 'favorited': False, 'retweeted': False, 'lang': 'en'}, 'contributors_enabled': False, 'is_translator': False, 'is_translation_enabled': False, 'profile_background_color': 'F5F8FA', 'profile_background_image_url': None, 'profile_background_image_url_https': None, 'profile_background_tile': False, 'profile_image_url': 'http://pbs.twimg.com/profile_images/1100971424276131841/HH3K8nz3_normal.jpg', 'profile_image_url_https': 'https://pbs.twimg.com/profile_images/1100971424276131841/HH3K8nz3_normal.jpg', 'profile_link_color': '1DA1F2', 'profile_sidebar_border_color': 'C0DEED', 'profile_sidebar_fill_color': 'DDEEF6', 'profile_text_color': '333333', 'profile_use_background_image': True, 'has_extended_profile': False, 'default_profile': True, 'default_profile_image': False, 'following': False, 'live_following': False, 'follow_request_sent': False, 'notifications': False, 'muting': False, 'blocking': False, 'blocked_by': False, 'translator_type': 'none'}, {'id': 949433515409584129, 'id_str': '949433515409584129', 'name': 'Maphake Kgotlelelo', 'screen_name': 'MaphakeKgotlel1', 'location': 'Boksburg, South Africa', 'description': '', 'url': None, 'entities': {'description': {'urls': []}}, 'protected': False, 'followers_count': 5, 'friends_count': 24, 'listed_count': 0, 'created_at': 'Sat Jan 06 00:12:44 +0000 2018', 'favourites_count': 25, 'utc_offset': None, 'time_zone': None, 'geo_enabled': False, 'verified': False, 'statuses_count': 2, 'lang': 'en', 'status': {'created_at': 'Sat Jan 19 21:22:25 +0000 2019', 'id': 1086735655378530304, 'id_str': '1086735655378530304', 'text': \"@akreana_ I applied for my initial smart ID in 2016 in Boksburg home affairs up until now I haven't received it, an… https://t.co/uFHAjlTGZu\", 'truncated': True, 'entities': {'hashtags': [], 'symbols': [], 'user_mentions': [{'screen_name': 'akreana_', 'name': 'Keabetswe🌬', 'id': 743199714502402048, 'id_str': '743199714502402048', 'indices': [0, 9]}], 'urls': [{'url': 'https://t.co/uFHAjlTGZu', 'expanded_url': 'https://twitter.com/i/web/status/1086735655378530304', 'display_url': 'twitter.com/i/web/status/1…', 'indices': [117, 140]}]}, 'source': '<a href=\"http://twitter.com/download/android\" rel=\"nofollow\">Twitter for Android</a>', 'in_reply_to_status_id': 1081598051322679297, 'in_reply_to_status_id_str': '1081598051322679297', 'in_reply_to_user_id': 743199714502402048, 'in_reply_to_user_id_str': '743199714502402048', 'in_reply_to_screen_name': 'akreana_', 'geo': None, 'coordinates': None, 'place': None, 'contributors': None, 'is_quote_status': False, 'retweet_count': 1, 'favorite_count': 1, 'favorited': False, 'retweeted': False, 'lang': 'en'}, 'contributors_enabled': False, 'is_translator': False, 'is_translation_enabled': False, 'profile_background_color': 'F5F8FA', 'profile_background_image_url': None, 'profile_background_image_url_https': None, 'profile_background_tile': False, 'profile_image_url': 'http://pbs.twimg.com/profile_images/1097222345402523649/qCrbzBh8_normal.jpg', 'profile_image_url_https': 'https://pbs.twimg.com/profile_images/1097222345402523649/qCrbzBh8_normal.jpg', 'profile_link_color': '1DA1F2', 'profile_sidebar_border_color': 'C0DEED', 'profile_sidebar_fill_color': 'DDEEF6', 'profile_text_color': '333333', 'profile_use_background_image': True, 'has_extended_profile': False, 'default_profile': True, 'default_profile_image': False, 'following': False, 'live_following': False, 'follow_request_sent': False, 'notifications': False, 'muting': False, 'blocking': False, 'blocked_by': False, 'translator_type': 'none'}, {'id': 322807102, 'id_str': '322807102', 'name': 'ciuca ana maria', 'screen_name': 'ciucaanamaria', 'location': '', 'description': '', 'url': None, 'entities': {'description': {'urls': []}}, 'protected': False, 'followers_count': 11, 'friends_count': 236, 'listed_count': 0, 'created_at': 'Thu Jun 23 19:38:42 +0000 2011', 'favourites_count': 9, 'utc_offset': None, 'time_zone': None, 'geo_enabled': False, 'verified': False, 'statuses_count': 8, 'lang': 'en', 'status': {'created_at': 'Thu Feb 08 23:09:40 +0000 2018', 'id': 961738831727943680, 'id_str': '961738831727943680', 'text': \"RT @FatemahAlabed: In case you didn't know , 200 people including 30 children killed in Syria . But who cares ? Let me repeat again. 200 pe…\", 'truncated': False, 'entities': {'hashtags': [], 'symbols': [], 'user_mentions': [{'screen_name': 'FatemahAlabed', 'name': 'Fatemah Alabed', 'id': 814417015079321600, 'id_str': '814417015079321600', 'indices': [3, 17]}], 'urls': []}, 'source': '<a href=\"http://twitter.com/download/iphone\" rel=\"nofollow\">Twitter for iPhone</a>', 'in_reply_to_status_id': None, 'in_reply_to_status_id_str': None, 'in_reply_to_user_id': None, 'in_reply_to_user_id_str': None, 'in_reply_to_screen_name': None, 'geo': None, 'coordinates': None, 'place': None, 'contributors': None, 'retweeted_status': {'created_at': 'Thu Feb 08 22:41:01 +0000 2018', 'id': 961731620511330304, 'id_str': '961731620511330304', 'text': \"In case you didn't know , 200 people including 30 children killed in Syria . But who cares ? Let me repeat again. 2… https://t.co/7TH9VL0f1K\", 'truncated': True, 'entities': {'hashtags': [], 'symbols': [], 'user_mentions': [], 'urls': [{'url': 'https://t.co/7TH9VL0f1K', 'expanded_url': 'https://twitter.com/i/web/status/961731620511330304', 'display_url': 'twitter.com/i/web/status/9…', 'indices': [117, 140]}]}, 'source': '<a href=\"http://twitter.com/download/iphone\" rel=\"nofollow\">Twitter for iPhone</a>', 'in_reply_to_status_id': None, 'in_reply_to_status_id_str': None, 'in_reply_to_user_id': None, 'in_reply_to_user_id_str': None, 'in_reply_to_screen_name': None, 'geo': None, 'coordinates': None, 'place': None, 'contributors': None, 'is_quote_status': False, 'retweet_count': 761, 'favorite_count': 867, 'favorited': False, 'retweeted': False, 'lang': 'en'}, 'is_quote_status': False, 'retweet_count': 761, 'favorite_count': 0, 'favorited': False, 'retweeted': False, 'lang': 'en'}, 'contributors_enabled': False, 'is_translator': False, 'is_translation_enabled': False, 'profile_background_color': 'C0DEED', 'profile_background_image_url': 'http://abs.twimg.com/images/themes/theme1/bg.png', 'profile_background_image_url_https': 'https://abs.twimg.com/images/themes/theme1/bg.png', 'profile_background_tile': False, 'profile_image_url': 'http://pbs.twimg.com/profile_images/740669939397369856/slpGWNS7_normal.jpg', 'profile_image_url_https': 'https://pbs.twimg.com/profile_images/740669939397369856/slpGWNS7_normal.jpg', 'profile_link_color': '1DA1F2', 'profile_sidebar_border_color': 'C0DEED', 'profile_sidebar_fill_color': 'DDEEF6', 'profile_text_color': '333333', 'profile_use_background_image': True, 'has_extended_profile': False, 'default_profile': True, 'default_profile_image': False, 'following': False, 'live_following': False, 'follow_request_sent': False, 'notifications': False, 'muting': False, 'blocking': False, 'blocked_by': False, 'translator_type': 'none'}, {'id': 1109598389048623107, 'id_str': '1109598389048623107', 'name': 'Frank Huang', 'screen_name': 'FrankHu45267920', 'location': '', 'description': '', 'url': None, 'entities': {'description': {'urls': []}}, 'protected': False, 'followers_count': 0, 'friends_count': 4, 'listed_count': 0, 'created_at': 'Sat Mar 23 23:30:46 +0000 2019', 'favourites_count': 0, 'utc_offset': None, 'time_zone': None, 'geo_enabled': False, 'verified': False, 'statuses_count': 0, 'lang': 'zh-cn', 'contributors_enabled': False, 'is_translator': False, 'is_translation_enabled': False, 'profile_background_color': 'F5F8FA', 'profile_background_image_url': None, 'profile_background_image_url_https': None, 'profile_background_tile': False, 'profile_image_url': 'http://abs.twimg.com/sticky/default_profile_images/default_profile_normal.png', 'profile_image_url_https': 'https://abs.twimg.com/sticky/default_profile_images/default_profile_normal.png', 'profile_link_color': '1DA1F2', 'profile_sidebar_border_color': 'C0DEED', 'profile_sidebar_fill_color': 'DDEEF6', 'profile_text_color': '333333', 'profile_use_background_image': True, 'has_extended_profile': False, 'default_profile': True, 'default_profile_image': True, 'following': False, 'live_following': False, 'follow_request_sent': False, 'notifications': False, 'muting': False, 'blocking': False, 'blocked_by': False, 'translator_type': 'none'}, {'id': 871428991000993794, 'id_str': '871428991000993794', 'name': 'William', 'screen_name': 'William_JDM', 'location': 'New York, USA', 'description': '•🦅EagleScout🦅• •📸Canon80D📸', 'url': None, 'entities': {'description': {'urls': []}}, 'protected': True, 'followers_count': 15, 'friends_count': 93, 'listed_count': 0, 'created_at': 'Sun Jun 04 18:10:36 +0000 2017', 'favourites_count': 49, 'utc_offset': None, 'time_zone': None, 'geo_enabled': False, 'verified': False, 'statuses_count': 8, 'lang': 'en', 'contributors_enabled': False, 'is_translator': False, 'is_translation_enabled': False, 'profile_background_color': 'F5F8FA', 'profile_background_image_url': None, 'profile_background_image_url_https': None, 'profile_background_tile': False, 'profile_image_url': 'http://pbs.twimg.com/profile_images/871685587589267456/HkhvIGIo_normal.jpg', 'profile_image_url_https': 'https://pbs.twimg.com/profile_images/871685587589267456/HkhvIGIo_normal.jpg', 'profile_banner_url': 'https://pbs.twimg.com/profile_banners/871428991000993794/1496661039', 'profile_link_color': '1DA1F2', 'profile_sidebar_border_color': 'C0DEED', 'profile_sidebar_fill_color': 'DDEEF6', 'profile_text_color': '333333', 'profile_use_background_image': True, 'has_extended_profile': True, 'default_profile': True, 'default_profile_image': False, 'following': False, 'live_following': False, 'follow_request_sent': False, 'notifications': False, 'muting': False, 'blocking': False, 'blocked_by': False, 'translator_type': 'none'}, {'id': 882299035733938177, 'id_str': '882299035733938177', 'name': 'Jeremy', 'screen_name': '1ELGodFather', 'location': 'Venezuela', 'description': 'enjoy', 'url': 'https://t.co/nnm1OVUyPn', 'entities': {'url': {'urls': [{'url': 'https://t.co/nnm1OVUyPn', 'expanded_url': 'https://www.instagram.com/jeremybastidas2001/', 'display_url': 'instagram.com/jeremybastidas…', 'indices': [0, 23]}]}, 'description': {'urls': []}}, 'protected': False, 'followers_count': 989, 'friends_count': 986, 'listed_count': 0, 'created_at': 'Tue Jul 04 18:04:17 +0000 2017', 'favourites_count': 1730, 'utc_offset': None, 'time_zone': None, 'geo_enabled': False, 'verified': False, 'statuses_count': 1084, 'lang': 'es', 'status': {'created_at': 'Sat Mar 23 23:34:22 +0000 2019', 'id': 1109599298738634752, 'id_str': '1109599298738634752', 'text': '@HumorViralES lo mas gracioso que vi hoy !!!', 'truncated': False, 'entities': {'hashtags': [], 'symbols': [], 'user_mentions': [{'screen_name': 'HumorViralES', 'name': 'Hυмσя Vιяαl™', 'id': 2685919298, 'id_str': '2685919298', 'indices': [0, 13]}], 'urls': []}, 'source': '<a href=\"http://twitter.com\" rel=\"nofollow\">Twitter Web Client</a>', 'in_reply_to_status_id': 1109026592221773824, 'in_reply_to_status_id_str': '1109026592221773824', 'in_reply_to_user_id': 2685919298, 'in_reply_to_user_id_str': '2685919298', 'in_reply_to_screen_name': 'HumorViralES', 'geo': None, 'coordinates': None, 'place': None, 'contributors': None, 'is_quote_status': False, 'retweet_count': 0, 'favorite_count': 0, 'favorited': False, 'retweeted': False, 'lang': 'es'}, 'contributors_enabled': False, 'is_translator': False, 'is_translation_enabled': False, 'profile_background_color': '000000', 'profile_background_image_url': 'http://abs.twimg.com/images/themes/theme1/bg.png', 'profile_background_image_url_https': 'https://abs.twimg.com/images/themes/theme1/bg.png', 'profile_background_tile': False, 'profile_image_url': 'http://pbs.twimg.com/profile_images/1100758509124284417/6TxxKW7R_normal.png', 'profile_image_url_https': 'https://pbs.twimg.com/profile_images/1100758509124284417/6TxxKW7R_normal.png', 'profile_banner_url': 'https://pbs.twimg.com/profile_banners/882299035733938177/1551276783', 'profile_link_color': '1B95E0', 'profile_sidebar_border_color': '000000', 'profile_sidebar_fill_color': '000000', 'profile_text_color': '000000', 'profile_use_background_image': False, 'has_extended_profile': True, 'default_profile': False, 'default_profile_image': False, 'following': False, 'live_following': False, 'follow_request_sent': False, 'notifications': False, 'muting': False, 'blocking': False, 'blocked_by': False, 'translator_type': 'none'}, {'id': 1109591964138332162, 'id_str': '1109591964138332162', 'name': 'amila Silva', 'screen_name': 'amilaSilva19', 'location': '', 'description': 'Everyone has a twist in life. If you find it you will win if you don’t ..... just keep trying 😊😎🔥🤘', 'url': None, 'entities': {'description': {'urls': []}}, 'protected': False, 'followers_count': 2, 'friends_count': 58, 'listed_count': 0, 'created_at': 'Sat Mar 23 23:05:14 +0000 2019', 'favourites_count': 0, 'utc_offset': None, 'time_zone': None, 'geo_enabled': False, 'verified': False, 'statuses_count': 0, 'lang': 'en', 'contributors_enabled': False, 'is_translator': False, 'is_translation_enabled': False, 'profile_background_color': 'F5F8FA', 'profile_background_image_url': None, 'profile_background_image_url_https': None, 'profile_background_tile': False, 'profile_image_url': 'http://pbs.twimg.com/profile_images/1109592313175646208/z223gXcd_normal.jpg', 'profile_image_url_https': 'https://pbs.twimg.com/profile_images/1109592313175646208/z223gXcd_normal.jpg', 'profile_link_color': '1DA1F2', 'profile_sidebar_border_color': 'C0DEED', 'profile_sidebar_fill_color': 'DDEEF6', 'profile_text_color': '333333', 'profile_use_background_image': True, 'has_extended_profile': False, 'default_profile': True, 'default_profile_image': False, 'following': False, 'live_following': False, 'follow_request_sent': False, 'notifications': False, 'muting': False, 'blocking': False, 'blocked_by': False, 'translator_type': 'none'}, {'id': 1109597289864200199, 'id_str': '1109597289864200199', 'name': 'Khan Arish', 'screen_name': 'KhanArish12', 'location': '', 'description': '', 'url': None, 'entities': {'description': {'urls': []}}, 'protected': False, 'followers_count': 0, 'friends_count': 27, 'listed_count': 0, 'created_at': 'Sat Mar 23 23:26:24 +0000 2019', 'favourites_count': 0, 'utc_offset': None, 'time_zone': None, 'geo_enabled': False, 'verified': False, 'statuses_count': 1, 'lang': 'en', 'status': {'created_at': 'Sat Mar 23 23:33:35 +0000 2019', 'id': 1109599101124071429, 'id_str': '1109599101124071429', 'text': 'RT @GautamGambhir: Broad day light, bashing a Kashmiri trader in his own country ! Disgrace ! Are we setting a new nationalism ? सिर्फ़ हमा…', 'truncated': False, 'entities': {'hashtags': [], 'symbols': [], 'user_mentions': [{'screen_name': 'GautamGambhir', 'name': 'Gautam Gambhir', 'id': 99448420, 'id_str': '99448420', 'indices': [3, 17]}], 'urls': []}, 'source': '<a href=\"http://twitter.com/download/android\" rel=\"nofollow\">Twitter for Android</a>', 'in_reply_to_status_id': None, 'in_reply_to_status_id_str': None, 'in_reply_to_user_id': None, 'in_reply_to_user_id_str': None, 'in_reply_to_screen_name': None, 'geo': None, 'coordinates': None, 'place': None, 'contributors': None, 'retweeted_status': {'created_at': 'Thu Mar 07 07:10:47 +0000 2019', 'id': 1103553565203804161, 'id_str': '1103553565203804161', 'text': 'Broad day light, bashing a Kashmiri trader in his own country ! Disgrace ! Are we setting a new nationalism ? सिर्… https://t.co/TUBL8cQPCq', 'truncated': True, 'entities': {'hashtags': [], 'symbols': [], 'user_mentions': [], 'urls': [{'url': 'https://t.co/TUBL8cQPCq', 'expanded_url': 'https://twitter.com/i/web/status/1103553565203804161', 'display_url': 'twitter.com/i/web/status/1…', 'indices': [116, 139]}]}, 'source': '<a href=\"http://twitter.com/download/iphone\" rel=\"nofollow\">Twitter for iPhone</a>', 'in_reply_to_status_id': None, 'in_reply_to_status_id_str': None, 'in_reply_to_user_id': None, 'in_reply_to_user_id_str': None, 'in_reply_to_screen_name': None, 'geo': None, 'coordinates': None, 'place': None, 'contributors': None, 'is_quote_status': False, 'retweet_count': 3790, 'favorite_count': 25683, 'favorited': False, 'retweeted': False, 'lang': 'en'}, 'is_quote_status': False, 'retweet_count': 3790, 'favorite_count': 0, 'favorited': False, 'retweeted': False, 'lang': 'en'}, 'contributors_enabled': False, 'is_translator': False, 'is_translation_enabled': False, 'profile_background_color': 'F5F8FA', 'profile_background_image_url': None, 'profile_background_image_url_https': None, 'profile_background_tile': False, 'profile_image_url': 'http://abs.twimg.com/sticky/default_profile_images/default_profile_normal.png', 'profile_image_url_https': 'https://abs.twimg.com/sticky/default_profile_images/default_profile_normal.png', 'profile_link_color': '1DA1F2', 'profile_sidebar_border_color': 'C0DEED', 'profile_sidebar_fill_color': 'DDEEF6', 'profile_text_color': '333333', 'profile_use_background_image': True, 'has_extended_profile': False, 'default_profile': True, 'default_profile_image': True, 'following': False, 'live_following': False, 'follow_request_sent': False, 'notifications': False, 'muting': False, 'blocking': False, 'blocked_by': False, 'translator_type': 'none'}, {'id': 1109597079469346817, 'id_str': '1109597079469346817', 'name': 'Kunal', 'screen_name': 'Kunal51412446', 'location': '', 'description': 'Kunal Sundrani', 'url': None, 'entities': {'description': {'urls': []}}, 'protected': False, 'followers_count': 0, 'friends_count': 139, 'listed_count': 0, 'created_at': 'Sat Mar 23 23:25:33 +0000 2019', 'favourites_count': 3, 'utc_offset': None, 'time_zone': None, 'geo_enabled': False, 'verified': False, 'statuses_count': 0, 'lang': 'en', 'contributors_enabled': False, 'is_translator': False, 'is_translation_enabled': False, 'profile_background_color': 'F5F8FA', 'profile_background_image_url': None, 'profile_background_image_url_https': None, 'profile_background_tile': False, 'profile_image_url': 'http://abs.twimg.com/sticky/default_profile_images/default_profile_normal.png', 'profile_image_url_https': 'https://abs.twimg.com/sticky/default_profile_images/default_profile_normal.png', 'profile_link_color': '1DA1F2', 'profile_sidebar_border_color': 'C0DEED', 'profile_sidebar_fill_color': 'DDEEF6', 'profile_text_color': '333333', 'profile_use_background_image': True, 'has_extended_profile': False, 'default_profile': True, 'default_profile_image': True, 'following': False, 'live_following': False, 'follow_request_sent': False, 'notifications': False, 'muting': False, 'blocking': False, 'blocked_by': False, 'translator_type': 'none'}, {'id': 1109597899413815296, 'id_str': '1109597899413815296', 'name': 'Peterpan123', 'screen_name': 'Peterpa19533744', 'location': '', 'description': 'abc', 'url': None, 'entities': {'description': {'urls': []}}, 'protected': False, 'followers_count': 0, 'friends_count': 3, 'listed_count': 0, 'created_at': 'Sat Mar 23 23:28:49 +0000 2019', 'favourites_count': 0, 'utc_offset': None, 'time_zone': None, 'geo_enabled': False, 'verified': False, 'statuses_count': 0, 'lang': 'en', 'contributors_enabled': False, 'is_translator': False, 'is_translation_enabled': False, 'profile_background_color': 'F5F8FA', 'profile_background_image_url': None, 'profile_background_image_url_https': None, 'profile_background_tile': False, 'profile_image_url': 'http://abs.twimg.com/sticky/default_profile_images/default_profile_normal.png', 'profile_image_url_https': 'https://abs.twimg.com/sticky/default_profile_images/default_profile_normal.png', 'profile_link_color': '1DA1F2', 'profile_sidebar_border_color': 'C0DEED', 'profile_sidebar_fill_color': 'DDEEF6', 'profile_text_color': '333333', 'profile_use_background_image': True, 'has_extended_profile': False, 'default_profile': True, 'default_profile_image': True, 'following': False, 'live_following': False, 'follow_request_sent': False, 'notifications': False, 'muting': False, 'blocking': False, 'blocked_by': False, 'translator_type': 'none'}, {'id': 3220774166, 'id_str': '3220774166', 'name': 'Sarah', 'screen_name': 'Sh4d0wSarah', 'location': 'Texas, USA', 'description': 'Let’s get this bread 🍞', 'url': None, 'entities': {'description': {'urls': []}}, 'protected': False, 'followers_count': 23, 'friends_count': 66, 'listed_count': 1, 'created_at': 'Tue May 19 21:19:28 +0000 2015', 'favourites_count': 3074, 'utc_offset': None, 'time_zone': None, 'geo_enabled': True, 'verified': False, 'statuses_count': 212, 'lang': 'en', 'status': {'created_at': 'Fri Mar 22 03:39:05 +0000 2019', 'id': 1108936107628990464, 'id_str': '1108936107628990464', 'text': 'RT @heikala_art: Process of Echoes✨ https://t.co/rlB82FF7nq', 'truncated': False, 'entities': {'hashtags': [], 'symbols': [], 'user_mentions': [{'screen_name': 'heikala_art', 'name': 'Heikala', 'id': 4417440863, 'id_str': '4417440863', 'indices': [3, 15]}], 'urls': [], 'media': [{'id': 1108840978490626048, 'id_str': '1108840978490626048', 'indices': [36, 59], 'media_url': 'http://pbs.twimg.com/ext_tw_video_thumb/1108840978490626048/pu/img/GsneBU5u6JnqEsRO.jpg', 'media_url_https': 'https://pbs.twimg.com/ext_tw_video_thumb/1108840978490626048/pu/img/GsneBU5u6JnqEsRO.jpg', 'url': 'https://t.co/rlB82FF7nq', 'display_url': 'pic.twitter.com/rlB82FF7nq', 'expanded_url': 'https://twitter.com/heikala_art/status/1108842071614324736/video/1', 'type': 'photo', 'sizes': {'thumb': {'w': 150, 'h': 150, 'resize': 'crop'}, 'small': {'w': 680, 'h': 680, 'resize': 'fit'}, 'medium': {'w': 720, 'h': 720, 'resize': 'fit'}, 'large': {'w': 720, 'h': 720, 'resize': 'fit'}}, 'source_status_id': 1108842071614324736, 'source_status_id_str': '1108842071614324736', 'source_user_id': 4417440863, 'source_user_id_str': '4417440863'}]}, 'extended_entities': {'media': [{'id': 1108840978490626048, 'id_str': '1108840978490626048', 'indices': [36, 59], 'media_url': 'http://pbs.twimg.com/ext_tw_video_thumb/1108840978490626048/pu/img/GsneBU5u6JnqEsRO.jpg', 'media_url_https': 'https://pbs.twimg.com/ext_tw_video_thumb/1108840978490626048/pu/img/GsneBU5u6JnqEsRO.jpg', 'url': 'https://t.co/rlB82FF7nq', 'display_url': 'pic.twitter.com/rlB82FF7nq', 'expanded_url': 'https://twitter.com/heikala_art/status/1108842071614324736/video/1', 'type': 'video', 'sizes': {'thumb': {'w': 150, 'h': 150, 'resize': 'crop'}, 'small': {'w': 680, 'h': 680, 'resize': 'fit'}, 'medium': {'w': 720, 'h': 720, 'resize': 'fit'}, 'large': {'w': 720, 'h': 720, 'resize': 'fit'}}, 'source_status_id': 1108842071614324736, 'source_status_id_str': '1108842071614324736', 'source_user_id': 4417440863, 'source_user_id_str': '4417440863', 'video_info': {'aspect_ratio': [1, 1], 'duration_millis': 60000, 'variants': [{'bitrate': 832000, 'content_type': 'video/mp4', 'url': 'https://video.twimg.com/ext_tw_video/1108840978490626048/pu/vid/480x480/XRUpaOpDGnja2qqN.mp4?tag=8'}, {'content_type': 'application/x-mpegURL', 'url': 'https://video.twimg.com/ext_tw_video/1108840978490626048/pu/pl/yk9mWencPC7JV9Kl.m3u8?tag=8'}, {'bitrate': 432000, 'content_type': 'video/mp4', 'url': 'https://video.twimg.com/ext_tw_video/1108840978490626048/pu/vid/320x320/Ogj4zxFqTdv-x5M-.mp4?tag=8'}, {'bitrate': 1280000, 'content_type': 'video/mp4', 'url': 'https://video.twimg.com/ext_tw_video/1108840978490626048/pu/vid/720x720/YvybtLB1CNR-yO_B.mp4?tag=8'}]}, 'additional_media_info': {'monetizable': False}}]}, 'source': '<a href=\"http://twitter.com/download/iphone\" rel=\"nofollow\">Twitter for iPhone</a>', 'in_reply_to_status_id': None, 'in_reply_to_status_id_str': None, 'in_reply_to_user_id': None, 'in_reply_to_user_id_str': None, 'in_reply_to_screen_name': None, 'geo': None, 'coordinates': None, 'place': None, 'contributors': None, 'retweeted_status': {'created_at': 'Thu Mar 21 21:25:25 +0000 2019', 'id': 1108842071614324736, 'id_str': '1108842071614324736', 'text': 'Process of Echoes✨ https://t.co/rlB82FF7nq', 'truncated': False, 'entities': {'hashtags': [], 'symbols': [], 'user_mentions': [], 'urls': [], 'media': [{'id': 1108840978490626048, 'id_str': '1108840978490626048', 'indices': [19, 42], 'media_url': 'http://pbs.twimg.com/ext_tw_video_thumb/1108840978490626048/pu/img/GsneBU5u6JnqEsRO.jpg', 'media_url_https': 'https://pbs.twimg.com/ext_tw_video_thumb/1108840978490626048/pu/img/GsneBU5u6JnqEsRO.jpg', 'url': 'https://t.co/rlB82FF7nq', 'display_url': 'pic.twitter.com/rlB82FF7nq', 'expanded_url': 'https://twitter.com/heikala_art/status/1108842071614324736/video/1', 'type': 'photo', 'sizes': {'thumb': {'w': 150, 'h': 150, 'resize': 'crop'}, 'small': {'w': 680, 'h': 680, 'resize': 'fit'}, 'medium': {'w': 720, 'h': 720, 'resize': 'fit'}, 'large': {'w': 720, 'h': 720, 'resize': 'fit'}}}]}, 'extended_entities': {'media': [{'id': 1108840978490626048, 'id_str': '1108840978490626048', 'indices': [19, 42], 'media_url': 'http://pbs.twimg.com/ext_tw_video_thumb/1108840978490626048/pu/img/GsneBU5u6JnqEsRO.jpg', 'media_url_https': 'https://pbs.twimg.com/ext_tw_video_thumb/1108840978490626048/pu/img/GsneBU5u6JnqEsRO.jpg', 'url': 'https://t.co/rlB82FF7nq', 'display_url': 'pic.twitter.com/rlB82FF7nq', 'expanded_url': 'https://twitter.com/heikala_art/status/1108842071614324736/video/1', 'type': 'video', 'sizes': {'thumb': {'w': 150, 'h': 150, 'resize': 'crop'}, 'small': {'w': 680, 'h': 680, 'resize': 'fit'}, 'medium': {'w': 720, 'h': 720, 'resize': 'fit'}, 'large': {'w': 720, 'h': 720, 'resize': 'fit'}}, 'video_info': {'aspect_ratio': [1, 1], 'duration_millis': 60000, 'variants': [{'bitrate': 832000, 'content_type': 'video/mp4', 'url': 'https://video.twimg.com/ext_tw_video/1108840978490626048/pu/vid/480x480/XRUpaOpDGnja2qqN.mp4?tag=8'}, {'content_type': 'application/x-mpegURL', 'url': 'https://video.twimg.com/ext_tw_video/1108840978490626048/pu/pl/yk9mWencPC7JV9Kl.m3u8?tag=8'}, {'bitrate': 432000, 'content_type': 'video/mp4', 'url': 'https://video.twimg.com/ext_tw_video/1108840978490626048/pu/vid/320x320/Ogj4zxFqTdv-x5M-.mp4?tag=8'}, {'bitrate': 1280000, 'content_type': 'video/mp4', 'url': 'https://video.twimg.com/ext_tw_video/1108840978490626048/pu/vid/720x720/YvybtLB1CNR-yO_B.mp4?tag=8'}]}, 'additional_media_info': {'monetizable': False}}]}, 'source': '<a href=\"http://twitter.com/download/iphone\" rel=\"nofollow\">Twitter for iPhone</a>', 'in_reply_to_status_id': None, 'in_reply_to_status_id_str': None, 'in_reply_to_user_id': None, 'in_reply_to_user_id_str': None, 'in_reply_to_screen_name': None, 'geo': None, 'coordinates': None, 'place': None, 'contributors': None, 'is_quote_status': False, 'retweet_count': 15885, 'favorite_count': 51798, 'favorited': False, 'retweeted': False, 'possibly_sensitive': False, 'lang': 'en'}, 'is_quote_status': False, 'retweet_count': 15885, 'favorite_count': 0, 'favorited': False, 'retweeted': False, 'possibly_sensitive': False, 'lang': 'en'}, 'contributors_enabled': False, 'is_translator': False, 'is_translation_enabled': False, 'profile_background_color': '000000', 'profile_background_image_url': 'http://abs.twimg.com/images/themes/theme1/bg.png', 'profile_background_image_url_https': 'https://abs.twimg.com/images/themes/theme1/bg.png', 'profile_background_tile': False, 'profile_image_url': 'http://pbs.twimg.com/profile_images/1038818004082065408/HG-Nc6m5_normal.jpg', 'profile_image_url_https': 'https://pbs.twimg.com/profile_images/1038818004082065408/HG-Nc6m5_normal.jpg', 'profile_banner_url': 'https://pbs.twimg.com/profile_banners/3220774166/1536508489', 'profile_link_color': 'F58EA8', 'profile_sidebar_border_color': '000000', 'profile_sidebar_fill_color': '000000', 'profile_text_color': '000000', 'profile_use_background_image': False, 'has_extended_profile': True, 'default_profile': False, 'default_profile_image': False, 'following': False, 'live_following': False, 'follow_request_sent': False, 'notifications': False, 'muting': False, 'blocking': False, 'blocked_by': False, 'translator_type': 'none'}, {'id': 995397567998496770, 'id_str': '995397567998496770', 'name': 'Lexxie Campbell', 'screen_name': 'LexxieDawn04', 'location': 'England, United Kingdom', 'description': '🏳️\\u200d🌈', 'url': None, 'entities': {'description': {'urls': []}}, 'protected': True, 'followers_count': 5, 'friends_count': 76, 'listed_count': 0, 'created_at': 'Sat May 12 20:17:28 +0000 2018', 'favourites_count': 274, 'utc_offset': None, 'time_zone': None, 'geo_enabled': False, 'verified': False, 'statuses_count': 23, 'lang': 'en', 'contributors_enabled': False, 'is_translator': False, 'is_translation_enabled': False, 'profile_background_color': 'F5F8FA', 'profile_background_image_url': None, 'profile_background_image_url_https': None, 'profile_background_tile': False, 'profile_image_url': 'http://pbs.twimg.com/profile_images/1084936350573477889/wSEXR7RA_normal.jpg', 'profile_image_url_https': 'https://pbs.twimg.com/profile_images/1084936350573477889/wSEXR7RA_normal.jpg', 'profile_banner_url': 'https://pbs.twimg.com/profile_banners/995397567998496770/1533072327', 'profile_link_color': '1DA1F2', 'profile_sidebar_border_color': 'C0DEED', 'profile_sidebar_fill_color': 'DDEEF6', 'profile_text_color': '333333', 'profile_use_background_image': True, 'has_extended_profile': True, 'default_profile': True, 'default_profile_image': False, 'following': False, 'live_following': False, 'follow_request_sent': False, 'notifications': False, 'muting': False, 'blocking': False, 'blocked_by': False, 'translator_type': 'none'}, {'id': 1109597406394568704, 'id_str': '1109597406394568704', 'name': 'Goatly_GamingYT', 'screen_name': 'GamingytGoatly', 'location': '', 'description': 'I’m a youtuber and like to play fortnite🤗', 'url': None, 'entities': {'description': {'urls': []}}, 'protected': False, 'followers_count': 1, 'friends_count': 6, 'listed_count': 0, 'created_at': 'Sat Mar 23 23:26:51 +0000 2019', 'favourites_count': 0, 'utc_offset': None, 'time_zone': None, 'geo_enabled': False, 'verified': False, 'statuses_count': 1, 'lang': 'en', 'status': {'created_at': 'Sat Mar 23 23:33:40 +0000 2019', 'id': 1109599120044507137, 'id_str': '1109599120044507137', 'text': 'At my grandmas!!! https://t.co/HBp6HNaHTk', 'truncated': False, 'entities': {'hashtags': [], 'symbols': [], 'user_mentions': [], 'urls': [], 'media': [{'id': 1109599109768531968, 'id_str': '1109599109768531968', 'indices': [18, 41], 'media_url': 'http://pbs.twimg.com/media/D2YWguzX0AAncZS.jpg', 'media_url_https': 'https://pbs.twimg.com/media/D2YWguzX0AAncZS.jpg', 'url': 'https://t.co/HBp6HNaHTk', 'display_url': 'pic.twitter.com/HBp6HNaHTk', 'expanded_url': 'https://twitter.com/GamingytGoatly/status/1109599120044507137/photo/1', 'type': 'photo', 'sizes': {'thumb': {'w': 150, 'h': 150, 'resize': 'crop'}, 'large': {'w': 576, 'h': 1024, 'resize': 'fit'}, 'medium': {'w': 576, 'h': 1024, 'resize': 'fit'}, 'small': {'w': 383, 'h': 680, 'resize': 'fit'}}}]}, 'extended_entities': {'media': [{'id': 1109599109768531968, 'id_str': '1109599109768531968', 'indices': [18, 41], 'media_url': 'http://pbs.twimg.com/media/D2YWguzX0AAncZS.jpg', 'media_url_https': 'https://pbs.twimg.com/media/D2YWguzX0AAncZS.jpg', 'url': 'https://t.co/HBp6HNaHTk', 'display_url': 'pic.twitter.com/HBp6HNaHTk', 'expanded_url': 'https://twitter.com/GamingytGoatly/status/1109599120044507137/photo/1', 'type': 'photo', 'sizes': {'thumb': {'w': 150, 'h': 150, 'resize': 'crop'}, 'large': {'w': 576, 'h': 1024, 'resize': 'fit'}, 'medium': {'w': 576, 'h': 1024, 'resize': 'fit'}, 'small': {'w': 383, 'h': 680, 'resize': 'fit'}}}]}, 'source': '<a href=\"http://twitter.com/download/iphone\" rel=\"nofollow\">Twitter for iPhone</a>', 'in_reply_to_status_id': None, 'in_reply_to_status_id_str': None, 'in_reply_to_user_id': None, 'in_reply_to_user_id_str': None, 'in_reply_to_screen_name': None, 'geo': None, 'coordinates': None, 'place': None, 'contributors': None, 'is_quote_status': False, 'retweet_count': 0, 'favorite_count': 0, 'favorited': False, 'retweeted': False, 'possibly_sensitive': False, 'lang': 'en'}, 'contributors_enabled': False, 'is_translator': False, 'is_translation_enabled': False, 'profile_background_color': 'F5F8FA', 'profile_background_image_url': None, 'profile_background_image_url_https': None, 'profile_background_tile': False, 'profile_image_url': 'http://pbs.twimg.com/profile_images/1109597590318956550/Ezm41J1j_normal.jpg', 'profile_image_url_https': 'https://pbs.twimg.com/profile_images/1109597590318956550/Ezm41J1j_normal.jpg', 'profile_link_color': '1DA1F2', 'profile_sidebar_border_color': 'C0DEED', 'profile_sidebar_fill_color': 'DDEEF6', 'profile_text_color': '333333', 'profile_use_background_image': True, 'has_extended_profile': False, 'default_profile': True, 'default_profile_image': False, 'following': False, 'live_following': False, 'follow_request_sent': False, 'notifications': False, 'muting': False, 'blocking': False, 'blocked_by': False, 'translator_type': 'none'}, {'id': 1109590701178867712, 'id_str': '1109590701178867712', 'name': 'polly', 'screen_name': 'suggs__hrvy', 'location': 'England, United Kingdom', 'description': 'polly:) / old account got suspended', 'url': None, 'entities': {'description': {'urls': []}}, 'protected': False, 'followers_count': 10, 'friends_count': 185, 'listed_count': 0, 'created_at': 'Sat Mar 23 23:00:13 +0000 2019', 'favourites_count': 3, 'utc_offset': None, 'time_zone': None, 'geo_enabled': False, 'verified': False, 'statuses_count': 5, 'lang': 'en', 'status': {'created_at': 'Sat Mar 23 23:33:03 +0000 2019', 'id': 1109598966797271040, 'id_str': '1109598966797271040', 'text': 'RT @starrybuswell: my fav gif ever . the happiness on her face is everything to me 🥺https://t.co/ti6pVmAwy8', 'truncated': False, 'entities': {'hashtags': [], 'symbols': [], 'user_mentions': [{'screen_name': 'starrybuswell', 'name': 'lauren | fan acc', 'id': 1078370699276967936, 'id_str': '1078370699276967936', 'indices': [3, 17]}], 'urls': [], 'media': [{'id': 1109533964052635658, 'id_str': '1109533964052635658', 'indices': [84, 107], 'media_url': 'http://pbs.twimg.com/tweet_video_thumb/D2XbQwGWoAo5b6q.jpg', 'media_url_https': 'https://pbs.twimg.com/tweet_video_thumb/D2XbQwGWoAo5b6q.jpg', 'url': 'https://t.co/ti6pVmAwy8', 'display_url': 'pic.twitter.com/ti6pVmAwy8', 'expanded_url': 'https://twitter.com/starrybuswell/status/1109534077491838976/photo/1', 'type': 'photo', 'sizes': {'thumb': {'w': 150, 'h': 150, 'resize': 'crop'}, 'medium': {'w': 600, 'h': 336, 'resize': 'fit'}, 'small': {'w': 600, 'h': 336, 'resize': 'fit'}, 'large': {'w': 600, 'h': 336, 'resize': 'fit'}}, 'source_status_id': 1109534077491838976, 'source_status_id_str': '1109534077491838976', 'source_user_id': 1078370699276967936, 'source_user_id_str': '1078370699276967936'}]}, 'extended_entities': {'media': [{'id': 1109533964052635658, 'id_str': '1109533964052635658', 'indices': [84, 107], 'media_url': 'http://pbs.twimg.com/tweet_video_thumb/D2XbQwGWoAo5b6q.jpg', 'media_url_https': 'https://pbs.twimg.com/tweet_video_thumb/D2XbQwGWoAo5b6q.jpg', 'url': 'https://t.co/ti6pVmAwy8', 'display_url': 'pic.twitter.com/ti6pVmAwy8', 'expanded_url': 'https://twitter.com/starrybuswell/status/1109534077491838976/photo/1', 'type': 'animated_gif', 'sizes': {'thumb': {'w': 150, 'h': 150, 'resize': 'crop'}, 'medium': {'w': 600, 'h': 336, 'resize': 'fit'}, 'small': {'w': 600, 'h': 336, 'resize': 'fit'}, 'large': {'w': 600, 'h': 336, 'resize': 'fit'}}, 'source_status_id': 1109534077491838976, 'source_status_id_str': '1109534077491838976', 'source_user_id': 1078370699276967936, 'source_user_id_str': '1078370699276967936', 'video_info': {'aspect_ratio': [25, 14], 'variants': [{'bitrate': 0, 'content_type': 'video/mp4', 'url': 'https://video.twimg.com/tweet_video/D2XbQwGWoAo5b6q.mp4'}]}}]}, 'source': '<a href=\"http://twitter.com/download/iphone\" rel=\"nofollow\">Twitter for iPhone</a>', 'in_reply_to_status_id': None, 'in_reply_to_status_id_str': None, 'in_reply_to_user_id': None, 'in_reply_to_user_id_str': None, 'in_reply_to_screen_name': None, 'geo': None, 'coordinates': None, 'place': None, 'contributors': None, 'retweeted_status': {'created_at': 'Sat Mar 23 20:43:12 +0000 2019', 'id': 1109556222443864064, 'id_str': '1109556222443864064', 'text': 'my fav gif ever . the happiness on her face is everything to me 🥺https://t.co/ti6pVmAwy8', 'truncated': False, 'entities': {'hashtags': [], 'symbols': [], 'user_mentions': [], 'urls': [], 'media': [{'id': 1109533964052635658, 'id_str': '1109533964052635658', 'indices': [65, 88], 'media_url': 'http://pbs.twimg.com/tweet_video_thumb/D2XbQwGWoAo5b6q.jpg', 'media_url_https': 'https://pbs.twimg.com/tweet_video_thumb/D2XbQwGWoAo5b6q.jpg', 'url': 'https://t.co/ti6pVmAwy8', 'display_url': 'pic.twitter.com/ti6pVmAwy8', 'expanded_url': 'https://twitter.com/starrybuswell/status/1109534077491838976/photo/1', 'type': 'photo', 'sizes': {'thumb': {'w': 150, 'h': 150, 'resize': 'crop'}, 'medium': {'w': 600, 'h': 336, 'resize': 'fit'}, 'small': {'w': 600, 'h': 336, 'resize': 'fit'}, 'large': {'w': 600, 'h': 336, 'resize': 'fit'}}, 'source_status_id': 1109534077491838976, 'source_status_id_str': '1109534077491838976', 'source_user_id': 1078370699276967936, 'source_user_id_str': '1078370699276967936'}]}, 'extended_entities': {'media': [{'id': 1109533964052635658, 'id_str': '1109533964052635658', 'indices': [65, 88], 'media_url': 'http://pbs.twimg.com/tweet_video_thumb/D2XbQwGWoAo5b6q.jpg', 'media_url_https': 'https://pbs.twimg.com/tweet_video_thumb/D2XbQwGWoAo5b6q.jpg', 'url': 'https://t.co/ti6pVmAwy8', 'display_url': 'pic.twitter.com/ti6pVmAwy8', 'expanded_url': 'https://twitter.com/starrybuswell/status/1109534077491838976/photo/1', 'type': 'animated_gif', 'sizes': {'thumb': {'w': 150, 'h': 150, 'resize': 'crop'}, 'medium': {'w': 600, 'h': 336, 'resize': 'fit'}, 'small': {'w': 600, 'h': 336, 'resize': 'fit'}, 'large': {'w': 600, 'h': 336, 'resize': 'fit'}}, 'source_status_id': 1109534077491838976, 'source_status_id_str': '1109534077491838976', 'source_user_id': 1078370699276967936, 'source_user_id_str': '1078370699276967936', 'video_info': {'aspect_ratio': [25, 14], 'variants': [{'bitrate': 0, 'content_type': 'video/mp4', 'url': 'https://video.twimg.com/tweet_video/D2XbQwGWoAo5b6q.mp4'}]}}]}, 'source': '<a href=\"http://twitter.com/download/iphone\" rel=\"nofollow\">Twitter for iPhone</a>', 'in_reply_to_status_id': None, 'in_reply_to_status_id_str': None, 'in_reply_to_user_id': None, 'in_reply_to_user_id_str': None, 'in_reply_to_screen_name': None, 'geo': None, 'coordinates': None, 'place': None, 'contributors': None, 'is_quote_status': False, 'retweet_count': 19, 'favorite_count': 84, 'favorited': False, 'retweeted': False, 'possibly_sensitive': False, 'lang': 'en'}, 'is_quote_status': False, 'retweet_count': 19, 'favorite_count': 0, 'favorited': False, 'retweeted': False, 'possibly_sensitive': False, 'lang': 'en'}, 'contributors_enabled': False, 'is_translator': False, 'is_translation_enabled': False, 'profile_background_color': 'F5F8FA', 'profile_background_image_url': None, 'profile_background_image_url_https': None, 'profile_background_tile': False, 'profile_image_url': 'http://pbs.twimg.com/profile_images/1109590788860723200/E6xJb0k3_normal.jpg', 'profile_image_url_https': 'https://pbs.twimg.com/profile_images/1109590788860723200/E6xJb0k3_normal.jpg', 'profile_banner_url': 'https://pbs.twimg.com/profile_banners/1109590701178867712/1553382259', 'profile_link_color': '1DA1F2', 'profile_sidebar_border_color': 'C0DEED', 'profile_sidebar_fill_color': 'DDEEF6', 'profile_text_color': '333333', 'profile_use_background_image': True, 'has_extended_profile': True, 'default_profile': True, 'default_profile_image': False, 'following': False, 'live_following': False, 'follow_request_sent': False, 'notifications': False, 'muting': False, 'blocking': False, 'blocked_by': False, 'translator_type': 'none'}, {'id': 1107719821284773888, 'id_str': '1107719821284773888', 'name': 'Collin', 'screen_name': 'Collin69796361', 'location': '', 'description': '', 'url': None, 'entities': {'description': {'urls': []}}, 'protected': False, 'followers_count': 16, 'friends_count': 115, 'listed_count': 0, 'created_at': 'Mon Mar 18 19:06:00 +0000 2019', 'favourites_count': 96, 'utc_offset': None, 'time_zone': None, 'geo_enabled': False, 'verified': False, 'statuses_count': 1, 'lang': 'en', 'status': {'created_at': 'Mon Mar 18 19:21:43 +0000 2019', 'id': 1107723776463200258, 'id_str': '1107723776463200258', 'text': 'RT @MrBeastYT: I’m going to dm someone who retweets this tweet a $1,000 Amazon Gift card in 72 hours. If you’re picked but don’t follow me,…', 'truncated': False, 'entities': {'hashtags': [], 'symbols': [], 'user_mentions': [{'screen_name': 'MrBeastYT', 'name': 'MrBeast', 'id': 2455740283, 'id_str': '2455740283', 'indices': [3, 13]}], 'urls': []}, 'source': '<a href=\"http://twitter.com/download/iphone\" rel=\"nofollow\">Twitter for iPhone</a>', 'in_reply_to_status_id': None, 'in_reply_to_status_id_str': None, 'in_reply_to_user_id': None, 'in_reply_to_user_id_str': None, 'in_reply_to_screen_name': None, 'geo': None, 'coordinates': None, 'place': None, 'contributors': None, 'retweeted_status': {'created_at': 'Sat Mar 16 13:15:46 +0000 2019', 'id': 1106906905580961792, 'id_str': '1106906905580961792', 'text': 'I’m going to dm someone who retweets this tweet a $1,000 Amazon Gift card in 72 hours. If you’re picked but don’t f… https://t.co/djZiXr3JYK', 'truncated': True, 'entities': {'hashtags': [], 'symbols': [], 'user_mentions': [], 'urls': [{'url': 'https://t.co/djZiXr3JYK', 'expanded_url': 'https://twitter.com/i/web/status/1106906905580961792', 'display_url': 'twitter.com/i/web/status/1…', 'indices': [117, 140]}]}, 'source': '<a href=\"http://twitter.com/download/iphone\" rel=\"nofollow\">Twitter for iPhone</a>', 'in_reply_to_status_id': None, 'in_reply_to_status_id_str': None, 'in_reply_to_user_id': None, 'in_reply_to_user_id_str': None, 'in_reply_to_screen_name': None, 'geo': None, 'coordinates': None, 'place': None, 'contributors': None, 'is_quote_status': False, 'retweet_count': 480396, 'favorite_count': 198863, 'favorited': False, 'retweeted': False, 'lang': 'en'}, 'is_quote_status': False, 'retweet_count': 480396, 'favorite_count': 0, 'favorited': False, 'retweeted': False, 'lang': 'en'}, 'contributors_enabled': False, 'is_translator': False, 'is_translation_enabled': False, 'profile_background_color': 'F5F8FA', 'profile_background_image_url': None, 'profile_background_image_url_https': None, 'profile_background_tile': False, 'profile_image_url': 'http://pbs.twimg.com/profile_images/1109448384153374722/B-1phPcn_normal.jpg', 'profile_image_url_https': 'https://pbs.twimg.com/profile_images/1109448384153374722/B-1phPcn_normal.jpg', 'profile_banner_url': 'https://pbs.twimg.com/profile_banners/1107719821284773888/1552936708', 'profile_link_color': '1DA1F2', 'profile_sidebar_border_color': 'C0DEED', 'profile_sidebar_fill_color': 'DDEEF6', 'profile_text_color': '333333', 'profile_use_background_image': True, 'has_extended_profile': False, 'default_profile': True, 'default_profile_image': False, 'following': False, 'live_following': False, 'follow_request_sent': False, 'notifications': False, 'muting': False, 'blocking': False, 'blocked_by': False, 'translator_type': 'none'}, {'id': 3305778840, 'id_str': '3305778840', 'name': 'Casual Raindeer', 'screen_name': 'Casualtoplay', 'location': 'New Zealand', 'description': 'sup', 'url': None, 'entities': {'description': {'urls': []}}, 'protected': False, 'followers_count': 6, 'friends_count': 45, 'listed_count': 0, 'created_at': 'Tue Aug 04 08:17:05 +0000 2015', 'favourites_count': 11, 'utc_offset': None, 'time_zone': None, 'geo_enabled': False, 'verified': False, 'statuses_count': 3, 'lang': 'en', 'status': {'created_at': 'Tue Apr 25 07:03:41 +0000 2017', 'id': 856765642464043009, 'id_str': '856765642464043009', 'text': 'RT @Rumblysuperset: $100 iTunes/Google play Giftcard x2 #Giveaway in @vainglory! \\n-RT &amp; Follow @Rumblysuperset \\n-Tag Friends\\nClick HERE: ht…', 'truncated': False, 'entities': {'hashtags': [{'text': 'Giveaway', 'indices': [56, 65]}], 'symbols': [], 'user_mentions': [{'screen_name': 'Rumblysuperset', 'name': 'Rumbly', 'id': 981656580, 'id_str': '981656580', 'indices': [3, 18]}, {'screen_name': 'vainglory', 'name': 'Vainglory', 'id': 2374941337, 'id_str': '2374941337', 'indices': [69, 79]}, {'screen_name': 'Rumblysuperset', 'name': 'Rumbly', 'id': 981656580, 'id_str': '981656580', 'indices': [99, 114]}], 'urls': []}, 'source': '<a href=\"https://gleam.io\" rel=\"nofollow\">Gleam Competition App</a>', 'in_reply_to_status_id': None, 'in_reply_to_status_id_str': None, 'in_reply_to_user_id': None, 'in_reply_to_user_id_str': None, 'in_reply_to_screen_name': None, 'geo': None, 'coordinates': None, 'place': None, 'contributors': None, 'retweeted_status': {'created_at': 'Tue Apr 25 06:11:21 +0000 2017', 'id': 856752472374759425, 'id_str': '856752472374759425', 'text': '$100 iTunes/Google play Giftcard x2 #Giveaway in @vainglory! \\n-RT &amp; Follow @Rumblysuperset \\n-Tag Friends\\nClick HERE… https://t.co/laWTm4Ec8b', 'truncated': True, 'entities': {'hashtags': [{'text': 'Giveaway', 'indices': [36, 45]}], 'symbols': [], 'user_mentions': [{'screen_name': 'vainglory', 'name': 'Vainglory', 'id': 2374941337, 'id_str': '2374941337', 'indices': [49, 59]}, {'screen_name': 'Rumblysuperset', 'name': 'Rumbly', 'id': 981656580, 'id_str': '981656580', 'indices': [79, 94]}], 'urls': [{'url': 'https://t.co/laWTm4Ec8b', 'expanded_url': 'https://twitter.com/i/web/status/856752472374759425', 'display_url': 'twitter.com/i/web/status/8…', 'indices': [121, 144]}]}, 'source': '<a href=\"http://twitter.com\" rel=\"nofollow\">Twitter Web Client</a>', 'in_reply_to_status_id': None, 'in_reply_to_status_id_str': None, 'in_reply_to_user_id': None, 'in_reply_to_user_id_str': None, 'in_reply_to_screen_name': None, 'geo': None, 'coordinates': None, 'place': None, 'contributors': None, 'is_quote_status': False, 'retweet_count': 2436, 'favorite_count': 369, 'favorited': False, 'retweeted': False, 'possibly_sensitive': False, 'lang': 'en'}, 'is_quote_status': False, 'retweet_count': 2436, 'favorite_count': 0, 'favorited': False, 'retweeted': False, 'lang': 'en'}, 'contributors_enabled': False, 'is_translator': False, 'is_translation_enabled': False, 'profile_background_color': 'C0DEED', 'profile_background_image_url': 'http://abs.twimg.com/images/themes/theme1/bg.png', 'profile_background_image_url_https': 'https://abs.twimg.com/images/themes/theme1/bg.png', 'profile_background_tile': False, 'profile_image_url': 'http://abs.twimg.com/sticky/default_profile_images/default_profile_normal.png', 'profile_image_url_https': 'https://abs.twimg.com/sticky/default_profile_images/default_profile_normal.png', 'profile_link_color': '1DA1F2', 'profile_sidebar_border_color': 'C0DEED', 'profile_sidebar_fill_color': 'DDEEF6', 'profile_text_color': '333333', 'profile_use_background_image': True, 'has_extended_profile': False, 'default_profile': True, 'default_profile_image': True, 'following': False, 'live_following': False, 'follow_request_sent': False, 'notifications': False, 'muting': False, 'blocking': False, 'blocked_by': False, 'translator_type': 'none'}, {'id': 86575190, 'id_str': '86575190', 'name': 'Gary Chow', 'screen_name': 'mrgarychow', 'location': 'Sunnyvale, CA, USA', 'description': '', 'url': None, 'entities': {'description': {'urls': []}}, 'protected': True, 'followers_count': 2, 'friends_count': 39, 'listed_count': 0, 'created_at': 'Sat Oct 31 18:10:19 +0000 2009', 'favourites_count': 1, 'utc_offset': None, 'time_zone': None, 'geo_enabled': False, 'verified': False, 'statuses_count': 4, 'lang': 'en', 'contributors_enabled': False, 'is_translator': False, 'is_translation_enabled': False, 'profile_background_color': 'C6E2EE', 'profile_background_image_url': 'http://abs.twimg.com/images/themes/theme2/bg.gif', 'profile_background_image_url_https': 'https://abs.twimg.com/images/themes/theme2/bg.gif', 'profile_background_tile': False, 'profile_image_url': 'http://abs.twimg.com/sticky/default_profile_images/default_profile_normal.png', 'profile_image_url_https': 'https://abs.twimg.com/sticky/default_profile_images/default_profile_normal.png', 'profile_link_color': '1F98C7', 'profile_sidebar_border_color': 'C6E2EE', 'profile_sidebar_fill_color': 'DAECF4', 'profile_text_color': '663B12', 'profile_use_background_image': True, 'has_extended_profile': False, 'default_profile': False, 'default_profile_image': True, 'following': False, 'live_following': False, 'follow_request_sent': False, 'notifications': False, 'muting': False, 'blocking': False, 'blocked_by': False, 'translator_type': 'none'}, {'id': 1109594546701139968, 'id_str': '1109594546701139968', 'name': 'PuiPui', 'screen_name': 'PuiPui11619224', 'location': '', 'description': '1', 'url': None, 'entities': {'description': {'urls': []}}, 'protected': False, 'followers_count': 1, 'friends_count': 63, 'listed_count': 0, 'created_at': 'Sat Mar 23 23:15:29 +0000 2019', 'favourites_count': 0, 'utc_offset': None, 'time_zone': None, 'geo_enabled': False, 'verified': False, 'statuses_count': 0, 'lang': 'en', 'contributors_enabled': False, 'is_translator': False, 'is_translation_enabled': False, 'profile_background_color': 'F5F8FA', 'profile_background_image_url': None, 'profile_background_image_url_https': None, 'profile_background_tile': False, 'profile_image_url': 'http://pbs.twimg.com/profile_images/1109594811357519872/rmZCZCRJ_normal.jpg', 'profile_image_url_https': 'https://pbs.twimg.com/profile_images/1109594811357519872/rmZCZCRJ_normal.jpg', 'profile_link_color': '1DA1F2', 'profile_sidebar_border_color': 'C0DEED', 'profile_sidebar_fill_color': 'DDEEF6', 'profile_text_color': '333333', 'profile_use_background_image': True, 'has_extended_profile': False, 'default_profile': True, 'default_profile_image': False, 'following': False, 'live_following': False, 'follow_request_sent': False, 'notifications': False, 'muting': False, 'blocking': False, 'blocked_by': False, 'translator_type': 'none'}, {'id': 1109597463348944898, 'id_str': '1109597463348944898', 'name': 'Edward Vidal', 'screen_name': 'EdwardVidal20', 'location': '', 'description': '', 'url': None, 'entities': {'description': {'urls': []}}, 'protected': False, 'followers_count': 1, 'friends_count': 6, 'listed_count': 0, 'created_at': 'Sat Mar 23 23:27:05 +0000 2019', 'favourites_count': 1, 'utc_offset': None, 'time_zone': None, 'geo_enabled': False, 'verified': False, 'statuses_count': 0, 'lang': 'en', 'contributors_enabled': False, 'is_translator': False, 'is_translation_enabled': False, 'profile_background_color': 'F5F8FA', 'profile_background_image_url': None, 'profile_background_image_url_https': None, 'profile_background_tile': False, 'profile_image_url': 'http://abs.twimg.com/sticky/default_profile_images/default_profile_normal.png', 'profile_image_url_https': 'https://abs.twimg.com/sticky/default_profile_images/default_profile_normal.png', 'profile_link_color': '1DA1F2', 'profile_sidebar_border_color': 'C0DEED', 'profile_sidebar_fill_color': 'DDEEF6', 'profile_text_color': '333333', 'profile_use_background_image': True, 'has_extended_profile': False, 'default_profile': True, 'default_profile_image': True, 'following': False, 'live_following': False, 'follow_request_sent': False, 'notifications': False, 'muting': False, 'blocking': False, 'blocked_by': False, 'translator_type': 'none'}, {'id': 20086697, 'id_str': '20086697', 'name': 'Sean Emery', 'screen_name': 'sremery69', 'location': '', 'description': '', 'url': None, 'entities': {'description': {'urls': []}}, 'protected': True, 'followers_count': 12, 'friends_count': 362, 'listed_count': 0, 'created_at': 'Wed Feb 04 20:04:37 +0000 2009', 'favourites_count': 490, 'utc_offset': None, 'time_zone': None, 'geo_enabled': False, 'verified': False, 'statuses_count': 6, 'lang': 'en', 'contributors_enabled': False, 'is_translator': False, 'is_translation_enabled': False, 'profile_background_color': 'C0DEED', 'profile_background_image_url': 'http://abs.twimg.com/images/themes/theme1/bg.png', 'profile_background_image_url_https': 'https://abs.twimg.com/images/themes/theme1/bg.png', 'profile_background_tile': False, 'profile_image_url': 'http://pbs.twimg.com/profile_images/1423251503/CHicago_2010_012__2__profile_pic_normal.jpg', 'profile_image_url_https': 'https://pbs.twimg.com/profile_images/1423251503/CHicago_2010_012__2__profile_pic_normal.jpg', 'profile_banner_url': 'https://pbs.twimg.com/profile_banners/20086697/1424381194', 'profile_link_color': '1DA1F2', 'profile_sidebar_border_color': 'C0DEED', 'profile_sidebar_fill_color': 'DDEEF6', 'profile_text_color': '333333', 'profile_use_background_image': True, 'has_extended_profile': False, 'default_profile': True, 'default_profile_image': False, 'following': False, 'live_following': False, 'follow_request_sent': False, 'notifications': False, 'muting': False, 'blocking': False, 'blocked_by': False, 'translator_type': 'none'}, {'id': 1109340013962121216, 'id_str': '1109340013962121216', 'name': 'Антон', 'screen_name': 'pvpmBNOjVNLzNV2', 'location': 'Moscow, Russia', 'description': 'Just debil.', 'url': None, 'entities': {'description': {'urls': []}}, 'protected': False, 'followers_count': 1, 'friends_count': 2, 'listed_count': 0, 'created_at': 'Sat Mar 23 06:24:04 +0000 2019', 'favourites_count': 0, 'utc_offset': None, 'time_zone': None, 'geo_enabled': False, 'verified': False, 'statuses_count': 0, 'lang': 'en', 'contributors_enabled': False, 'is_translator': False, 'is_translation_enabled': False, 'profile_background_color': 'F5F8FA', 'profile_background_image_url': None, 'profile_background_image_url_https': None, 'profile_background_tile': False, 'profile_image_url': 'http://pbs.twimg.com/profile_images/1109340671675154433/BlNjGGVx_normal.jpg', 'profile_image_url_https': 'https://pbs.twimg.com/profile_images/1109340671675154433/BlNjGGVx_normal.jpg', 'profile_link_color': '1DA1F2', 'profile_sidebar_border_color': 'C0DEED', 'profile_sidebar_fill_color': 'DDEEF6', 'profile_text_color': '333333', 'profile_use_background_image': True, 'has_extended_profile': True, 'default_profile': True, 'default_profile_image': False, 'following': False, 'live_following': False, 'follow_request_sent': False, 'notifications': False, 'muting': False, 'blocking': False, 'blocked_by': False, 'translator_type': 'none'}, {'id': 1109597204539469829, 'id_str': '1109597204539469829', 'name': 'Mr Robert Pender', 'screen_name': 'pender_mr', 'location': '', 'description': 'Software engineer - Cork - Ireland - Dad of 4', 'url': None, 'entities': {'description': {'urls': []}}, 'protected': False, 'followers_count': 0, 'friends_count': 6, 'listed_count': 0, 'created_at': 'Sat Mar 23 23:26:03 +0000 2019', 'favourites_count': 0, 'utc_offset': None, 'time_zone': None, 'geo_enabled': False, 'verified': False, 'statuses_count': 0, 'lang': 'en', 'contributors_enabled': False, 'is_translator': False, 'is_translation_enabled': False, 'profile_background_color': 'F5F8FA', 'profile_background_image_url': None, 'profile_background_image_url_https': None, 'profile_background_tile': False, 'profile_image_url': 'http://pbs.twimg.com/profile_images/1109597322202230787/LEVjtNo0_normal.jpg', 'profile_image_url_https': 'https://pbs.twimg.com/profile_images/1109597322202230787/LEVjtNo0_normal.jpg', 'profile_link_color': '1DA1F2', 'profile_sidebar_border_color': 'C0DEED', 'profile_sidebar_fill_color': 'DDEEF6', 'profile_text_color': '333333', 'profile_use_background_image': True, 'has_extended_profile': True, 'default_profile': True, 'default_profile_image': False, 'following': False, 'live_following': False, 'follow_request_sent': False, 'notifications': False, 'muting': False, 'blocking': False, 'blocked_by': False, 'translator_type': 'none'}, {'id': 573758271, 'id_str': '573758271', 'name': 'Carlos Bigott Sr', 'screen_name': 'cjbigott', 'location': 'United States', 'description': '', 'url': None, 'entities': {'description': {'urls': []}}, 'protected': False, 'followers_count': 104, 'friends_count': 625, 'listed_count': 0, 'created_at': 'Mon May 07 14:17:14 +0000 2012', 'favourites_count': 2001, 'utc_offset': None, 'time_zone': None, 'geo_enabled': True, 'verified': False, 'statuses_count': 2885, 'lang': 'en', 'status': {'created_at': 'Sat Mar 23 23:33:27 +0000 2019', 'id': 1109599068123267072, 'id_str': '1109599068123267072', 'text': 'RT @ElNacionalWeb: #ServicioPúblico Se necesita con carácter de URGENCIA Gotas Salbutamol. Número de contacto 04269065535 César Reina', 'truncated': False, 'entities': {'hashtags': [{'text': 'ServicioPúblico', 'indices': [19, 35]}], 'symbols': [], 'user_mentions': [{'screen_name': 'ElNacionalWeb', 'name': 'El Nacional', 'id': 15007299, 'id_str': '15007299', 'indices': [3, 17]}], 'urls': []}, 'source': '<a href=\"http://twitter.com/download/iphone\" rel=\"nofollow\">Twitter for iPhone</a>', 'in_reply_to_status_id': None, 'in_reply_to_status_id_str': None, 'in_reply_to_user_id': None, 'in_reply_to_user_id_str': None, 'in_reply_to_screen_name': None, 'geo': None, 'coordinates': None, 'place': None, 'contributors': None, 'retweeted_status': {'created_at': 'Sat Mar 23 23:25:45 +0000 2019', 'id': 1109597130837147649, 'id_str': '1109597130837147649', 'text': '#ServicioPúblico Se necesita con carácter de URGENCIA Gotas Salbutamol. Número de contacto 04269065535 César Reina', 'truncated': False, 'entities': {'hashtags': [{'text': 'ServicioPúblico', 'indices': [0, 16]}], 'symbols': [], 'user_mentions': [], 'urls': []}, 'source': '<a href=\"https://about.twitter.com/products/tweetdeck\" rel=\"nofollow\">TweetDeck</a>', 'in_reply_to_status_id': None, 'in_reply_to_status_id_str': None, 'in_reply_to_user_id': None, 'in_reply_to_user_id_str': None, 'in_reply_to_screen_name': None, 'geo': None, 'coordinates': None, 'place': None, 'contributors': None, 'is_quote_status': False, 'retweet_count': 32, 'favorite_count': 4, 'favorited': False, 'retweeted': False, 'lang': 'es'}, 'is_quote_status': False, 'retweet_count': 32, 'favorite_count': 0, 'favorited': False, 'retweeted': False, 'lang': 'es'}, 'contributors_enabled': False, 'is_translator': False, 'is_translation_enabled': False, 'profile_background_color': 'C0DEED', 'profile_background_image_url': 'http://abs.twimg.com/images/themes/theme1/bg.png', 'profile_background_image_url_https': 'https://abs.twimg.com/images/themes/theme1/bg.png', 'profile_background_tile': False, 'profile_image_url': 'http://pbs.twimg.com/profile_images/918950614553583616/VDBqaoJq_normal.jpg', 'profile_image_url_https': 'https://pbs.twimg.com/profile_images/918950614553583616/VDBqaoJq_normal.jpg', 'profile_banner_url': 'https://pbs.twimg.com/profile_banners/573758271/1507413509', 'profile_link_color': '1DA1F2', 'profile_sidebar_border_color': 'C0DEED', 'profile_sidebar_fill_color': 'DDEEF6', 'profile_text_color': '333333', 'profile_use_background_image': True, 'has_extended_profile': True, 'default_profile': True, 'default_profile_image': False, 'following': False, 'live_following': False, 'follow_request_sent': False, 'notifications': False, 'muting': False, 'blocking': False, 'blocked_by': False, 'translator_type': 'none'}, {'id': 934255818379214848, 'id_str': '934255818379214848', 'name': 'Name cannot be blank', 'screen_name': 'M11069305', 'location': '', 'description': \"just retweets so what's the point\", 'url': None, 'entities': {'description': {'urls': []}}, 'protected': False, 'followers_count': 8, 'friends_count': 129, 'listed_count': 0, 'created_at': 'Sat Nov 25 03:01:59 +0000 2017', 'favourites_count': 1417, 'utc_offset': None, 'time_zone': None, 'geo_enabled': False, 'verified': False, 'statuses_count': 11, 'lang': 'en', 'status': {'created_at': 'Thu Mar 21 21:16:18 +0000 2019', 'id': 1108839777699135489, 'id_str': '1108839777699135489', 'text': 'RT @pewdiepie: @shanedawson 😘', 'truncated': False, 'entities': {'hashtags': [], 'symbols': [], 'user_mentions': [{'screen_name': 'pewdiepie', 'name': 'ƿ૯ωძɿ૯ƿɿ૯', 'id': 39538010, 'id_str': '39538010', 'indices': [3, 13]}, {'screen_name': 'shanedawson', 'name': 'Shane Dawson', 'id': 18588279, 'id_str': '18588279', 'indices': [15, 27]}], 'urls': []}, 'source': '<a href=\"http://twitter.com/download/android\" rel=\"nofollow\">Twitter for Android</a>', 'in_reply_to_status_id': None, 'in_reply_to_status_id_str': None, 'in_reply_to_user_id': None, 'in_reply_to_user_id_str': None, 'in_reply_to_screen_name': None, 'geo': None, 'coordinates': None, 'place': None, 'contributors': None, 'retweeted_status': {'created_at': 'Thu Mar 21 21:06:40 +0000 2019', 'id': 1108837349859999744, 'id_str': '1108837349859999744', 'text': '@shanedawson 😘', 'truncated': False, 'entities': {'hashtags': [], 'symbols': [], 'user_mentions': [{'screen_name': 'shanedawson', 'name': 'Shane Dawson', 'id': 18588279, 'id_str': '18588279', 'indices': [0, 12]}], 'urls': []}, 'source': '<a href=\"https://mobile.twitter.com\" rel=\"nofollow\">Twitter Web App</a>', 'in_reply_to_status_id': 1108810359115177984, 'in_reply_to_status_id_str': '1108810359115177984', 'in_reply_to_user_id': 18588279, 'in_reply_to_user_id_str': '18588279', 'in_reply_to_screen_name': 'shanedawson', 'geo': None, 'coordinates': None, 'place': None, 'contributors': None, 'is_quote_status': False, 'retweet_count': 2277, 'favorite_count': 56125, 'favorited': False, 'retweeted': False, 'lang': 'und'}, 'is_quote_status': False, 'retweet_count': 2277, 'favorite_count': 0, 'favorited': False, 'retweeted': False, 'lang': 'und'}, 'contributors_enabled': False, 'is_translator': False, 'is_translation_enabled': False, 'profile_background_color': 'F5F8FA', 'profile_background_image_url': None, 'profile_background_image_url_https': None, 'profile_background_tile': False, 'profile_image_url': 'http://pbs.twimg.com/profile_images/934260982100066304/IDUojN_-_normal.jpg', 'profile_image_url_https': 'https://pbs.twimg.com/profile_images/934260982100066304/IDUojN_-_normal.jpg', 'profile_link_color': '1DA1F2', 'profile_sidebar_border_color': 'C0DEED', 'profile_sidebar_fill_color': 'DDEEF6', 'profile_text_color': '333333', 'profile_use_background_image': True, 'has_extended_profile': True, 'default_profile': True, 'default_profile_image': False, 'following': False, 'live_following': False, 'follow_request_sent': False, 'notifications': False, 'muting': False, 'blocking': False, 'blocked_by': False, 'translator_type': 'none'}, {'id': 227665139, 'id_str': '227665139', 'name': 'Amir Frankel', 'screen_name': 'amirfrankel', 'location': '', 'description': '', 'url': None, 'entities': {'description': {'urls': []}}, 'protected': False, 'followers_count': 2, 'friends_count': 56, 'listed_count': 0, 'created_at': 'Fri Dec 17 13:18:13 +0000 2010', 'favourites_count': 3, 'utc_offset': None, 'time_zone': None, 'geo_enabled': False, 'verified': False, 'statuses_count': 0, 'lang': 'en', 'contributors_enabled': False, 'is_translator': False, 'is_translation_enabled': False, 'profile_background_color': 'C0DEED', 'profile_background_image_url': 'http://abs.twimg.com/images/themes/theme1/bg.png', 'profile_background_image_url_https': 'https://abs.twimg.com/images/themes/theme1/bg.png', 'profile_background_tile': False, 'profile_image_url': 'http://abs.twimg.com/sticky/default_profile_images/default_profile_normal.png', 'profile_image_url_https': 'https://abs.twimg.com/sticky/default_profile_images/default_profile_normal.png', 'profile_link_color': '1DA1F2', 'profile_sidebar_border_color': 'C0DEED', 'profile_sidebar_fill_color': 'DDEEF6', 'profile_text_color': '333333', 'profile_use_background_image': True, 'has_extended_profile': False, 'default_profile': True, 'default_profile_image': True, 'following': False, 'live_following': False, 'follow_request_sent': False, 'notifications': False, 'muting': False, 'blocking': False, 'blocked_by': False, 'translator_type': 'none'}, {'id': 189318373, 'id_str': '189318373', 'name': 'Kristen White', 'screen_name': 'kwep132', 'location': '', 'description': '', 'url': None, 'entities': {'description': {'urls': []}}, 'protected': False, 'followers_count': 3, 'friends_count': 51, 'listed_count': 0, 'created_at': 'Fri Sep 10 23:25:51 +0000 2010', 'favourites_count': 1, 'utc_offset': None, 'time_zone': None, 'geo_enabled': True, 'verified': False, 'statuses_count': 0, 'lang': 'en', 'contributors_enabled': False, 'is_translator': False, 'is_translation_enabled': False, 'profile_background_color': 'C0DEED', 'profile_background_image_url': 'http://abs.twimg.com/images/themes/theme1/bg.png', 'profile_background_image_url_https': 'https://abs.twimg.com/images/themes/theme1/bg.png', 'profile_background_tile': False, 'profile_image_url': 'http://abs.twimg.com/sticky/default_profile_images/default_profile_normal.png', 'profile_image_url_https': 'https://abs.twimg.com/sticky/default_profile_images/default_profile_normal.png', 'profile_link_color': '1DA1F2', 'profile_sidebar_border_color': 'C0DEED', 'profile_sidebar_fill_color': 'DDEEF6', 'profile_text_color': '333333', 'profile_use_background_image': True, 'has_extended_profile': False, 'default_profile': True, 'default_profile_image': True, 'following': False, 'live_following': False, 'follow_request_sent': False, 'notifications': False, 'muting': False, 'blocking': False, 'blocked_by': False, 'translator_type': 'none'}, {'id': 799588610492141568, 'id_str': '799588610492141568', 'name': 'German Salazar', 'screen_name': 'gabetocr', 'location': 'San José, Costa Rica', 'description': '', 'url': None, 'entities': {'description': {'urls': []}}, 'protected': False, 'followers_count': 17, 'friends_count': 261, 'listed_count': 0, 'created_at': 'Fri Nov 18 12:22:35 +0000 2016', 'favourites_count': 104, 'utc_offset': None, 'time_zone': None, 'geo_enabled': False, 'verified': False, 'statuses_count': 3, 'lang': 'es', 'status': {'created_at': 'Thu Mar 21 23:59:52 +0000 2019', 'id': 1108880938417774592, 'id_str': '1108880938417774592', 'text': 'Es tan pobre que solo dinero tenía, y un favor pedir, es sinónimo de debilidad para él.', 'truncated': False, 'entities': {'hashtags': [], 'symbols': [], 'user_mentions': [], 'urls': []}, 'source': '<a href=\"http://twitter.com\" rel=\"nofollow\">Twitter Web Client</a>', 'in_reply_to_status_id': None, 'in_reply_to_status_id_str': None, 'in_reply_to_user_id': None, 'in_reply_to_user_id_str': None, 'in_reply_to_screen_name': None, 'geo': None, 'coordinates': None, 'place': None, 'contributors': None, 'is_quote_status': False, 'retweet_count': 0, 'favorite_count': 1, 'favorited': False, 'retweeted': False, 'lang': 'es'}, 'contributors_enabled': False, 'is_translator': False, 'is_translation_enabled': False, 'profile_background_color': 'F5F8FA', 'profile_background_image_url': None, 'profile_background_image_url_https': None, 'profile_background_tile': False, 'profile_image_url': 'http://abs.twimg.com/sticky/default_profile_images/default_profile_normal.png', 'profile_image_url_https': 'https://abs.twimg.com/sticky/default_profile_images/default_profile_normal.png', 'profile_link_color': '1DA1F2', 'profile_sidebar_border_color': 'C0DEED', 'profile_sidebar_fill_color': 'DDEEF6', 'profile_text_color': '333333', 'profile_use_background_image': True, 'has_extended_profile': True, 'default_profile': True, 'default_profile_image': True, 'following': False, 'live_following': False, 'follow_request_sent': False, 'notifications': False, 'muting': False, 'blocking': False, 'blocked_by': False, 'translator_type': 'none'}]\n"
     ]
    }
   ],
   "source": [
    "#-----------------------------------------------------------------------\n",
    "# Retrieving user's followers\n",
    "#-----------------------------------------------------------------------\n",
    "username = \"elonmusk\"\n",
    "\n",
    "query = api.followers(screen_name = username, count = 50)\n",
    "my_list_of_followers = []\n",
    "for each_followers in query:\n",
    "    my_list_of_followers.append(each_followers._json)\n",
    "    with open('followers_json.txt', 'w') as file:\n",
    "        file.write(json.dumps(my_list_of_followers, indent=4))\n",
    "        my_followers_list = []\n",
    "with open('followers_json.txt', encoding='utf-8') as followers_file:  \n",
    "    followers_data = json.load(followers_file)\n",
    "\n",
    "    print(followers_data) \n",
    "    for each_followers in followers_data:\n",
    "        user_followersId = each_followers['id']\n",
    "        Name =each_followers['name'].split(' ')\n",
    "        user_FollowerFirstName =Name[0]\n",
    "        #user_FollowerLastName =Name[1]\n",
    "        user_followerScreenName =each_followers['screen_name']\n",
    "        Location1 = each_followers['location'].split(',', 1)\n",
    "        Location=Location1[0]\n",
    "        Description = each_followers['description']\n",
    "        Favourites = each_followers['favourites_count']\n",
    "        Followers=each_followers['followers_count']\n",
    "        Friends=each_followers['friends_count']\n",
    "        CreatedTime = each_followers['created_at']\n",
    "        StatusId = each_followers['statuses_count']\n",
    "         \n",
    "    \n",
    "#         Status = each_followers['status']['text']\n",
    "#         Status_createdTime = each_followers['status']['created_at']\n",
    "        \n",
    "# #         UserId = each_dictionary['user_mentions']['id']\n",
    "# #         Name = each_dictionary['entities']['user_mentions']['name']\n",
    "        \n",
    "        \n",
    "        my_followers_list.append({'User_FollowersId': str(user_followersId),\n",
    "                             'User_FollowerFirstName': str(user_FollowerFirstName),\n",
    "                             #'User_FollowerLastName': str(user_FollowerLastName),\n",
    "                             'User_FollowerScreenName': str(user_followerScreenName),\n",
    "                             'Location': str(Location),\n",
    "                             'Description': str(Description),\n",
    "                             'Followers': int(Followers),\n",
    "                             'Favourites': int(Favourites),\n",
    "                             'Friends': int(Friends),                  \n",
    "                             'CreatedTime': datetime.strptime(CreatedTime,'%a %b %d %H:%M:%S +0000 %Y'),\n",
    "                             'StatusCount' : int(StatusId),\n",
    "#                              'Status' : str(Status),\n",
    "#                              'Status_createdTime': datetime.strptime(Status_createdTime,'%a %b %d %H:%M:%S +0000 %Y')\n",
    "                                \n",
    "                            })\n",
    "        \n",
    "        Consumer2 = pd.DataFrame(my_followers_list, columns = \n",
    "                                  [ 'User_FollowersId','User_FollowerFirstName',  'User_FollowerScreenName','Location','Followers', 'Favourites','Friends'\n",
    "                                   ,'Description', 'CreatedTime' \n",
    "                               , 'StatusId'\n",
    "#                                    'Status',   'Status_createdTime'                            \n",
    "                                   #,'UserId', 'Name'\n",
    "                                   ])\n",
    " "
   ]
  },
  {
   "cell_type": "code",
   "execution_count": 297,
   "metadata": {},
   "outputs": [],
   "source": [
    "#--------------------------------\n",
    "#Checking the first Normal Form\n",
    "#----------------------------------\n",
    "\n",
    "Consumer2 = pd.DataFrame(my_followers_list, columns = \n",
    "                                  [ 'User_FollowersId','User_FollowerFirstName',  'User_FollowerScreenName','Location','Followers', 'Favourites','Friends'\n",
    "                                   ,'Description', 'CreatedTime' , 'StatusId', 'Status',   'Status_createdTime'                            \n",
    "                                   #,'UserId', 'Name'\n",
    "                                   ])\n",
    "\n",
    "#No Repeating groups = Done\n",
    "#Data Values are atomic = Done\n",
    "#Each field has different name = Done\n",
    "#It has a primary key = Done"
   ]
  },
  {
   "cell_type": "code",
   "execution_count": 298,
   "metadata": {},
   "outputs": [],
   "source": [
    "#---------------------------------------\n",
    "#Checking the second normal form (2NF)\n",
    "#-----------------------------------------\n",
    "\n",
    "Consumer2 = pd.DataFrame(my_followers_list, columns = \n",
    "                                  [ 'User_FollowersId','User_FollowerFirstName',  'User_FollowerScreenName','Location','Followers', 'Favourites','Friends'\n",
    "                                   ,'Description', 'CreatedTime' , 'StatusId', 'Status',   'Status_createdTime'                            \n",
    "                                   #,'UserId', 'Name'\n",
    "                                   ])\n",
    "\n",
    "#Converting Consumer2 into second normal form\n",
    "\n",
    "Followers = pd.DataFrame(my_followers_list, columns = \n",
    "                                  [ 'User_FollowersId','User_FollowerFirstName',  'User_FollowerScreenName','Location','Description','Followers', 'Favourites','Friends'\n",
    "                                   , 'CreatedTime'])\n",
    "Followers_Tweet = pd.DataFrame(my_followers_list, columns = ['StatusId', 'Status',   'Status_createdTime', 'User_FollowersId'])\n",
    "\n",
    "#It is in the First Normal Form =Done\n",
    "#All non key attributes are dependent on ALL parts of primary key =Done\n",
    "#Each Field has a unique name = done\n",
    "#It has a primary key = done"
   ]
  },
  {
   "cell_type": "code",
   "execution_count": 299,
   "metadata": {},
   "outputs": [],
   "source": [
    "#------------------------------\n",
    "#Checking third normal form\n",
    "#-------------------------------\n",
    "Followers = pd.DataFrame(my_followers_list, columns = \n",
    "                                  [ 'User_FollowersId','User_FollowerFirstName',  'User_FollowerScreenName','Location','Description','Followers', 'Favourites','Friends'\n",
    "                                   , 'CreatedTime'])\n",
    "\n",
    "#Converting Followers  dataframe into three normal form\n",
    "Followers_profile = pd.DataFrame(my_followers_list, columns = \n",
    "                                  [ 'User_FollowersId','User_FollowerFirstName',  'User_FollowerScreenName','Location','Description' , 'CreatedTime'])\n",
    "\n",
    "Followers_info = pd.DataFrame(my_followers_list, columns = \n",
    "                                  [ 'User_FollowersId', 'Followers', 'Favourites','Friends'])\n",
    "\n",
    "\n",
    "#It should be in second normal form = Done\n",
    "#All non-key attribute are not dependent on other non key attribute =Done\n",
    "#Each field has a unique name= done\n",
    "#Each field has a primary key = done"
   ]
  },
  {
   "cell_type": "code",
   "execution_count": 300,
   "metadata": {},
   "outputs": [],
   "source": [
    "#-------------------------------------\n",
    "# TABLE ON Followers\n",
    "#-------------------------------------\n",
    "\n",
    "import sqlite3\n",
    "conn = sqlite3.connect(':memory:')\n",
    "c = conn.cursor()\n",
    "Space_profile.to_sql('Space_profile', con=conn, if_exists='replace')\n",
    "S_tweets.to_sql('S_tweets', con=conn, if_exists='replace')\n",
    "S_tweets_info.to_sql('S_tweets_info', con=conn, if_exists='replace')\n"
   ]
  },
  {
   "cell_type": "code",
   "execution_count": 301,
   "metadata": {},
   "outputs": [
    {
     "ename": "DatabaseError",
     "evalue": "Execution failed on sql 'SELECT  Space_TweetId, Retweet_count, Favourite_Tweets_count FROM Elon_Space limit 3': no such column: ins.Space_TweetId",
     "output_type": "error",
     "traceback": [
      "\u001b[1;31m---------------------------------------------------------------------------\u001b[0m",
      "\u001b[1;31mOperationalError\u001b[0m                          Traceback (most recent call last)",
      "\u001b[1;32m~\\Anaconda\\lib\\site-packages\\pandas\\io\\sql.py\u001b[0m in \u001b[0;36mexecute\u001b[1;34m(self, *args, **kwargs)\u001b[0m\n\u001b[0;32m   1377\u001b[0m             \u001b[1;32melse\u001b[0m\u001b[1;33m:\u001b[0m\u001b[1;33m\u001b[0m\u001b[1;33m\u001b[0m\u001b[0m\n\u001b[1;32m-> 1378\u001b[1;33m                 \u001b[0mcur\u001b[0m\u001b[1;33m.\u001b[0m\u001b[0mexecute\u001b[0m\u001b[1;33m(\u001b[0m\u001b[1;33m*\u001b[0m\u001b[0margs\u001b[0m\u001b[1;33m)\u001b[0m\u001b[1;33m\u001b[0m\u001b[1;33m\u001b[0m\u001b[0m\n\u001b[0m\u001b[0;32m   1379\u001b[0m             \u001b[1;32mreturn\u001b[0m \u001b[0mcur\u001b[0m\u001b[1;33m\u001b[0m\u001b[1;33m\u001b[0m\u001b[0m\n",
      "\u001b[1;31mOperationalError\u001b[0m: no such column: ins.Space_TweetId",
      "\nDuring handling of the above exception, another exception occurred:\n",
      "\u001b[1;31mDatabaseError\u001b[0m                             Traceback (most recent call last)",
      "\u001b[1;32m<ipython-input-301-65c2d7748016>\u001b[0m in \u001b[0;36m<module>\u001b[1;34m\u001b[0m\n\u001b[0;32m      4\u001b[0m \u001b[1;33m\u001b[0m\u001b[0m\n\u001b[0;32m      5\u001b[0m \u001b[0mc\u001b[0m\u001b[1;33m.\u001b[0m\u001b[0mexecute\u001b[0m\u001b[1;33m(\u001b[0m\u001b[1;34m\"CREATE VIEW IF NOT EXISTS Elon_Space AS SELECT ts.Tweets, ts.Space_TweetId,  ins.Retweet_count, ins.Favourite_Tweets_count FROM S_tweets_info ins JOIN S_tweets ts ON ins.Space_TweetId = ts.Space_TweetId\"\u001b[0m\u001b[1;33m)\u001b[0m\u001b[1;33m\u001b[0m\u001b[1;33m\u001b[0m\u001b[0m\n\u001b[1;32m----> 6\u001b[1;33m \u001b[0mpd\u001b[0m\u001b[1;33m.\u001b[0m\u001b[0mread_sql_query\u001b[0m\u001b[1;33m(\u001b[0m\u001b[1;34m\"SELECT  Space_TweetId, Retweet_count, Favourite_Tweets_count FROM Elon_Space limit 3\"\u001b[0m\u001b[1;33m,\u001b[0m \u001b[0mcon\u001b[0m\u001b[1;33m=\u001b[0m\u001b[0mconn\u001b[0m\u001b[1;33m)\u001b[0m\u001b[1;33m\u001b[0m\u001b[1;33m\u001b[0m\u001b[0m\n\u001b[0m",
      "\u001b[1;32m~\\Anaconda\\lib\\site-packages\\pandas\\io\\sql.py\u001b[0m in \u001b[0;36mread_sql_query\u001b[1;34m(sql, con, index_col, coerce_float, params, parse_dates, chunksize)\u001b[0m\n\u001b[0;32m    312\u001b[0m     return pandas_sql.read_query(\n\u001b[0;32m    313\u001b[0m         \u001b[0msql\u001b[0m\u001b[1;33m,\u001b[0m \u001b[0mindex_col\u001b[0m\u001b[1;33m=\u001b[0m\u001b[0mindex_col\u001b[0m\u001b[1;33m,\u001b[0m \u001b[0mparams\u001b[0m\u001b[1;33m=\u001b[0m\u001b[0mparams\u001b[0m\u001b[1;33m,\u001b[0m \u001b[0mcoerce_float\u001b[0m\u001b[1;33m=\u001b[0m\u001b[0mcoerce_float\u001b[0m\u001b[1;33m,\u001b[0m\u001b[1;33m\u001b[0m\u001b[1;33m\u001b[0m\u001b[0m\n\u001b[1;32m--> 314\u001b[1;33m         parse_dates=parse_dates, chunksize=chunksize)\n\u001b[0m\u001b[0;32m    315\u001b[0m \u001b[1;33m\u001b[0m\u001b[0m\n\u001b[0;32m    316\u001b[0m \u001b[1;33m\u001b[0m\u001b[0m\n",
      "\u001b[1;32m~\\Anaconda\\lib\\site-packages\\pandas\\io\\sql.py\u001b[0m in \u001b[0;36mread_query\u001b[1;34m(self, sql, index_col, coerce_float, params, parse_dates, chunksize)\u001b[0m\n\u001b[0;32m   1411\u001b[0m \u001b[1;33m\u001b[0m\u001b[0m\n\u001b[0;32m   1412\u001b[0m         \u001b[0margs\u001b[0m \u001b[1;33m=\u001b[0m \u001b[0m_convert_params\u001b[0m\u001b[1;33m(\u001b[0m\u001b[0msql\u001b[0m\u001b[1;33m,\u001b[0m \u001b[0mparams\u001b[0m\u001b[1;33m)\u001b[0m\u001b[1;33m\u001b[0m\u001b[1;33m\u001b[0m\u001b[0m\n\u001b[1;32m-> 1413\u001b[1;33m         \u001b[0mcursor\u001b[0m \u001b[1;33m=\u001b[0m \u001b[0mself\u001b[0m\u001b[1;33m.\u001b[0m\u001b[0mexecute\u001b[0m\u001b[1;33m(\u001b[0m\u001b[1;33m*\u001b[0m\u001b[0margs\u001b[0m\u001b[1;33m)\u001b[0m\u001b[1;33m\u001b[0m\u001b[1;33m\u001b[0m\u001b[0m\n\u001b[0m\u001b[0;32m   1414\u001b[0m         \u001b[0mcolumns\u001b[0m \u001b[1;33m=\u001b[0m \u001b[1;33m[\u001b[0m\u001b[0mcol_desc\u001b[0m\u001b[1;33m[\u001b[0m\u001b[1;36m0\u001b[0m\u001b[1;33m]\u001b[0m \u001b[1;32mfor\u001b[0m \u001b[0mcol_desc\u001b[0m \u001b[1;32min\u001b[0m \u001b[0mcursor\u001b[0m\u001b[1;33m.\u001b[0m\u001b[0mdescription\u001b[0m\u001b[1;33m]\u001b[0m\u001b[1;33m\u001b[0m\u001b[1;33m\u001b[0m\u001b[0m\n\u001b[0;32m   1415\u001b[0m \u001b[1;33m\u001b[0m\u001b[0m\n",
      "\u001b[1;32m~\\Anaconda\\lib\\site-packages\\pandas\\io\\sql.py\u001b[0m in \u001b[0;36mexecute\u001b[1;34m(self, *args, **kwargs)\u001b[0m\n\u001b[0;32m   1388\u001b[0m             ex = DatabaseError(\n\u001b[0;32m   1389\u001b[0m                 \"Execution failed on sql '%s': %s\" % (args[0], exc))\n\u001b[1;32m-> 1390\u001b[1;33m             \u001b[0mraise_with_traceback\u001b[0m\u001b[1;33m(\u001b[0m\u001b[0mex\u001b[0m\u001b[1;33m)\u001b[0m\u001b[1;33m\u001b[0m\u001b[1;33m\u001b[0m\u001b[0m\n\u001b[0m\u001b[0;32m   1391\u001b[0m \u001b[1;33m\u001b[0m\u001b[0m\n\u001b[0;32m   1392\u001b[0m     \u001b[1;33m@\u001b[0m\u001b[0mstaticmethod\u001b[0m\u001b[1;33m\u001b[0m\u001b[1;33m\u001b[0m\u001b[0m\n",
      "\u001b[1;32m~\\Anaconda\\lib\\site-packages\\pandas\\compat\\__init__.py\u001b[0m in \u001b[0;36mraise_with_traceback\u001b[1;34m(exc, traceback)\u001b[0m\n\u001b[0;32m    402\u001b[0m         \u001b[1;32mif\u001b[0m \u001b[0mtraceback\u001b[0m \u001b[1;33m==\u001b[0m \u001b[0mEllipsis\u001b[0m\u001b[1;33m:\u001b[0m\u001b[1;33m\u001b[0m\u001b[1;33m\u001b[0m\u001b[0m\n\u001b[0;32m    403\u001b[0m             \u001b[0m_\u001b[0m\u001b[1;33m,\u001b[0m \u001b[0m_\u001b[0m\u001b[1;33m,\u001b[0m \u001b[0mtraceback\u001b[0m \u001b[1;33m=\u001b[0m \u001b[0msys\u001b[0m\u001b[1;33m.\u001b[0m\u001b[0mexc_info\u001b[0m\u001b[1;33m(\u001b[0m\u001b[1;33m)\u001b[0m\u001b[1;33m\u001b[0m\u001b[1;33m\u001b[0m\u001b[0m\n\u001b[1;32m--> 404\u001b[1;33m         \u001b[1;32mraise\u001b[0m \u001b[0mexc\u001b[0m\u001b[1;33m.\u001b[0m\u001b[0mwith_traceback\u001b[0m\u001b[1;33m(\u001b[0m\u001b[0mtraceback\u001b[0m\u001b[1;33m)\u001b[0m\u001b[1;33m\u001b[0m\u001b[1;33m\u001b[0m\u001b[0m\n\u001b[0m\u001b[0;32m    405\u001b[0m \u001b[1;32melse\u001b[0m\u001b[1;33m:\u001b[0m\u001b[1;33m\u001b[0m\u001b[1;33m\u001b[0m\u001b[0m\n\u001b[0;32m    406\u001b[0m     \u001b[1;31m# this version of raise is a syntax error in Python 3\u001b[0m\u001b[1;33m\u001b[0m\u001b[1;33m\u001b[0m\u001b[1;33m\u001b[0m\u001b[0m\n",
      "\u001b[1;32m~\\Anaconda\\lib\\site-packages\\pandas\\io\\sql.py\u001b[0m in \u001b[0;36mexecute\u001b[1;34m(self, *args, **kwargs)\u001b[0m\n\u001b[0;32m   1376\u001b[0m                 \u001b[0mcur\u001b[0m\u001b[1;33m.\u001b[0m\u001b[0mexecute\u001b[0m\u001b[1;33m(\u001b[0m\u001b[1;33m*\u001b[0m\u001b[0margs\u001b[0m\u001b[1;33m,\u001b[0m \u001b[1;33m**\u001b[0m\u001b[0mkwargs\u001b[0m\u001b[1;33m)\u001b[0m\u001b[1;33m\u001b[0m\u001b[1;33m\u001b[0m\u001b[0m\n\u001b[0;32m   1377\u001b[0m             \u001b[1;32melse\u001b[0m\u001b[1;33m:\u001b[0m\u001b[1;33m\u001b[0m\u001b[1;33m\u001b[0m\u001b[0m\n\u001b[1;32m-> 1378\u001b[1;33m                 \u001b[0mcur\u001b[0m\u001b[1;33m.\u001b[0m\u001b[0mexecute\u001b[0m\u001b[1;33m(\u001b[0m\u001b[1;33m*\u001b[0m\u001b[0margs\u001b[0m\u001b[1;33m)\u001b[0m\u001b[1;33m\u001b[0m\u001b[1;33m\u001b[0m\u001b[0m\n\u001b[0m\u001b[0;32m   1379\u001b[0m             \u001b[1;32mreturn\u001b[0m \u001b[0mcur\u001b[0m\u001b[1;33m\u001b[0m\u001b[1;33m\u001b[0m\u001b[0m\n\u001b[0;32m   1380\u001b[0m         \u001b[1;32mexcept\u001b[0m \u001b[0mException\u001b[0m \u001b[1;32mas\u001b[0m \u001b[0mexc\u001b[0m\u001b[1;33m:\u001b[0m\u001b[1;33m\u001b[0m\u001b[1;33m\u001b[0m\u001b[0m\n",
      "\u001b[1;31mDatabaseError\u001b[0m: Execution failed on sql 'SELECT  Space_TweetId, Retweet_count, Favourite_Tweets_count FROM Elon_Space limit 3': no such column: ins.Space_TweetId"
     ]
    }
   ],
   "source": [
    "#-----------------------------\n",
    "# VIEW ON Followers\n",
    "#-----------------------------\n",
    "\n",
    "c.execute(\"CREATE VIEW IF NOT EXISTS Elon_Space AS SELECT ts.Tweets, ts.Space_TweetId,  ins.Retweet_count, ins.Favourite_Tweets_count FROM S_tweets_info ins JOIN S_tweets ts ON ins.Space_TweetId = ts.Space_TweetId\")\n",
    "pd.read_sql_query(\"SELECT  Space_TweetId, Retweet_count, Favourite_Tweets_count FROM Elon_Space limit 3\", con=conn)"
   ]
  },
  {
   "cell_type": "code",
   "execution_count": null,
   "metadata": {},
   "outputs": [],
   "source": [
    "\n"
   ]
  },
  {
   "cell_type": "code",
   "execution_count": 302,
   "metadata": {},
   "outputs": [],
   "source": [
    "#-----------------------------------------------------------------------\n",
    "# Retrieving Search data for User's company space X timeline\n",
    "# \n",
    "#-----------------------------------------------------------------------\n",
    "my_list_of_dicts = []\n",
    "for each_json_tweet in results2:\n",
    "    my_list_of_dicts.append(each_json_tweet._json)\n",
    "    with open('tweet_json.txt', 'w') as file:\n",
    "        file.write(json.dumps(my_list_of_dicts, indent=4))\n",
    "        my_demo_list= []\n",
    "with open('tweet_json.txt', encoding='utf-8') as json_file: \n",
    "    all_data1 = json.load(json_file)\n",
    "       \n",
    "    for each_dictionary in all_data1:\n",
    "        Space_TweetId = each_dictionary['id']\n",
    "        Tweets = each_dictionary['text']\n",
    "        Favourite_Tweets_count = each_dictionary['favorite_count']\n",
    "        Follower_count = each_dictionary['user']['followers_count']\n",
    "        Retweet_count = each_dictionary['retweet_count']\n",
    "        TweetTime = each_dictionary['created_at']\n",
    "        CompanyId = each_dictionary['user']['id']\n",
    "        CompanyName =each_dictionary['user']['name']\n",
    "        Description = each_dictionary['user']['description']\n",
    "        Favorites_count = each_dictionary['user']['favourites_count']\n",
    "        #Hashtags = each_dictionary['entities']['hashtags']       \n",
    "        my_demo_list.append({'Space_TweetId': str(Space_TweetId),\n",
    "                             'Tweets': str(Tweets),\n",
    "                             'Favourite_Tweets_count': int(Favourite_Tweets_count),\n",
    "                             'Retweet_count': int(Retweet_count),\n",
    "                             'CompanyId': int(CompanyId),\n",
    "                             #'Hashtags' : str(Hashtags),\n",
    "                             'Follower_count' : int(Follower_count),\n",
    "                             'CompanyName' : str(CompanyName),\n",
    "                             'Description' : str(Description),\n",
    "                             'TweetTime' :datetime.strptime(TweetTime,'%a %b %d %H:%M:%S +0000 %Y'),\n",
    "                             'Favorites_count' : int(Favorites_count)\n",
    "                            })\n",
    "        \n",
    "\n",
    "Company1 = pd.DataFrame(my_demo_list, columns = ['CompanyId', 'CompanyName','Description', 'Follower_count','Favorites_count','Space_TweetId', 'Tweets', 'TweetTime',\n",
    "                                                   'Favourite_Tweets_count','Retweet_count' \n",
    "                                                   #'Hashtags'\n",
    "                                                    \n",
    "                                                    ]) \n"
   ]
  },
  {
   "cell_type": "code",
   "execution_count": 303,
   "metadata": {},
   "outputs": [],
   "source": [
    "#------------------------------\n",
    "#Checking the first Normal Form\n",
    "#-------------------------------\n",
    "Company1 = pd.DataFrame(my_demo_list, columns = ['CompanyId', 'CompanyName','Description' ,'Follower_count','Favorites_count','Space_TweetId', 'Tweets', 'TweetTime',\n",
    "                                                   'Favourite_Tweets_count','Retweet_count' \n",
    "                                                   #'Hashtags'\n",
    "                                                    ]) \n",
    "\n",
    "\n",
    "#No Repeating groups = Done\n",
    "#Data Values are atomic = Done\n",
    "#Each field has different name = Done\n",
    "#It has a primary key = Done"
   ]
  },
  {
   "cell_type": "code",
   "execution_count": 304,
   "metadata": {},
   "outputs": [],
   "source": [
    "#----------------------------------------\n",
    "#Checking the second normal form (2NF)\n",
    "#-----------------------------------------\n",
    "Company1 = pd.DataFrame(my_demo_list, columns = ['CompanyId', 'CompanyName','Description' ,'Follower_count','Favorites_count','Space_TweetId', 'Tweets', 'TweetTime',\n",
    "                                                   'Favourite_Tweets_count','Retweet_count' \n",
    "                                                   #'Hashtags'\n",
    "                                                    \n",
    "                                                    ]) \n",
    "#Converting Company1 into second normal form\n",
    "\n",
    "Space_profile = pd.DataFrame(my_demo_list, columns = ['CompanyId', 'CompanyName','Description','Follower_count','Favorites_count']) \n",
    "\n",
    "Space_Tweets  = pd.DataFrame(my_demo_list, columns = ['Space_TweetId', 'Tweets', 'TweetTime','Favourite_Tweets_count','Retweet_count'])\n",
    "\n",
    "#It is in the First Normal Form =Done\n",
    "#All non key attributes are dependent on ALL parts of primary key =Done\n",
    "#Each Field has a unique name = done\n",
    "#It has a primary key = done"
   ]
  },
  {
   "cell_type": "code",
   "execution_count": 309,
   "metadata": {},
   "outputs": [],
   "source": [
    "#------------------------------\n",
    "#Checking third normal form\n",
    "#-------------------------------\n",
    "Space_Tweets  = pd.DataFrame(my_demo_list, columns = ['Space_TweetId', 'Tweets', 'TweetTime','Favourite_Tweets_count','Retweet_count'])\n",
    "\n",
    "#converting Tesla_Tweets to thrid normal form\n",
    "\n",
    "S_tweets = pd.DataFrame(my_demo_list, columns = ['Space_TweetId', 'Tweets', 'TweetTime'])\n",
    "\n",
    "S_tweets_info = pd.DataFrame(my_demo_list, columns = ['Space_TweetId', 'Favourite_Tweets_count','Retweet_count'])\n",
    "\n",
    "\n",
    "#It should be in second normal form = Done\n",
    "#All non-key attribute are not dependent on other non key attribute =Done\n",
    "#Each field has a unique name= done\n",
    "#Each field has a primary key = done"
   ]
  },
  {
   "cell_type": "code",
   "execution_count": 310,
   "metadata": {},
   "outputs": [],
   "source": [
    "#-------------------------------------\n",
    "# TABLE ON company SPACE X\n",
    "#-------------------------------------\n",
    "import sqlite3\n",
    "conn = sqlite3.connect(':memory:')\n",
    "c = conn.cursor()\n",
    "Space_profile.to_sql('Space_profile', con=conn, if_exists='replace')\n",
    "S_tweets.to_sql('S_tweets', con=conn, if_exists='replace')\n",
    "S_tweets_info.to_sql('S_tweets_info', con=conn, if_exists='replace')\n"
   ]
  },
  {
   "cell_type": "code",
   "execution_count": 311,
   "metadata": {},
   "outputs": [
    {
     "data": {
      "text/html": [
       "<div>\n",
       "<style scoped>\n",
       "    .dataframe tbody tr th:only-of-type {\n",
       "        vertical-align: middle;\n",
       "    }\n",
       "\n",
       "    .dataframe tbody tr th {\n",
       "        vertical-align: top;\n",
       "    }\n",
       "\n",
       "    .dataframe thead th {\n",
       "        text-align: right;\n",
       "    }\n",
       "</style>\n",
       "<table border=\"1\" class=\"dataframe\">\n",
       "  <thead>\n",
       "    <tr style=\"text-align: right;\">\n",
       "      <th></th>\n",
       "      <th>Space_TweetId</th>\n",
       "      <th>Retweet_count</th>\n",
       "      <th>Favourite_Tweets_count</th>\n",
       "    </tr>\n",
       "  </thead>\n",
       "  <tbody>\n",
       "    <tr>\n",
       "      <th>0</th>\n",
       "      <td>1104032250495004673</td>\n",
       "      <td>5592</td>\n",
       "      <td>39291</td>\n",
       "    </tr>\n",
       "    <tr>\n",
       "      <th>1</th>\n",
       "      <td>1104016731696054272</td>\n",
       "      <td>5942</td>\n",
       "      <td>0</td>\n",
       "    </tr>\n",
       "    <tr>\n",
       "      <th>2</th>\n",
       "      <td>1104015726812123137</td>\n",
       "      <td>6904</td>\n",
       "      <td>45177</td>\n",
       "    </tr>\n",
       "  </tbody>\n",
       "</table>\n",
       "</div>"
      ],
      "text/plain": [
       "         Space_TweetId  Retweet_count  Favourite_Tweets_count\n",
       "0  1104032250495004673           5592                   39291\n",
       "1  1104016731696054272           5942                       0\n",
       "2  1104015726812123137           6904                   45177"
      ]
     },
     "execution_count": 311,
     "metadata": {},
     "output_type": "execute_result"
    }
   ],
   "source": [
    "#-----------------------------\n",
    "# VIEW ON company SPACE X\n",
    "#-----------------------------\n",
    "\n",
    "\n",
    "c.execute(\"CREATE VIEW IF NOT EXISTS Elon_Space AS SELECT ts.Tweets, ts.Space_TweetId,  ins.Retweet_count, ins.Favourite_Tweets_count FROM S_tweets_info ins JOIN S_tweets ts ON ins.Space_TweetId = ts.Space_TweetId\")\n",
    "pd.read_sql_query(\"SELECT  Space_TweetId, Retweet_count, Favourite_Tweets_count FROM Elon_Space limit 3\", con=conn)"
   ]
  },
  {
   "cell_type": "code",
   "execution_count": 312,
   "metadata": {},
   "outputs": [
    {
     "data": {
      "text/plain": [
       "<sqlite3.Cursor at 0x167ffa5f030>"
      ]
     },
     "execution_count": 312,
     "metadata": {},
     "output_type": "execute_result"
    }
   ],
   "source": [
    "#-----------------------------\n",
    "# Index ON Space X\n",
    "#-----------------------------\n",
    "\n",
    "c.execute(\"CREATE INDEX IF NOT EXISTS IX_Elon_Space_Space_TweetId  ON S_tweets  (Space_TweetId ASC)\")"
   ]
  },
  {
   "cell_type": "code",
   "execution_count": 313,
   "metadata": {},
   "outputs": [],
   "source": [
    "#-----------------------------\n",
    "# Function ON Space X\n",
    "#-----------------------------\n",
    "\n",
    "\n",
    "#c.execute(\"CREATE function Elon_space_funct (i_Space_TweetId number) RETURN varchar2 AS v_TweetTime varchar2(50); BEGIN SELECT TweetTime INTO v_TweetTime FROM S_tweets WHERE Space_TweetId = i_Space_TweetId; RETURN v_Location; END;\")"
   ]
  },
  {
   "cell_type": "code",
   "execution_count": 314,
   "metadata": {},
   "outputs": [],
   "source": [
    "#-----------------------------\n",
    "# Procedure ON Space X\n",
    "#-----------------------------\n",
    "\n",
    "\n",
    "# c.execute(\"CREATE PROCEDURE IF NOT EXISTS sp_Retweet_count CURSOR c_Retweet_count IS SELECT ts.Tweets, ts.Space_TweetId,  ins.Retweet_count, ins.Favourite_Tweets_count FROM S_tweets_info ins JOIN S_tweets ts ON ins.Space_TweetId = ts.Space_TweetId begin FOR r_c_Retweet_count IN c_Retweet_count LOOP UPDATE Tweets SET Favourite_Tweets_count  = NULL ); END LOOP; END;\" ) \n"
   ]
  },
  {
   "cell_type": "code",
   "execution_count": 315,
   "metadata": {},
   "outputs": [],
   "source": [
    "#-----------------------------------------------------------------------\n",
    "# Retrieving Search data for User's company The Boring Company's timeline\n",
    "# \n",
    "#-----------------------------------------------------------------------\n",
    "my_list_of_dicts = []\n",
    "for each_json_tweet in results3:\n",
    "    my_list_of_dicts.append(each_json_tweet._json)\n",
    "    with open('tweet_json.txt', 'w') as file:\n",
    "        file.write(json.dumps(my_list_of_dicts, indent=4))\n",
    "        my_demo_list= []\n",
    "with open('tweet_json.txt', encoding='utf-8') as json_file:  \n",
    "    all_data2 = json.load(json_file)\n",
    "       \n",
    "    for each_dictionary in all_data2:\n",
    "        Bor_TweetId = each_dictionary['id']\n",
    "        Tweets = each_dictionary['text']\n",
    "        Favourite_Tweets_count = each_dictionary['favorite_count']\n",
    "        Follower_count = each_dictionary['user']['followers_count']\n",
    "        Retweet_count = each_dictionary['retweet_count']\n",
    "        TweetTime = each_dictionary['created_at']\n",
    "        CompanyId = each_dictionary['user']['id']\n",
    "        CompanyName = each_dictionary['user']['name']\n",
    "        Description = each_dictionary['user']['description']\n",
    "        Favorites_count = each_dictionary['user']['favourites_count']\n",
    "        \n",
    "        #Hashtags = each_dictionary['entities']['hashtags']       \n",
    "        my_demo_list.append({'Bor_TweetId': str(Bor_TweetId),\n",
    "                             'Tweets': str(Tweets),\n",
    "                             'Favourite_Tweets_count': int(Favourite_Tweets_count),\n",
    "                             'Retweet_count': int(Retweet_count),\n",
    "                             'CompanyId': int(CompanyId),\n",
    "                             #'Hashtags' : str(Hashtags),\n",
    "                             'Follower_count' : int(Follower_count),\n",
    "                             'CompanyName' : str(CompanyName),\n",
    "                             'Description' : str(Description),\n",
    "                             'TweetTime' :datetime.strptime(TweetTime,'%a %b %d %H:%M:%S +0000 %Y'),\n",
    "                             'Favorites_count' : int(Favorites_count),\n",
    "                             'Follower_count': int(Follower_count)\n",
    "                            })\n",
    "        \n",
    "\n",
    "Company2 = pd.DataFrame(my_demo_list, columns = ['CompanyId', 'CompanyName','Description','Follower_count', 'Bor_TweetId',\n",
    "                                                 'Tweets','Favourite_Tweets_count','Retweet_count', \n",
    "                                                 'TweetTime','Favorites_count'\n",
    "                                                   #'Hashtags'\n",
    "                                                ]) \n",
    "\n",
    "\n"
   ]
  },
  {
   "cell_type": "code",
   "execution_count": null,
   "metadata": {},
   "outputs": [],
   "source": []
  },
  {
   "cell_type": "code",
   "execution_count": 316,
   "metadata": {},
   "outputs": [],
   "source": [
    "#----------------------------------\n",
    "#Checking the first Normal Form\n",
    "#----------------------------------\n",
    "Company2 = pd.DataFrame(my_demo_list, columns = ['CompanyId', 'CompanyName','Description','Follower_count', 'Bor_TweetId',\n",
    "                                                 'Tweets','Favourite_Tweets_count','Retweet_count', \n",
    "                                                 'TweetTime','Favorites_count'\n",
    "                                                   #'Hashtags'\n",
    "\n",
    "                                                ]) \n",
    "\n",
    "#No Repeating groups = Done\n",
    "#Data Values are atomic = Done\n",
    "#Each field has different name = Done\n",
    "#It has a primary key = Done\n"
   ]
  },
  {
   "cell_type": "code",
   "execution_count": 317,
   "metadata": {},
   "outputs": [],
   "source": [
    "#--------------------------------------\n",
    "#Checking the second normal form (2NF)\n",
    "#---------------------------------------\n",
    "Company2 = pd.DataFrame(my_demo_list, columns = ['CompanyId', 'CompanyName','Description','Follower_count', 'Bor_TweetId',\n",
    "                                                 'Tweets','Favourite_Tweets_count','Retweet_count', \n",
    "                                                 'TweetTime','Favorites_count'\n",
    "                                                ]) \n",
    "\n",
    "#Converting Company2 dataframe into second normal form\n",
    "\n",
    "Boring_profile = pd.DataFrame(my_demo_list, columns = ['CompanyId', 'CompanyName','Description','Follower_count', 'Favorites_count']) \n",
    "\n",
    "Boring_info  = pd.DataFrame(my_demo_list, columns = [ 'Bor_TweetId','Tweets','Favourite_Tweets_count','Retweet_count', 'TweetTime']) \n",
    "\n",
    "\n",
    "#It is in the First Normal Form =Done\n",
    "#All non key attributes are dependent on ALL parts of primary key =Done\n",
    "#Each Field has a unique name = done\n",
    "#It has a primary key = done\n"
   ]
  },
  {
   "cell_type": "code",
   "execution_count": 318,
   "metadata": {},
   "outputs": [],
   "source": [
    "#------------------------------\n",
    "#Checking third normal form\n",
    "#-------------------------------\n",
    "\n",
    "Boring_info = pd.DataFrame(my_demo_list, columns = [ 'Bor_TweetId','Tweets', 'TweetTime','Favourite_Tweets_count','Retweet_count'])\n",
    "\n",
    "#converting Boring info into third normal form\n",
    "\n",
    "B_tweets = pd.DataFrame(my_demo_list, columns = [ 'Bor_TweetId','Tweets', 'TweetTime'])\n",
    "\n",
    "B_tweets_info = pd.DataFrame(my_demo_list, columns =['Bor_TweetId', 'Favourite_Tweets_count','Retweet_count' ])\n",
    "\n",
    "\n",
    "#It should be in second normal form = Done\n",
    "#All non-key attribute are not dependent on other non key attribute =Done\n",
    "#Each field has a unique name= done\n",
    "#Each field has a primary key = done\n"
   ]
  },
  {
   "cell_type": "code",
   "execution_count": 319,
   "metadata": {},
   "outputs": [],
   "source": [
    "#-------------------------------------\n",
    "# TABLE ON company THE BORING COMPANY\n",
    "#-------------------------------------\n",
    "import sqlite3\n",
    "conn = sqlite3.connect(':memory:')\n",
    "c = conn.cursor()\n",
    "Boring_profile.to_sql('Pay_profile', con=conn, if_exists='replace')\n",
    "B_tweets.to_sql('B_tweets', con=conn, if_exists='replace')\n",
    "B_tweets_info.to_sql('B_tweets_info', con=conn, if_exists='replace')\n"
   ]
  },
  {
   "cell_type": "code",
   "execution_count": 320,
   "metadata": {},
   "outputs": [
    {
     "data": {
      "text/html": [
       "<div>\n",
       "<style scoped>\n",
       "    .dataframe tbody tr th:only-of-type {\n",
       "        vertical-align: middle;\n",
       "    }\n",
       "\n",
       "    .dataframe tbody tr th {\n",
       "        vertical-align: top;\n",
       "    }\n",
       "\n",
       "    .dataframe thead th {\n",
       "        text-align: right;\n",
       "    }\n",
       "</style>\n",
       "<table border=\"1\" class=\"dataframe\">\n",
       "  <thead>\n",
       "    <tr style=\"text-align: right;\">\n",
       "      <th></th>\n",
       "      <th>Tweets</th>\n",
       "      <th>TweetTime</th>\n",
       "      <th>Favourite_Tweets_count</th>\n",
       "    </tr>\n",
       "  </thead>\n",
       "  <tbody>\n",
       "    <tr>\n",
       "      <th>0</th>\n",
       "      <td>Thank you to @LVCVA @LVCVAImpact – hope we can...</td>\n",
       "      <td>2019-03-06 22:51:54</td>\n",
       "      <td>4007</td>\n",
       "    </tr>\n",
       "    <tr>\n",
       "      <th>1</th>\n",
       "      <td>RT @LVCVAImpact: Exciting news: LVCVA is recom...</td>\n",
       "      <td>2019-03-06 18:40:59</td>\n",
       "      <td>0</td>\n",
       "    </tr>\n",
       "    <tr>\n",
       "      <th>2</th>\n",
       "      <td>TBC is hiring. Come dig with us! https://t.co/...</td>\n",
       "      <td>2019-01-10 21:41:38</td>\n",
       "      <td>2676</td>\n",
       "    </tr>\n",
       "  </tbody>\n",
       "</table>\n",
       "</div>"
      ],
      "text/plain": [
       "                                              Tweets            TweetTime  \\\n",
       "0  Thank you to @LVCVA @LVCVAImpact – hope we can...  2019-03-06 22:51:54   \n",
       "1  RT @LVCVAImpact: Exciting news: LVCVA is recom...  2019-03-06 18:40:59   \n",
       "2  TBC is hiring. Come dig with us! https://t.co/...  2019-01-10 21:41:38   \n",
       "\n",
       "   Favourite_Tweets_count  \n",
       "0                    4007  \n",
       "1                       0  \n",
       "2                    2676  "
      ]
     },
     "execution_count": 320,
     "metadata": {},
     "output_type": "execute_result"
    }
   ],
   "source": [
    "#-----------------------------\n",
    "# VIEW ON company THE BORING COMPANY\n",
    "#-----------------------------\n",
    "\n",
    "\n",
    "c.execute(\"CREATE VIEW IF NOT EXISTS Elon_Boring AS SELECT tb.Tweets, tb.TweetTime, inb.Retweet_count, inb.Favourite_Tweets_count FROM B_tweets_info inb JOIN B_tweets tb ON inb.Bor_TweetId = tb.Bor_TweetId  \")\n",
    "pd.read_sql_query(\"SELECT Tweets, TweetTime, Favourite_Tweets_count FROM Elon_Boring limit 3\", con=conn)"
   ]
  },
  {
   "cell_type": "code",
   "execution_count": 321,
   "metadata": {},
   "outputs": [
    {
     "data": {
      "text/plain": [
       "<sqlite3.Cursor at 0x167ffa69ce0>"
      ]
     },
     "execution_count": 321,
     "metadata": {},
     "output_type": "execute_result"
    }
   ],
   "source": [
    "#-----------------------------\n",
    "# Index ON The Boring Company\n",
    "#-----------------------------\n",
    "\n",
    "c.execute(\"CREATE INDEX IF NOT EXISTS IX_Elon_Boring_TweetTime  ON B_tweets  (Tweets,  TweetTime)\")"
   ]
  },
  {
   "cell_type": "code",
   "execution_count": 322,
   "metadata": {},
   "outputs": [],
   "source": [
    "#-----------------------------\n",
    "# Function ON The Boring Company\n",
    "#-----------------------------\n",
    "\n",
    "\n",
    "#c.execute(\"CREATE function Elon_boring_funct (i_Bor_TweetId number) RETURN varchar2 AS v_TweetTime varchar2(50); BEGIN SELECT TweetTime INTO v_TweetTime FROM S_tweets WHERE Bor_TweetId = i_Bor_TweetId; RETURN v_TweetTime; END;\")"
   ]
  },
  {
   "cell_type": "code",
   "execution_count": 323,
   "metadata": {},
   "outputs": [],
   "source": [
    "#-----------------------------\n",
    "# Procedure ON The Boring Company\n",
    "#-----------------------------\n",
    "\n",
    "\n",
    "# c.execute(\"CREATE PROCEDURE IF NOT EXISTS sp_TWEET_max CURSOR c_tweet_max IS SELECT max(tb.Tweets), tb.TweetTime, inb.Retweet_count, inb.Favourite_Tweets_count FROM B_tweets_info inb JOIN B_tweets tb ON inb.Bor_TweetId = tb.Bor_TweetId begin FOR r_c_tweet_max IN c_tweet_max LOOP UPDATE Tweets SET Tweets = ' ' ); END LOOP; END;\" ) \n"
   ]
  },
  {
   "cell_type": "code",
   "execution_count": 324,
   "metadata": {},
   "outputs": [],
   "source": [
    "#-----------------------------------------------------------------------\n",
    "# Retrieving Search data for User's company Paypal's timeline\n",
    "# \n",
    "#-----------------------------------------------------------------------\n",
    "my_list_of_dicts = []\n",
    "for each_json_tweet in results4:\n",
    "    my_list_of_dicts.append(each_json_tweet._json)\n",
    "    with open('tweet_json.txt', 'w') as file:\n",
    "        file.write(json.dumps(my_list_of_dicts, indent=4))\n",
    "        my_demo_list= []\n",
    "with open('tweet_json.txt', encoding='utf-8') as json_file:  \n",
    "    all_data3 = json.load(json_file)\n",
    "       \n",
    "    for each_dictionary in all_data3:\n",
    "        Pay_TweetId = each_dictionary['id']\n",
    "        Tweets = each_dictionary['text']\n",
    "        Favourite_Tweets_count = each_dictionary['favorite_count']\n",
    "        Follower_count = each_dictionary['user']['followers_count']\n",
    "        Retweet_count = each_dictionary['retweet_count']\n",
    "        TweetTime = each_dictionary['created_at']\n",
    "        CompanyId = each_dictionary['user']['id']\n",
    "        CompanyName =each_dictionary['user']['name']\n",
    "        Description =each_dictionary['user']['description']\n",
    "        Favorites_count = each_dictionary['user']['favourites_count']\n",
    "        #Hashtags = each_dictionary['entities']['hashtags']       \n",
    "        my_demo_list.append({'Pay_TweetId': str(Pay_TweetId),\n",
    "                             'Tweets': str(Tweets),\n",
    "                             'Favourite_Tweets_count': int(Favourite_Tweets_count),\n",
    "                             'Retweet_count': int(Retweet_count),\n",
    "                             'CompanyId': int(CompanyId),\n",
    "                             #'Hashtags' : str(Hashtags),\n",
    "                             'Follower_count' : int(Follower_count),\n",
    "                             'Favorites_count' : int(Favorites_count),\n",
    "                             'CompanyName' : str(CompanyName),\n",
    "                              'Description' : str(Description),\n",
    "                             'TweetTime': datetime.strptime(TweetTime,'%a %b %d %H:%M:%S +0000 %Y')\n",
    "                            })\n",
    "        \n",
    "\n",
    "Company3 = pd.DataFrame(my_demo_list, columns = ['CompanyId', 'CompanyName', 'Description' ,'Follower_count','Pay_TweetId',\n",
    "                                                 'Tweets', 'TweetTime', 'Favorites_count','Retweet_count', 'Favourite_Tweets_count'\n",
    "                                                 ]) \n"
   ]
  },
  {
   "cell_type": "code",
   "execution_count": 325,
   "metadata": {},
   "outputs": [],
   "source": [
    "Company3 = pd.DataFrame(my_demo_list, columns = ['CompanyId', 'CompanyName', 'Description' ,'Follower_count','Favorites_count',\n",
    "                                                 'Pay_TweetId', 'Tweets', 'TweetTime',\n",
    "                                                'Retweet_count', 'Favourite_Tweets_count'\n",
    "                                                 ]) \n",
    "\n",
    "#Checking the first Normal Form\n",
    "#No Repeating groups = Done\n",
    "#Data Values are atomic = Done\n",
    "#Each field has different name = Done\n",
    "#It has a primary key = Done"
   ]
  },
  {
   "cell_type": "code",
   "execution_count": 326,
   "metadata": {},
   "outputs": [],
   "source": [
    "Company3 = pd.DataFrame(my_demo_list, columns = ['CompanyId', 'CompanyName', 'Description' ,'Follower_count','Favorites_count',\n",
    "                                                 'Pay_TweetId', 'Tweets', 'TweetTime',\n",
    "                                                'Retweet_count', 'Favourite_Tweets_count'\n",
    "                                                 ]) \n",
    "#Converting Company3 into second normal form\n",
    "Pay_profile = pd.DataFrame(my_demo_list, columns = ['CompanyId', 'CompanyName', 'Description' ,'Follower_count','Favorites_count' ])\n",
    "\n",
    "Pay_info = pd.DataFrame(my_demo_list, columns = ['Pay_TweetId', 'Tweets', 'TweetTime','Retweet_count', 'Favourite_Tweets_count'\n",
    "                                                 ]) \n",
    "\n",
    "\n",
    "\n",
    "#Checking the second normal form (2NF)\n",
    "#It is in the First Normal Form =Done\n",
    "#All non key attributes are dependent on ALL parts of primary key =Done\n",
    "#Each Field has a unique name = done\n",
    "#It has a primary key = done\n"
   ]
  },
  {
   "cell_type": "code",
   "execution_count": 327,
   "metadata": {},
   "outputs": [],
   "source": [
    "Pay_info = pd.DataFrame(my_demo_list, columns = ['Pay_TweetId', 'Tweets', 'TweetTime','Retweet_count', 'Favourite_Tweets_count'\n",
    "                                                ]) \n",
    "#Converting Pay_info into third normal form\n",
    "P_tweets = pd.DataFrame(my_demo_list, columns = ['Pay_TweetId', 'Tweets', 'TweetTime'])\n",
    "\n",
    "P_tweets_info = pd.DataFrame(my_demo_list, columns = ['Pay_TweetId', 'Retweet_count', 'Favourite_Tweets_count'])\n",
    "\n",
    "#Checking third normal form\n",
    "#It should be in second normal form = Done\n",
    "#All non-key attribute are not dependent on other non key attribute =Done\n",
    "#Each field has a unique name= done\n",
    "#Each field has a primary key = done"
   ]
  },
  {
   "cell_type": "code",
   "execution_count": 328,
   "metadata": {},
   "outputs": [],
   "source": [
    "#-----------------------------\n",
    "# TABLE ON company PAYPAL\n",
    "#-----------------------------\n",
    "import sqlite3\n",
    "conn = sqlite3.connect(':memory:')\n",
    "c = conn.cursor()\n",
    "Pay_profile.to_sql('Pay_profile', con=conn, if_exists='replace')\n",
    "P_tweets.to_sql('P_tweets', con=conn, if_exists='replace')\n",
    "P_tweets_info.to_sql('P_tweets_info', con=conn, if_exists='replace')\n",
    "\n"
   ]
  },
  {
   "cell_type": "code",
   "execution_count": 329,
   "metadata": {},
   "outputs": [
    {
     "data": {
      "text/html": [
       "<div>\n",
       "<style scoped>\n",
       "    .dataframe tbody tr th:only-of-type {\n",
       "        vertical-align: middle;\n",
       "    }\n",
       "\n",
       "    .dataframe tbody tr th {\n",
       "        vertical-align: top;\n",
       "    }\n",
       "\n",
       "    .dataframe thead th {\n",
       "        text-align: right;\n",
       "    }\n",
       "</style>\n",
       "<table border=\"1\" class=\"dataframe\">\n",
       "  <thead>\n",
       "    <tr style=\"text-align: right;\">\n",
       "      <th></th>\n",
       "      <th>Tweets</th>\n",
       "      <th>Retweet_count</th>\n",
       "    </tr>\n",
       "  </thead>\n",
       "  <tbody>\n",
       "    <tr>\n",
       "      <th>0</th>\n",
       "      <td>If you need to stop a repeating payment on a b...</td>\n",
       "      <td>4</td>\n",
       "    </tr>\n",
       "    <tr>\n",
       "      <th>1</th>\n",
       "      <td>Have questions about #PayPal? Receive real-tim...</td>\n",
       "      <td>0</td>\n",
       "    </tr>\n",
       "    <tr>\n",
       "      <th>2</th>\n",
       "      <td>Don’t settle until you set foot in the perfect...</td>\n",
       "      <td>15</td>\n",
       "    </tr>\n",
       "  </tbody>\n",
       "</table>\n",
       "</div>"
      ],
      "text/plain": [
       "                                              Tweets  Retweet_count\n",
       "0  If you need to stop a repeating payment on a b...              4\n",
       "1  Have questions about #PayPal? Receive real-tim...              0\n",
       "2  Don’t settle until you set foot in the perfect...             15"
      ]
     },
     "execution_count": 329,
     "metadata": {},
     "output_type": "execute_result"
    }
   ],
   "source": [
    "#-----------------------------\n",
    "# VIEW ON company PAYPAL\n",
    "#-----------------------------\n",
    "c.execute(\"CREATE VIEW IF NOT EXISTS Elon_Paypal AS SELECT tp.Tweets, tp.TweetTime, inp.Retweet_count FROM P_tweets_info inp JOIN P_tweets tp ON inp.Pay_TweetId = tp.Pay_TweetId  \")\n",
    "pd.read_sql_query(\"SELECT Tweets, Retweet_count FROM Elon_Paypal limit 3\", con=conn)"
   ]
  },
  {
   "cell_type": "code",
   "execution_count": 330,
   "metadata": {},
   "outputs": [
    {
     "data": {
      "text/plain": [
       "<sqlite3.Cursor at 0x167ffa10490>"
      ]
     },
     "execution_count": 330,
     "metadata": {},
     "output_type": "execute_result"
    }
   ],
   "source": [
    "#-----------------------------\n",
    "# Index ON Paypal\n",
    "#-----------------------------\n",
    "\n",
    "c.execute(\"CREATE INDEX IF NOT EXISTS IX_Elon_Paypal_Retweet_count  ON P_tweets_info  (Retweet_count DESC)\")"
   ]
  },
  {
   "cell_type": "code",
   "execution_count": 331,
   "metadata": {},
   "outputs": [],
   "source": [
    "#-----------------------------\n",
    "# Function ON Paypal\n",
    "#-----------------------------\n",
    "\n",
    "\n",
    "#c.execute(\"CREATE function Elon_paypal_funct (i_Retweet_count number) RETURN varchar2 AS v_TweetTime varchar2(50); BEGIN SELECT TweetTime INTO v_TweetTime FROM S_tweets WHERE Pay_TweetId = i_Pay_TweetId; RETURN v_TweetTime; END;\")"
   ]
  },
  {
   "cell_type": "code",
   "execution_count": 332,
   "metadata": {},
   "outputs": [],
   "source": [
    "#-----------------------------\n",
    "# Procedure ON Paypal\n",
    "#-----------------------------\n",
    "\n",
    "\n",
    "# c.execute(\"CREATE PROCEDURE IF NOT EXISTS sp_TweetTime CURSOR c_TweetTime IS SELECT tp.Tweets, tp.TweetTime, inp.Retweet_count FROM P_tweets_info inp JOIN P_tweets tp ON inp.Pay_TweetId = tp.Pay_TweetId  begin FOR r_TweetTime IN c_TweetTime LOOP UPDATE Tweets SET Tweets = ' ' ); END LOOP; END;\" ) \n"
   ]
  },
  {
   "cell_type": "code",
   "execution_count": 333,
   "metadata": {},
   "outputs": [],
   "source": [
    "#-----------------------------------------------------------------------\n",
    "# Retrieving Search data for User's company Tesla's timeline\n",
    "# \n",
    "#-----------------------------------------------------------------------\n",
    "my_list_of_dicts = []\n",
    "for each_json_tweet in results1:\n",
    "    my_list_of_dicts.append(each_json_tweet._json)\n",
    "    with open('tweet_json.txt', 'w') as file:\n",
    "        file.write(json.dumps(my_list_of_dicts, indent=4))\n",
    "        my_demo_list= []\n",
    "with open('tweet_json.txt', encoding='utf-8') as json_file:  \n",
    "    all_data4 = json.load(json_file)\n",
    "    \n",
    "    for each_dictionary in all_data4:\n",
    "        Tesla_TweetId = each_dictionary['id']\n",
    "        Tweets = each_dictionary['text']\n",
    "        Favourite_Tweets_count = each_dictionary['favorite_count']\n",
    "        Follower_count = each_dictionary['user']['followers_count']\n",
    "        Retweet_count = each_dictionary['retweet_count']\n",
    "        TweetTime = each_dictionary['created_at']\n",
    "        CompanyId = each_dictionary['user']['id']\n",
    "        CompanyName =each_dictionary['user']['name']\n",
    "        Description =each_dictionary['user']['description']\n",
    "        Favorites_count = each_dictionary['user']['favourites_count']\n",
    "        #Hashtags = each_dictionary['entities']['hashtags']       \n",
    "        my_demo_list.append({'Pay_TweetId': str(Tesla_TweetId),\n",
    "                             'Tweets': str(Tweets),\n",
    "                             'Favourite_Tweets_count': int(Favourite_Tweets_count),\n",
    "                             'Retweet_count': int(Retweet_count),\n",
    "                             'CompanyId': int(CompanyId),\n",
    "                             #'Hashtags' : str(Hashtags),\n",
    "                             'Follower_count' : int(Follower_count),\n",
    "                             'Favorites_count' : int(Favorites_count),\n",
    "                             'CompanyName' : str(CompanyName),\n",
    "                              'Description' : str(Description),\n",
    "                             'TweetTime': datetime.strptime(TweetTime,'%a %b %d %H:%M:%S +0000 %Y')\n",
    "                            })\n",
    "\n",
    "Company4 = pd.DataFrame(my_demo_list, columns = ['CompanyId', 'CompanyName', 'Description' ,'Follower_count','Favorites_count',\n",
    "                                                 'Tesla_TweetId', 'Tweets', 'TweetTime',\n",
    "                                                'Retweet_count', 'Favourite_Tweets_count'\n",
    "                                                 ]) \n",
    "\n"
   ]
  },
  {
   "cell_type": "code",
   "execution_count": 334,
   "metadata": {},
   "outputs": [],
   "source": [
    "Company4 = pd.DataFrame(my_demo_list, columns = ['CompanyId', 'CompanyName', 'Description' ,'Follower_count','Favorites_count',\n",
    "                                                 'Tesla_TweetId', 'Tweets', 'TweetTime',\n",
    "                                                'Retweet_count', 'Favourite_Tweets_count'\n",
    "                                                 ]) \n",
    "\n",
    "#Checking the first Normal Form\n",
    "#No Repeating groups = Done\n",
    "#Data Values are atomic = Done\n",
    "#Each field has different name = Done\n",
    "#It has a primary key = Done"
   ]
  },
  {
   "cell_type": "code",
   "execution_count": 335,
   "metadata": {},
   "outputs": [],
   "source": [
    "Company4 = pd.DataFrame(my_demo_list, columns = ['CompanyId', 'CompanyName', 'Description' ,'Follower_count','Favorites_count',\n",
    "                                                 'Tesla_TweetId', 'Tweets', 'TweetTime',\n",
    "                                                'Retweet_count', 'Favourite_Tweets_count'\n",
    "                                                 ]) \n",
    "#converting Company4 ino second normal form\n",
    "\n",
    "Tesla_profile = pd.DataFrame(my_demo_list, columns = ['CompanyId', 'CompanyName', 'Description' ,'Follower_count','Favorites_count'])\n",
    "\n",
    "Tesla_info = pd.DataFrame(my_demo_list, columns = ['Tesla_TweetId', 'Tweets', 'TweetTime','Retweet_count', 'Favourite_Tweets_count', 'CompanyName' ]) \n",
    "\n",
    "\n",
    "#Checking the second normal form (2NF)\n",
    "#It is in the First Normal Form =Done\n",
    "#All non key attributes are dependent on ALL parts of primary key =Done\n",
    "#Each Field has a unique name = done\n",
    "#It has a primary key = done"
   ]
  },
  {
   "cell_type": "code",
   "execution_count": 336,
   "metadata": {},
   "outputs": [],
   "source": [
    "Tesla_info = pd.DataFrame(my_demo_list, columns = ['Pay_TweetId', 'Tweets', 'TweetTime','Retweet_count', 'Favourite_Tweets_count', 'CompanyName' ]) \n",
    "\n",
    "#converting Company3 ino second normal form\n",
    "\n",
    "T_tweets = pd.DataFrame(my_demo_list, columns = ['Pay_TweetId', 'Tweets', 'TweetTime', 'CompanyName'])\n",
    "\n",
    "T_tweets_info = pd.DataFrame(my_demo_list, columns = ['Pay_TweetId', 'Retweet_count', 'Favourite_Tweets_count', 'CompanyName' ])\n",
    "\n",
    "#Checking third normal form\n",
    "#It should be in second normal form = Done\n",
    "#All non-key attribute are not dependent on other non key attribute = Done\n",
    "#Each field has a unique name= done\n",
    "#Each field has a primary key = done"
   ]
  },
  {
   "cell_type": "code",
   "execution_count": 337,
   "metadata": {},
   "outputs": [],
   "source": [
    "#-----------------------------\n",
    "# TABLE ON company TESLA\n",
    "#-----------------------------\n",
    "import sqlite3\n",
    "conn = sqlite3.connect(':memory:')\n",
    "c = conn.cursor()\n",
    "Tesla_profile.to_sql('Tesla_profile', con=conn, if_exists='replace')\n",
    "T_tweets.to_sql('T_tweets', con=conn, if_exists='replace')\n",
    "T_tweets_info.to_sql('T_tweets_info', con=conn, if_exists='replace')"
   ]
  },
  {
   "cell_type": "code",
   "execution_count": 338,
   "metadata": {},
   "outputs": [
    {
     "data": {
      "text/html": [
       "<div>\n",
       "<style scoped>\n",
       "    .dataframe tbody tr th:only-of-type {\n",
       "        vertical-align: middle;\n",
       "    }\n",
       "\n",
       "    .dataframe tbody tr th {\n",
       "        vertical-align: top;\n",
       "    }\n",
       "\n",
       "    .dataframe thead th {\n",
       "        text-align: right;\n",
       "    }\n",
       "</style>\n",
       "<table border=\"1\" class=\"dataframe\">\n",
       "  <thead>\n",
       "    <tr style=\"text-align: right;\">\n",
       "      <th></th>\n",
       "      <th>Tweets</th>\n",
       "      <th>Favourite_Tweets_count</th>\n",
       "    </tr>\n",
       "  </thead>\n",
       "  <tbody>\n",
       "    <tr>\n",
       "      <th>0</th>\n",
       "      <td>@wonderofscience Whoa 😮</td>\n",
       "      <td>110</td>\n",
       "    </tr>\n",
       "    <tr>\n",
       "      <th>1</th>\n",
       "      <td>https://t.co/dN919zrsi9</td>\n",
       "      <td>1821</td>\n",
       "    </tr>\n",
       "    <tr>\n",
       "      <th>2</th>\n",
       "      <td>https://t.co/JNQ9fjJL75</td>\n",
       "      <td>2007</td>\n",
       "    </tr>\n",
       "  </tbody>\n",
       "</table>\n",
       "</div>"
      ],
      "text/plain": [
       "                    Tweets  Favourite_Tweets_count\n",
       "0  @wonderofscience Whoa 😮                     110\n",
       "1  https://t.co/dN919zrsi9                    1821\n",
       "2  https://t.co/JNQ9fjJL75                    2007"
      ]
     },
     "execution_count": 338,
     "metadata": {},
     "output_type": "execute_result"
    }
   ],
   "source": [
    "#-----------------------------\n",
    "# VIEW ON company TESLA\n",
    "#-----------------------------\n",
    "c.execute(\"CREATE VIEW IF NOT EXISTS Elon_Tesla AS SELECT tw.Tweets, inf.Favourite_Tweets_count FROM T_tweets_info inf JOIN T_tweets tw ON inf.Pay_TweetId = tw.Pay_TweetId\")\n",
    "\n",
    "pd.read_sql_query(\"SELECT * FROM Elon_Tesla limit 3\", con=conn)"
   ]
  },
  {
   "cell_type": "code",
   "execution_count": 339,
   "metadata": {},
   "outputs": [
    {
     "data": {
      "text/plain": [
       "<sqlite3.Cursor at 0x167fe3ad9d0>"
      ]
     },
     "execution_count": 339,
     "metadata": {},
     "output_type": "execute_result"
    }
   ],
   "source": [
    "#-----------------------------\n",
    "# Index ON Tesla\n",
    "#-----------------------------\n",
    "\n",
    "c.execute(\"CREATE INDEX IF NOT EXISTS IX_Elon_Tesla_Favourite_Tweets_count  ON T_tweets_info  (Favourite_Tweets_count)\")"
   ]
  },
  {
   "cell_type": "code",
   "execution_count": 340,
   "metadata": {},
   "outputs": [],
   "source": [
    "#-----------------------------\n",
    "# Function ON Tesla\n",
    "#-----------------------------\n",
    "\n",
    "\n",
    "#c.execute(\"CREATE function Elon_tesla_funct (i_Retweet_count number) RETURN varchar2 AS v_TweetTime varchar2(50); BEGIN SELECT TweetTime INTO v_TweetTime FROM S_tweets WHERE tesla_TweetId = i_tesla_TweetId; RETURN v_TweetTime; END;\")"
   ]
  },
  {
   "cell_type": "code",
   "execution_count": 341,
   "metadata": {},
   "outputs": [],
   "source": [
    "#-----------------------------\n",
    "# Procedure ON Tesla\n",
    "#-----------------------------\n",
    "\n",
    "\n",
    "# c.execute(\"CREATE PROCEDURE IF NOT EXISTS sp_Favourite_Tweets_count CURSOR c_Favourite_Tweets_count IS SELECT tw.Tweets, inf.Favourite_Tweets_count FROM T_tweets_info inf JOIN T_tweets tw ON inf.Pay_TweetId = tw.Pay_TweetId begin FOR r_Favourite_Tweets_count IN c_Favourite_Tweets_count LOOP UPDATE Tweets SET Tweets = ' ' ); END LOOP; END;\" ) \n"
   ]
  },
  {
   "cell_type": "code",
   "execution_count": null,
   "metadata": {},
   "outputs": [],
   "source": []
  }
 ],
 "metadata": {
  "kernelspec": {
   "display_name": "Python 3",
   "language": "python",
   "name": "python3"
  },
  "language_info": {
   "codemirror_mode": {
    "name": "ipython",
    "version": 3
   },
   "file_extension": ".py",
   "mimetype": "text/x-python",
   "name": "python",
   "nbconvert_exporter": "python",
   "pygments_lexer": "ipython3",
   "version": "3.7.1"
  }
 },
 "nbformat": 4,
 "nbformat_minor": 2
}
